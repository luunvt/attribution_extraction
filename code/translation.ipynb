{
 "cells": [
  {
   "cell_type": "code",
   "execution_count": 1,
   "id": "f345ffe2-d0af-48f5-aa4e-4afd33b4353b",
   "metadata": {
    "tags": []
   },
   "outputs": [
    {
     "name": "stdout",
     "output_type": "stream",
     "text": [
      "Mon Jun 12 09:32:03 2023       \n",
      "+-----------------------------------------------------------------------------+\n",
      "| NVIDIA-SMI 520.61.05    Driver Version: 520.61.05    CUDA Version: 11.8     |\n",
      "|-------------------------------+----------------------+----------------------+\n",
      "| GPU  Name        Persistence-M| Bus-Id        Disp.A | Volatile Uncorr. ECC |\n",
      "| Fan  Temp  Perf  Pwr:Usage/Cap|         Memory-Usage | GPU-Util  Compute M. |\n",
      "|                               |                      |               MIG M. |\n",
      "|===============================+======================+======================|\n",
      "|   0  NVIDIA GeForce ...  On   | 00000000:01:00.0  On |                  N/A |\n",
      "| 71%   65C    P2   149W / 170W |  11242MiB / 12288MiB |     99%      Default |\n",
      "|                               |                      |                  N/A |\n",
      "+-------------------------------+----------------------+----------------------+\n",
      "                                                                               \n",
      "+-----------------------------------------------------------------------------+\n",
      "| Processes:                                                                  |\n",
      "|  GPU   GI   CI        PID   Type   Process name                  GPU Memory |\n",
      "|        ID   ID                                                   Usage      |\n",
      "|=============================================================================|\n",
      "|    0   N/A  N/A      1217      G   /usr/lib/xorg/Xorg                 59MiB |\n",
      "|    0   N/A  N/A      1702      G   /usr/lib/xorg/Xorg                322MiB |\n",
      "|    0   N/A  N/A      1834      G   /usr/bin/gnome-shell              116MiB |\n",
      "|    0   N/A  N/A   1123100      C   python                          10442MiB |\n",
      "|    0   N/A  N/A   3313266    C+G   ...425343470614401940,262144      237MiB |\n",
      "|    0   N/A  N/A   3474735      G   ...p.4.7.1/Telegram/Telegram        2MiB |\n",
      "|    0   N/A  N/A   3783304      G   ...RendererForSitePerProcess       43MiB |\n",
      "+-----------------------------------------------------------------------------+\n"
     ]
    }
   ],
   "source": [
    "!nvidia-smi"
   ]
  },
  {
   "cell_type": "code",
   "execution_count": null,
   "id": "26ebc8da-572e-4e50-bd33-a72799900a3a",
   "metadata": {},
   "outputs": [],
   "source": []
  }
 ],
 "metadata": {
  "kernelspec": {
   "display_name": "one_for_all",
   "language": "python",
   "name": "one_for_all"
  },
  "language_info": {
   "codemirror_mode": {
    "name": "ipython",
    "version": 3
   },
   "file_extension": ".py",
   "mimetype": "text/x-python",
   "name": "python",
   "nbconvert_exporter": "python",
   "pygments_lexer": "ipython3",
   "version": "3.8.10"
  }
 },
 "nbformat": 4,
 "nbformat_minor": 5
}
