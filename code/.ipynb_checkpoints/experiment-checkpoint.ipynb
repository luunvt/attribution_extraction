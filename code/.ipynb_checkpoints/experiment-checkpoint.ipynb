{
 "cells": [
  {
   "cell_type": "code",
   "execution_count": 2,
   "metadata": {},
   "outputs": [
    {
     "name": "stdout",
     "output_type": "stream",
     "text": [
      "Hello world!\n"
     ]
    },
    {
     "name": "stderr",
     "output_type": "stream",
     "text": [
      "/home/tanluuuuuuu/miniconda3/envs/competitor/lib/python3.8/site-packages/tqdm/auto.py:21: TqdmWarning: IProgress not found. Please update jupyter and ipywidgets. See https://ipywidgets.readthedocs.io/en/stable/user_install.html\n",
      "  from .autonotebook import tqdm as notebook_tqdm\n"
     ]
    }
   ],
   "source": [
    "import torch\n",
    "import sklearn\n",
    "import transformers\n",
    "\n",
    "print(\"Hello world!\")"
   ]
  },
  {
   "cell_type": "code",
   "execution_count": null,
   "metadata": {},
   "outputs": [],
   "source": [
    "from transformers import AutoTokenizer, BertModel\n",
    "import torch\n",
    "\n",
    "tokenizer = AutoTokenizer.from_pretrained(\"bert-base-uncased\")\n",
    "model = BertModel.from_pretrained(\"bert-base-uncased\")\n",
    "\n",
    "inputs = tokenizer(\"B07612JMYP_B0B4MV3HVZ\", return_tensors=\"pt\")\n",
    "print(tokenizer.convert_ids_to_tokens(inputs['input_ids'][0]))\n",
    "outputs = model(**inputs)\n",
    "print(outputs)"
   ]
  },
  {
   "cell_type": "code",
   "execution_count": null,
   "metadata": {},
   "outputs": [],
   "source": [
    "asin = \"B07612JMYP_B0B4MV3HVZ\"\n",
    "asin_to_num = [ord(c) for c in asin]\n",
    "asin_to_num"
   ]
  },
  {
   "cell_type": "code",
   "execution_count": null,
   "metadata": {},
   "outputs": [],
   "source": [
    "import torch\n",
    "import torch.nn as nn\n",
    "import torch.nn.functional as F"
   ]
  },
  {
   "cell_type": "code",
   "execution_count": 41,
   "metadata": {},
   "outputs": [
    {
     "name": "stderr",
     "output_type": "stream",
     "text": [
      "/home/tanluuuuuuu/miniconda3/envs/competitor/lib/python3.8/site-packages/torchvision/transforms/functional.py:1603: UserWarning: The default value of the antialias parameter of all the resizing transforms (Resize(), RandomResizedCrop(), etc.) will change from None to True in v0.17, in order to be consistent across the PIL and Tensor backends. To suppress this warning, directly pass antialias=True (recommended, future default), antialias=None (current default, which means False for Tensors and True for PIL), or antialias=False (only works on Tensors - PIL will still use antialiasing). This also applies if you are using the inference transforms from the models weights: update the call to weights.transforms(antialias=True).\n",
      "  warnings.warn(\n"
     ]
    },
    {
     "name": "stdout",
     "output_type": "stream",
     "text": [
      "[[0.59535503]]\n"
     ]
    }
   ],
   "source": [
    "from torchvision.io import read_image\n",
    "from torchvision.models import vit_b_16, ViT_B_16_Weights\n",
    "from torchvision.models.feature_extraction import create_feature_extractor\n",
    "from sklearn.metrics.pairwise import cosine_similarity\n",
    "\n",
    "weights = ViT_B_16_Weights.DEFAULT\n",
    "model_vit = vit_b_16(weights=weights)\n",
    "model_vit.eval()\n",
    "\n",
    "return_nodes = {\n",
    "    \"getitem_5\": \"output\"\n",
    "}\n",
    "model_vit = create_feature_extractor(model_vit, return_nodes=return_nodes)\n",
    "preprocess = weights.transforms()\n",
    "\n",
    "def return_image_embedding_VIT(img):\n",
    "    if isinstance(img, str):\n",
    "        img = read_image(img)\n",
    "    batch = preprocess(img).unsqueeze(0)\n",
    "    preds = model_vit(batch)['output'].squeeze(0).detach().numpy()\n",
    "    return preds\n",
    "\n",
    "emb1 = return_image_embedding_VIT(\"/home/tanluuuuuuu/Desktop/B00NLS0L0M.jpg\")\n",
    "emb2 = return_image_embedding_VIT(\"/home/tanluuuuuuu/Desktop/B00I6CRMOQ.jpg\")\n",
    "\n",
    "print(cosine_similarity([emb1], [emb2]))"
   ]
  }
 ],
 "metadata": {
  "kernelspec": {
   "display_name": "Python 3 (ipykernel)",
   "language": "python",
   "name": "python3"
  },
  "language_info": {
   "codemirror_mode": {
    "name": "ipython",
    "version": 3
   },
   "file_extension": ".py",
   "mimetype": "text/x-python",
   "name": "python",
   "nbconvert_exporter": "python",
   "pygments_lexer": "ipython3",
   "version": "3.8.10"
  }
 },
 "nbformat": 4,
 "nbformat_minor": 4
}
