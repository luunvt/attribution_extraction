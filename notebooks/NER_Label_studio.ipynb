{
 "cells": [
  {
   "cell_type": "markdown",
   "metadata": {},
   "source": [
    "## FiX DATA"
   ]
  },
  {
   "cell_type": "code",
   "execution_count": 442,
   "metadata": {},
   "outputs": [],
   "source": [
    "import json\n",
    "\n",
    "f = open(\"../data/label_ner_1_1015.json\")\n",
    "\n",
    "\n",
    "def adding_space(s):\n",
    "    single_description = s.lower().strip()\n",
    "    new_description = []\n",
    "    last_special = -1\n",
    "    for idx, letter in enumerate(single_description):\n",
    "        if not (('a' <= letter and letter <= 'z') or ('0' <= letter and letter <= '9') or letter == ' '):\n",
    "            pretext = single_description[last_special + 1:idx].strip()\n",
    "            if pretext != '' and pretext != ' ':\n",
    "                new_description.append(pretext)\n",
    "            new_description.append(letter.strip())\n",
    "            last_special = idx\n",
    "        if idx == len(single_description) - 1:\n",
    "            new_description.append(\n",
    "                single_description[last_special + 1:idx + 1].strip())\n",
    "\n",
    "    new_description = ' '.join(new_description).lower().strip()\n",
    "    return new_description\n",
    "\n",
    "\n",
    "list_data = json.load(f)\n",
    "list_sentence = []\n",
    "list_locs = []\n",
    "list_words = []\n",
    "list_id = []\n",
    "debug_id = None\n",
    "for i_list_data, data in enumerate(list_data):\n",
    "    if debug_id is not None and i_list_data == debug_id:\n",
    "        print(list_data[debug_id]['data']['text'])\n",
    "    original_description = data['data']['text']\n",
    "    original_annotations = data['annotations']\n",
    "\n",
    "    new_description = adding_space(original_description)\n",
    "    if debug_id is not None and i_list_data == debug_id:\n",
    "        print(new_description)\n",
    "    locs = []\n",
    "    words = []\n",
    "    set_new_locations = set()\n",
    "    for annotation in original_annotations:\n",
    "        results = annotation['result']\n",
    "        for ia, result in enumerate(results):\n",
    "            label = result['value']['labels'][0]\n",
    "            org_start = result['value']['start']\n",
    "            org_end = result['value']['end']\n",
    "            org_word = result['value']['text'].lower().strip()\n",
    "            new_word = adding_space(org_word)\n",
    "            if debug_id is not None and i_list_data == debug_id:\n",
    "                # print(new_word)\n",
    "                pass\n",
    "            word_len = len(new_word)\n",
    "            new_start = None\n",
    "            new_end = None\n",
    "            # find_res = new_description[org_start:].find(new_word)\n",
    "            if debug_id is not None and i_list_data == debug_id:\n",
    "                print(\"Finding word: \", new_word)\n",
    "                print(\"Finding pool: \", new_description[org_start:])\n",
    "            for i in range(org_start, len(new_description)):\n",
    "                # if debug_id is not None and new_word == 'boy':\n",
    "                #     print(new_description[i:i+word_len])\n",
    "                if new_description[i:i+word_len] == new_word and (i, i+word_len) not in set_new_locations:\n",
    "                    if i - 1 >= 0 and 'a' <= new_description[i - 1].lower() and new_description[i - 1].lower() <= 'z':\n",
    "                        continue\n",
    "                    if i + word_len < len(new_description) and 'a' <= new_description[i + word_len].lower() and new_description[i + word_len].lower() <= 'z':\n",
    "                        continue\n",
    "                    new_start = i\n",
    "                    new_end = i + word_len\n",
    "                    set_new_locations.add((new_start, new_end))\n",
    "                    list_data[i_list_data]['annotations'][0]['result'][ia]['value']['text'] = new_word\n",
    "                    list_data[i_list_data]['annotations'][0]['result'][ia]['value']['start'] = new_start\n",
    "                    list_data[i_list_data]['annotations'][0]['result'][ia]['value']['end'] = new_end\n",
    "                    if debug_id is not None and i_list_data == debug_id:\n",
    "                        print(\"Founded word: \", new_description[new_start:new_end])\n",
    "                        pass\n",
    "                    break\n",
    "    list_data[i_list_data]['data']['text'] = new_description\n",
    "    if len(set_new_locations) != len(annotation['result']):\n",
    "        # print(set_new_locations)\n",
    "        # display(annotation['result'])\n",
    "        print(\"Wrong relabeled data: \", i_list_data)\n",
    "        # print(original_description)\n",
    "        # print(new_description)\n",
    "        # display(original_annotations)\n",
    "        # print(set_new_locations)\n",
    "        # display(annotation['result'])\n",
    "        continue"
   ]
  },
  {
   "cell_type": "code",
   "execution_count": 443,
   "metadata": {},
   "outputs": [],
   "source": [
    "with open(\"../data/label_ner_1_1015_fixed.json\", \"w\") as outfile:\n",
    "    json.dump(list_data, outfile)"
   ]
  },
  {
   "cell_type": "markdown",
   "metadata": {},
   "source": [
    "## TRAIN BERT"
   ]
  },
  {
   "cell_type": "code",
   "execution_count": 1,
   "metadata": {
    "tags": []
   },
   "outputs": [
    {
     "name": "stdout",
     "output_type": "stream",
     "text": [
      "CUDA:  True\n"
     ]
    }
   ],
   "source": [
    "import torch\n",
    "import pandas as pd\n",
    "\n",
    "print(\"CUDA: \", torch.cuda.is_available())"
   ]
  },
  {
   "cell_type": "code",
   "execution_count": 2,
   "metadata": {
    "tags": []
   },
   "outputs": [
    {
     "name": "stderr",
     "output_type": "stream",
     "text": [
      "Special tokens have been added in the vocabulary, make sure the associated word embeddings are fine-tuned or trained.\n",
      "/home/tanluuuuuuu/miniconda3/envs/one_for_all/lib/python3.8/site-packages/transformers/convert_slow_tokenizer.py:454: UserWarning: The sentencepiece tokenizer that you are converting to a fast tokenizer uses the byte fallback option which is not implemented in the fast tokenizers. In practice this means that the fast version of the tokenizer can produce unknown tokens whereas the sentencepiece version would have converted these unknown tokens into a sequence of byte tokens matching the original piece of text.\n",
      "  warnings.warn(\n",
      "Special tokens have been added in the vocabulary, make sure the associated word embeddings are fine-tuned or trained.\n"
     ]
    }
   ],
   "source": [
    "from transformers import AutoTokenizer\n",
    "\n",
    "# https://huggingface.co/docs/transformers/tasks/token_classification\n",
    "# model_checkpoint = \"distilbert-base-uncased\"\n",
    "# model_checkpoint = \"./bert-finetuned-ner\"\n",
    "# model_checkpoint = \"bert-base-cased\"\n",
    "# model_checkpoint = \"dslim/bert-base-NER\"\n",
    "# model_checkpoint = \"roberta-base\"\n",
    "model_checkpoint = \"microsoft/deberta-v3-large\"\n",
    "\n",
    "tokenizer = AutoTokenizer.from_pretrained(model_checkpoint)"
   ]
  },
  {
   "cell_type": "code",
   "execution_count": 3,
   "metadata": {},
   "outputs": [],
   "source": [
    "REMOVE_LABELS = ['AGE_GROUP', 'GENDER', 'FEATURE', 'TARGET_USAGE', 'MAIN_PRODUCT', 'COMPONENT']"
   ]
  },
  {
   "cell_type": "code",
   "execution_count": 4,
   "metadata": {},
   "outputs": [
    {
     "name": "stdout",
     "output_type": "stream",
     "text": [
      "MAT\n",
      "NMAT\n",
      "DIMENSION\n",
      "COMPONENT\n",
      "MAIN_PRODUCT\n",
      "WEIGHT\n",
      "TARGET_USER\n",
      "PROPERTY\n",
      "COLOR\n",
      "SHAPE\n",
      "['O', 'B-MAT', 'I-MAT', 'B-NMAT', 'I-NMAT', 'B-DIMENSION', 'I-DIMENSION', 'B-WEIGHT', 'I-WEIGHT', 'B-TARGET_USER', 'I-TARGET_USER', 'B-PROPERTY', 'I-PROPERTY', 'B-COLOR', 'I-COLOR', 'B-SHAPE', 'I-SHAPE']\n",
      "17\n"
     ]
    }
   ],
   "source": [
    "ner_tags_doccano = [\n",
    "    {\n",
    "        \"id\": 6,\n",
    "        \"text\": \"MAT\",\n",
    "\n",
    "    },\n",
    "    {\n",
    "        \"id\": 7,\n",
    "        \"text\": \"NMAT\",\n",
    "\n",
    "    },\n",
    "    {\n",
    "        \"id\": 8,\n",
    "        \"text\": \"DIMENSION\",\n",
    "\n",
    "    },\n",
    "    {\n",
    "        \"id\": 11,\n",
    "        \"text\": \"COMPONENT\",\n",
    "\n",
    "    },\n",
    "    {\n",
    "        \"id\": 13,\n",
    "        \"text\": \"MAIN_PRODUCT\",\n",
    "\n",
    "    },\n",
    "    {\n",
    "        \"id\": 14,\n",
    "        \"text\": \"WEIGHT\",\n",
    "\n",
    "    },\n",
    "    {\n",
    "        \"id\": 15,\n",
    "        \"text\": \"TARGET_USER\",\n",
    "\n",
    "    },\n",
    "    {\n",
    "        \"id\": 17,\n",
    "        \"text\": \"PROPERTY\",\n",
    "\n",
    "    },\n",
    "    {\n",
    "        \"id\": 18,\n",
    "        \"text\": \"COLOR\",\n",
    "\n",
    "    },\n",
    "    {\n",
    "        \"id\": 19,\n",
    "        \"text\": \"SHAPE\",\n",
    "\n",
    "    }\n",
    "]\n",
    "\n",
    "processed_ner_tags = ['O']\n",
    "for tag in ner_tags_doccano:\n",
    "    if tag['text'] not in REMOVE_LABELS:\n",
    "        processed_ner_tags.append(f\"B-{tag['text']}\")\n",
    "        processed_ner_tags.append(f\"I-{tag['text']}\")\n",
    "        print(tag['text'])\n",
    "    else:\n",
    "        print(tag['text'])\n",
    "\n",
    "print(processed_ner_tags)\n",
    "print(len(processed_ner_tags))\n",
    "\n",
    "ner_tags_2_number = {t: i for (i, t) in enumerate(processed_ner_tags)}\n",
    "number_2_ner_tags = {t: i for (t, i) in enumerate(ner_tags_2_number)}"
   ]
  },
  {
   "cell_type": "code",
   "execution_count": 5,
   "metadata": {
    "tags": []
   },
   "outputs": [
    {
     "data": {
      "text/html": [
       "<div>\n",
       "<style scoped>\n",
       "    .dataframe tbody tr th:only-of-type {\n",
       "        vertical-align: middle;\n",
       "    }\n",
       "\n",
       "    .dataframe tbody tr th {\n",
       "        vertical-align: top;\n",
       "    }\n",
       "\n",
       "    .dataframe thead th {\n",
       "        text-align: right;\n",
       "    }\n",
       "</style>\n",
       "<table border=\"1\" class=\"dataframe\">\n",
       "  <thead>\n",
       "    <tr style=\"text-align: right;\">\n",
       "      <th></th>\n",
       "      <th>sentence</th>\n",
       "      <th>locs</th>\n",
       "      <th>words</th>\n",
       "    </tr>\n",
       "  </thead>\n",
       "  <tbody>\n",
       "    <tr>\n",
       "      <th>0</th>\n",
       "      <td>👍 【 folding &amp; portable rebounder 】 the jump tr...</td>\n",
       "      <td>[(4, 11, PROPERTY), (14, 32, PROPERTY), (222, ...</td>\n",
       "      <td>[folding, portable rebounder, portable]</td>\n",
       "    </tr>\n",
       "    <tr>\n",
       "      <th>1</th>\n",
       "      <td>uv printing</td>\n",
       "      <td>[(0, 2, MAT)]</td>\n",
       "      <td>[uv]</td>\n",
       "    </tr>\n",
       "    <tr>\n",
       "      <th>2</th>\n",
       "      <td>premium eco friendly material with no odor : o...</td>\n",
       "      <td>[(123, 133, NMAT), (50, 66, PROPERTY), (35, 42...</td>\n",
       "      <td>[phthalates, non - allergenic, no odor, non - ...</td>\n",
       "    </tr>\n",
       "    <tr>\n",
       "      <th>3</th>\n",
       "      <td>boxing speed ball : pu material speed ball , c...</td>\n",
       "      <td>[(20, 22, MAT), (105, 118, PROPERTY), (79, 89,...</td>\n",
       "      <td>[pu, without sound, 90 degrees, rebound]</td>\n",
       "    </tr>\n",
       "    <tr>\n",
       "      <th>4</th>\n",
       "      <td>weighs 100 lbs</td>\n",
       "      <td>[(7, 14, WEIGHT)]</td>\n",
       "      <td>[100 lbs]</td>\n",
       "    </tr>\n",
       "    <tr>\n",
       "      <th>...</th>\n",
       "      <td>...</td>\n",
       "      <td>...</td>\n",
       "      <td>...</td>\n",
       "    </tr>\n",
       "    <tr>\n",
       "      <th>2053</th>\n",
       "      <td>uv protection : light filtering soft sail shad...</td>\n",
       "      <td>[(16, 31, PROPERTY), (32, 54, PROPERTY), (66, ...</td>\n",
       "      <td>[light filtering, soft sail shade canopy, soft...</td>\n",
       "    </tr>\n",
       "    <tr>\n",
       "      <th>2054</th>\n",
       "      <td>powered up : exclusive removable powerport fea...</td>\n",
       "      <td>[(23, 32, PROPERTY), (52, 72, PROPERTY), (77, ...</td>\n",
       "      <td>[removable, 3 electrical outlets, 3 usb ports]</td>\n",
       "    </tr>\n",
       "    <tr>\n",
       "      <th>2055</th>\n",
       "      <td>steel anchoring plates : powder coated steel a...</td>\n",
       "      <td>[(0, 22, PROPERTY), (25, 61, PROPERTY), (72, 9...</td>\n",
       "      <td>[steel anchoring plates, powder coated steel a...</td>\n",
       "    </tr>\n",
       "    <tr>\n",
       "      <th>2056</th>\n",
       "      <td>easy assembly : supported by step - by - step ...</td>\n",
       "      <td>[(58, 66, PROPERTY)]</td>\n",
       "      <td>[bilt app]</td>\n",
       "    </tr>\n",
       "    <tr>\n",
       "      <th>2057</th>\n",
       "      <td>【 fitness and fat burning 】 the training tubes...</td>\n",
       "      <td>[(147, 157, PROPERTY), (175, 186, PROPERTY)]</td>\n",
       "      <td>[resistance, color coded]</td>\n",
       "    </tr>\n",
       "  </tbody>\n",
       "</table>\n",
       "<p>2058 rows × 3 columns</p>\n",
       "</div>"
      ],
      "text/plain": [
       "                                               sentence  \\\n",
       "0     👍 【 folding & portable rebounder 】 the jump tr...   \n",
       "1                                           uv printing   \n",
       "2     premium eco friendly material with no odor : o...   \n",
       "3     boxing speed ball : pu material speed ball , c...   \n",
       "4                                        weighs 100 lbs   \n",
       "...                                                 ...   \n",
       "2053  uv protection : light filtering soft sail shad...   \n",
       "2054  powered up : exclusive removable powerport fea...   \n",
       "2055  steel anchoring plates : powder coated steel a...   \n",
       "2056  easy assembly : supported by step - by - step ...   \n",
       "2057  【 fitness and fat burning 】 the training tubes...   \n",
       "\n",
       "                                                   locs  \\\n",
       "0     [(4, 11, PROPERTY), (14, 32, PROPERTY), (222, ...   \n",
       "1                                         [(0, 2, MAT)]   \n",
       "2     [(123, 133, NMAT), (50, 66, PROPERTY), (35, 42...   \n",
       "3     [(20, 22, MAT), (105, 118, PROPERTY), (79, 89,...   \n",
       "4                                     [(7, 14, WEIGHT)]   \n",
       "...                                                 ...   \n",
       "2053  [(16, 31, PROPERTY), (32, 54, PROPERTY), (66, ...   \n",
       "2054  [(23, 32, PROPERTY), (52, 72, PROPERTY), (77, ...   \n",
       "2055  [(0, 22, PROPERTY), (25, 61, PROPERTY), (72, 9...   \n",
       "2056                               [(58, 66, PROPERTY)]   \n",
       "2057       [(147, 157, PROPERTY), (175, 186, PROPERTY)]   \n",
       "\n",
       "                                                  words  \n",
       "0               [folding, portable rebounder, portable]  \n",
       "1                                                  [uv]  \n",
       "2     [phthalates, non - allergenic, no odor, non - ...  \n",
       "3              [pu, without sound, 90 degrees, rebound]  \n",
       "4                                             [100 lbs]  \n",
       "...                                                 ...  \n",
       "2053  [light filtering, soft sail shade canopy, soft...  \n",
       "2054     [removable, 3 electrical outlets, 3 usb ports]  \n",
       "2055  [steel anchoring plates, powder coated steel a...  \n",
       "2056                                         [bilt app]  \n",
       "2057                          [resistance, color coded]  \n",
       "\n",
       "[2058 rows x 3 columns]"
      ]
     },
     "metadata": {},
     "output_type": "display_data"
    }
   ],
   "source": [
    "import json\n",
    "from collections import Counter\n",
    "import pandas as pd\n",
    "\n",
    "# file_path = '../data/label_studio_1017_shorter.json'\n",
    "label_counter = Counter()\n",
    "\n",
    "def read_data_json(list_file_path):\n",
    "    list_data = []\n",
    "    for file_path in list_file_path:\n",
    "        f = open(file_path)\n",
    "\n",
    "        list_data += json.load(f)\n",
    "\n",
    "    list_sentence = []\n",
    "    list_locs = []\n",
    "    list_words = []\n",
    "    for i, data in enumerate(list_data):\n",
    "        text = data['data']['text']\n",
    "        annotations = data['annotations']\n",
    "        locs = []\n",
    "        words = []\n",
    "        for annotation in annotations:\n",
    "            results = annotation['result']\n",
    "            for result in results:\n",
    "                start = result['value']['start']\n",
    "                end = result['value']['end']\n",
    "                label = result['value']['labels'][0]\n",
    "\n",
    "                if label not in REMOVE_LABELS:\n",
    "                    label_counter[label] += 1\n",
    "                    locs.append((str(start), str(end), str(label)))\n",
    "                    words.append(text[start:end])\n",
    "\n",
    "        list_sentence.append(text)\n",
    "        list_locs.append(locs)\n",
    "        list_words.append(words)\n",
    "\n",
    "    raw_dataset = pd.DataFrame()\n",
    "    raw_dataset['sentence'] = pd.Series(list_sentence)\n",
    "    raw_dataset['locs'] = pd.Series(list_locs)\n",
    "    raw_dataset['words'] = pd.Series(list_words)\n",
    "\n",
    "    raw_dataset.to_excel(\"./raw_dataset.xlsx\", index=False)\n",
    "    return raw_dataset\n",
    "\n",
    "def read_data_colnn(file_path):\n",
    "    file_colnn = open(file_path, 'r')\n",
    "    lines = file_colnn.readlines()\n",
    "\n",
    "    list_words = []\n",
    "    list_labels = []\n",
    "\n",
    "    word_pieces = []\n",
    "    label_pieces = []\n",
    "\n",
    "    for line in lines:\n",
    "        line = line.strip()\n",
    "        line_split = line.split(\" \")\n",
    "\n",
    "        if line_split[0] == \"-DOCSTART-\":\n",
    "            continue\n",
    "        elif line_split[0] == \"\":\n",
    "            list_words.append(word_pieces)\n",
    "            list_labels.append(label_pieces)\n",
    "\n",
    "            word_pieces = []\n",
    "            label_pieces = []\n",
    "            continue\n",
    "\n",
    "        word = line_split[0]\n",
    "        label = line_split[3]\n",
    "\n",
    "        if label in REMOVE_LABELS:\n",
    "            label = \"O\"\n",
    "            \n",
    "        label = ner_tags_2_number[label]\n",
    "\n",
    "        word_pieces.append(word)\n",
    "        label_pieces.append(label)\n",
    "\n",
    "    raw_dataset = pd.DataFrame()\n",
    "    raw_dataset['tokens'] = pd.Series(list_words)\n",
    "    raw_dataset['ner_tags'] = pd.Series(list_labels)\n",
    "    return raw_dataset\n",
    "\n",
    "raw_dataset = read_data_json([\"../data/label_ner_1_1015_fixed.json\", \n",
    "                               \"../data/label_ner_2_1044.json\"])\n",
    "display(raw_dataset)"
   ]
  },
  {
   "cell_type": "code",
   "execution_count": 6,
   "metadata": {},
   "outputs": [
    {
     "data": {
      "text/plain": [
       "Counter({'PROPERTY': 2964,\n",
       "         'MAT': 647,\n",
       "         'NMAT': 170,\n",
       "         'WEIGHT': 201,\n",
       "         'TARGET_USER': 762,\n",
       "         'DIMENSION': 515,\n",
       "         'COLOR': 112,\n",
       "         'SHAPE': 28})"
      ]
     },
     "execution_count": 6,
     "metadata": {},
     "output_type": "execute_result"
    }
   ],
   "source": [
    "label_counter"
   ]
  },
  {
   "cell_type": "code",
   "execution_count": 7,
   "metadata": {},
   "outputs": [
    {
     "data": {
      "image/png": "[encoded data removed]",
      "text/plain": [
       "<Figure size 1500x500 with 1 Axes>"
      ]
     },
     "metadata": {},
     "output_type": "display_data"
    }
   ],
   "source": [
    "import numpy as np\n",
    "import matplotlib.pyplot as plt\n",
    "\n",
    "\n",
    "# creating the dataset\n",
    "courses = list(label_counter.keys())\n",
    "values = list(label_counter.values())\n",
    "\n",
    "\n",
    "\n",
    "fig = plt.figure(figsize = (15, 5))\n",
    "\n",
    "# creating the bar plotlabel_studio_1017_shorter.json\n",
    "plt.bar(courses, values, color ='maroon',\n",
    "\t\twidth = 0.4)\n",
    "\n",
    "plt.xlabel(\"Label name\")\n",
    "plt.ylabel(\"Number of instance\")\n",
    "plt.title(\"Label statistic\")\n",
    "plt.show()\n"
   ]
  },
  {
   "cell_type": "code",
   "execution_count": 8,
   "metadata": {
    "tags": []
   },
   "outputs": [
    {
     "data": {
      "text/plain": [
       "sentence    👍 【 folding & portable rebounder 】 the jump tr...\n",
       "locs        [(4, 11, PROPERTY), (14, 32, PROPERTY), (222, ...\n",
       "words                 [folding, portable rebounder, portable]\n",
       "Name: 0, dtype: object"
      ]
     },
     "execution_count": 8,
     "metadata": {},
     "output_type": "execute_result"
    }
   ],
   "source": [
    "raw_dataset.loc[0]"
   ]
  },
  {
   "cell_type": "code",
   "execution_count": 9,
   "metadata": {
    "tags": []
   },
   "outputs": [
    {
     "data": {
      "text/plain": [
       "DatasetDict({\n",
       "    train: Dataset({\n",
       "        features: ['sentence', 'locs', 'words'],\n",
       "        num_rows: 2058\n",
       "    })\n",
       "    val: Dataset({\n",
       "        features: ['sentence', 'locs', 'words'],\n",
       "        num_rows: 2058\n",
       "    })\n",
       "    test: Dataset({\n",
       "        features: ['sentence', 'locs', 'words'],\n",
       "        num_rows: 2058\n",
       "    })\n",
       "})"
      ]
     },
     "execution_count": 9,
     "metadata": {},
     "output_type": "execute_result"
    }
   ],
   "source": [
    "from datasets import Dataset, DatasetDict, ClassLabel, Features, Value, Sequence\n",
    "\n",
    "train_dataset = Dataset.from_pandas(raw_dataset)\n",
    "val_dataset = Dataset.from_pandas(raw_dataset)\n",
    "test_dataset = Dataset.from_pandas(raw_dataset)\n",
    "\n",
    "raw_datasets = DatasetDict(\n",
    "    {\"train\": train_dataset, \"val\": val_dataset, \"test\": test_dataset})\n",
    "raw_datasets"
   ]
  },
  {
   "cell_type": "code",
   "execution_count": 10,
   "metadata": {
    "tags": []
   },
   "outputs": [],
   "source": [
    "def visualize_ner_tags(words, labels):\n",
    "    line1 = \"\"\n",
    "    line2 = \"\"\n",
    "    for word, label in zip(words, labels):\n",
    "        # print(word, label)\n",
    "        label = str(label)\n",
    "        max_length = max(len(word), len(label))\n",
    "        line1 += word + \" \" * (max_length - len(word) + 1)\n",
    "        line2 += label + \" \" * (max_length - len(label) + 1)\n",
    "    print(line1)\n",
    "    print(line2)"
   ]
  },
  {
   "cell_type": "code",
   "execution_count": 11,
   "metadata": {
    "tags": []
   },
   "outputs": [],
   "source": [
    "import ast\n",
    "\n",
    "\n",
    "def assign_ner_tags_bert(example):\n",
    "    # print(example['sentence'])\n",
    "    token_input = tokenizer(example['sentence'])\n",
    "    example['tokens'] = tokenizer.convert_ids_to_tokens(\n",
    "        token_input['input_ids'])\n",
    "\n",
    "    # print(example['sentence'])\n",
    "    # print(example['tokens'])\n",
    "    # print(\"len: \", len(example['tokens']))\n",
    "\n",
    "    ner_tags = [0 for token in example['tokens']]\n",
    "    if str(type(example['locs'])) == \"<class 'list'>\":\n",
    "        locs = example['locs']\n",
    "    else:\n",
    "        locs = ast.literal_eval(example['locs'])\n",
    "\n",
    "    locs = [(int(loc[0]), int(loc[1]), loc[2]) for loc in locs]\n",
    "    locs = sorted(locs)\n",
    "    # print(locs)\n",
    "    bg_id = 1\n",
    "    pre_loc = 0\n",
    "    text = example['sentence']\n",
    "    for loc in locs:\n",
    "        loc0 = int(loc[0])\n",
    "        loc1 = int(loc[1])\n",
    "\n",
    "        # print(text[loc0:loc1])\n",
    "        # print(loc0 - pre_loc)\n",
    "\n",
    "        pre_text = text[pre_loc:loc0]\n",
    "        token_input = tokenizer(pre_text)\n",
    "        pre_token = tokenizer.convert_ids_to_tokens(\n",
    "            token_input['input_ids'])\n",
    "\n",
    "        # print(pre_text)\n",
    "        # print(pre_token)\n",
    "        # print(\"len: \", len(pre_token))\n",
    "\n",
    "        bg_id = bg_id + len(pre_token) - 2\n",
    "        pre_loc = loc1\n",
    "\n",
    "        # print(\"bg_id: \", bg_id)\n",
    "\n",
    "        word = example['sentence'][loc0: loc1]\n",
    "        token_input = tokenizer(word)\n",
    "        word_token = tokenizer.convert_ids_to_tokens(token_input['input_ids'])\n",
    "\n",
    "        # print(\"Word: \", word)\n",
    "        # print(word_token)\n",
    "        # print(\"len: \", len(word_token))\n",
    "\n",
    "        # print(example['tokens'][bg_id])\n",
    "\n",
    "        label_number = ner_tags_2_number[f\"B-{loc[2]}\"]\n",
    "        ner_tags[bg_id] = label_number\n",
    "        bg_id += 1\n",
    "        for idx in range(bg_id, bg_id + len(word_token) - 3):\n",
    "            ner_tags[idx] = label_number + 1\n",
    "        bg_id = bg_id + len(word_token) - 3\n",
    "\n",
    "        # visualize_ner_tags(example['tokens'], ner_tags)\n",
    "\n",
    "    ner_tags[0] = -100\n",
    "    ner_tags[-1] = -100\n",
    "    return ner_tags\n",
    "\n",
    "def assign_ner_tags_deberta(example):\n",
    "    # print(example['sentence'])\n",
    "    token_input = tokenizer(example['sentence'])\n",
    "    example['tokens'] = tokenizer.convert_ids_to_tokens(\n",
    "        token_input['input_ids'])\n",
    "\n",
    "    # print(example['sentence'])\n",
    "    # print(example['tokens'])\n",
    "    # print(\"len: \", len(example['tokens']))\n",
    "\n",
    "    ner_tags = [0 for token in example['tokens']]\n",
    "    if str(type(example['locs'])) == \"<class 'list'>\":\n",
    "        locs = example['locs']\n",
    "    else:\n",
    "        locs = ast.literal_eval(example['locs'])\n",
    "\n",
    "    locs = [(int(loc[0]), int(loc[1]), loc[2]) for loc in locs]\n",
    "    locs = sorted(locs)\n",
    "    # print(locs)\n",
    "    bg_id = 1\n",
    "    pre_loc = 0\n",
    "    text = example['sentence']\n",
    "    for loc in locs:\n",
    "        loc0 = int(loc[0])\n",
    "        loc1 = int(loc[1])\n",
    "\n",
    "        pre_text = text[pre_loc:loc0]\n",
    "        token_input = tokenizer(pre_text)\n",
    "        pre_token = tokenizer.convert_ids_to_tokens(\n",
    "            token_input['input_ids'])\n",
    "\n",
    "        # print(pre_text)\n",
    "        # print(pre_token)\n",
    "        # print(\"len: \", len(pre_token))\n",
    "\n",
    "        bg_id = bg_id + len(pre_token) - 2\n",
    "        pre_loc = loc1\n",
    "\n",
    "        # print(\"bg_id: \", bg_id)\n",
    "\n",
    "        word = example['sentence'][loc0: loc1]\n",
    "        token_input = tokenizer(word)\n",
    "        word_token = tokenizer.convert_ids_to_tokens(token_input['input_ids'])\n",
    "\n",
    "        # print(\"Word: \", word)\n",
    "        # print(word_token)\n",
    "        # print(\"len: \", len(word_token))\n",
    "\n",
    "        label_number = ner_tags_2_number[f\"B-{loc[2]}\"]\n",
    "        ner_tags[bg_id] = label_number\n",
    "        bg_id += 1\n",
    "        for idx in range(bg_id, bg_id + len(word_token) - 3):\n",
    "            ner_tags[idx] = label_number + 1\n",
    "        bg_id = bg_id + len(word_token) - 3\n",
    "\n",
    "        # visualize_ner_tags(example['tokens'], ner_tags)\n",
    "\n",
    "    ner_tags[0] = -100\n",
    "    ner_tags[-1] = -100\n",
    "    return ner_tags\n",
    "\n",
    "def assign_ner_tags_roberta(example):\n",
    "\n",
    "    token_input = tokenizer(example['sentence'])\n",
    "    example['tokens'] = tokenizer.convert_ids_to_tokens(\n",
    "        token_input['input_ids'])\n",
    "\n",
    "    ner_tags = [0 for token in example['tokens']]\n",
    "    if str(type(example['locs'])) == \"<class 'list'>\":\n",
    "        locs = example['locs']\n",
    "    else:\n",
    "        locs = ast.literal_eval(example['locs'])\n",
    "\n",
    "    locs = [(int(loc[0]), int(loc[1]), loc[2]) for loc in locs]\n",
    "    locs = sorted(locs)\n",
    "    bg_id = 1\n",
    "    pre_loc = 0\n",
    "    text = example['sentence']\n",
    "    for loc in locs:\n",
    "        loc0 = int(loc[0])\n",
    "        loc1 = int(loc[1])\n",
    "\n",
    "        pre_text = text[pre_loc:loc0]\n",
    "        if 0 < loc0 and len(pre_text) > 0 and pre_text[-1] == ' ':\n",
    "            pre_text = text[pre_loc:loc0 - 1] \n",
    "        token_input = tokenizer(pre_text)\n",
    "        pre_token = tokenizer.convert_ids_to_tokens(\n",
    "            token_input['input_ids'])\n",
    "        bg_id = bg_id + len(pre_token) - 2\n",
    "        pre_loc = loc1\n",
    "\n",
    "        word = example['sentence'][loc0: loc1].strip()\n",
    "        if loc0 > 0 and example['sentence'][loc0 - 1] == ' ':\n",
    "            word = \" \" + word\n",
    "        token_input = tokenizer(word)\n",
    "        word_token = tokenizer.convert_ids_to_tokens(token_input['input_ids'])\n",
    "        \n",
    "        label_number = ner_tags_2_number[f\"B-{loc[2]}\"]\n",
    "        ner_tags[bg_id] = label_number\n",
    "        bg_id += 1\n",
    "        for idx in range(bg_id, bg_id + len(word_token) - 3):\n",
    "            ner_tags[idx] = label_number + 1\n",
    "        bg_id = bg_id + len(word_token) - 3\n",
    "\n",
    "        # visualize_ner_tags(example['tokens'], ner_tags)\n",
    "\n",
    "    ner_tags[0] = -100\n",
    "    ner_tags[-1] = -100\n",
    "    return ner_tags"
   ]
  },
  {
   "cell_type": "code",
   "execution_count": 12,
   "metadata": {
    "tags": []
   },
   "outputs": [
    {
     "name": "stdout",
     "output_type": "stream",
     "text": [
      "💪 【 portable and lightweight 】 easy to remove high quality elastic tension training equipment this product is very soft , absorbent and slip resistant . exercise your arms , legs and back for sitting exercises . suitable for women , men , the elderly , children . shoulder exercises ; hand exercises ; at home , hotel rooms , offices and even outdoor private leg exercises . suitable for cross fitter leadership pull - ups , muscle exercise , physical therapy , stretching exercises , strength training , etc .\n",
      "{'input_ids': [1, 507, 123306, 41131, 5480, 263, 6577, 507, 34243, 639, 264, 1963, 459, 607, 12323, 5930, 838, 1324, 291, 714, 269, 379, 2052, 366, 34712, 263, 6187, 7038, 323, 2111, 290, 3010, 366, 3467, 263, 396, 270, 2386, 5479, 323, 2714, 270, 694, 366, 842, 366, 262, 6891, 366, 572, 323, 4103, 5479, 2600, 721, 5479, 2600, 288, 425, 366, 1612, 2382, 366, 4030, 263, 402, 2547, 1094, 3540, 5479, 323, 2714, 270, 1943, 44239, 2297, 2647, 341, 322, 268, 366, 3675, 2111, 366, 1468, 2773, 366, 10985, 5479, 366, 2067, 838, 366, 965, 323, 2], 'token_type_ids': [0, 0, 0, 0, 0, 0, 0, 0, 0, 0, 0, 0, 0, 0, 0, 0, 0, 0, 0, 0, 0, 0, 0, 0, 0, 0, 0, 0, 0, 0, 0, 0, 0, 0, 0, 0, 0, 0, 0, 0, 0, 0, 0, 0, 0, 0, 0, 0, 0, 0, 0, 0, 0, 0, 0, 0, 0, 0, 0, 0, 0, 0, 0, 0, 0, 0, 0, 0, 0, 0, 0, 0, 0, 0, 0, 0, 0, 0, 0, 0, 0, 0, 0, 0, 0, 0, 0, 0, 0, 0, 0, 0, 0, 0, 0, 0], 'attention_mask': [1, 1, 1, 1, 1, 1, 1, 1, 1, 1, 1, 1, 1, 1, 1, 1, 1, 1, 1, 1, 1, 1, 1, 1, 1, 1, 1, 1, 1, 1, 1, 1, 1, 1, 1, 1, 1, 1, 1, 1, 1, 1, 1, 1, 1, 1, 1, 1, 1, 1, 1, 1, 1, 1, 1, 1, 1, 1, 1, 1, 1, 1, 1, 1, 1, 1, 1, 1, 1, 1, 1, 1, 1, 1, 1, 1, 1, 1, 1, 1, 1, 1, 1, 1, 1, 1, 1, 1, 1, 1, 1, 1, 1, 1, 1, 1]}\n",
      "['[CLS]', '▁', '💪', '▁【', '▁portable', '▁and', '▁lightweight', '▁', '】', '▁easy', '▁to', '▁remove', '▁high', '▁quality', '▁elastic', '▁tension', '▁training', '▁equipment', '▁this', '▁product', '▁is', '▁very', '▁soft', '▁,', '▁absorbent', '▁and', '▁slip', '▁resistant', '▁.', '▁exercise', '▁your', '▁arms', '▁,', '▁legs', '▁and', '▁back', '▁for', '▁sitting', '▁exercises', '▁.', '▁suitable', '▁for', '▁women', '▁,', '▁men', '▁,', '▁the', '▁elderly', '▁,', '▁children', '▁.', '▁shoulder', '▁exercises', '▁;', '▁hand', '▁exercises', '▁;', '▁at', '▁home', '▁,', '▁hotel', '▁rooms', '▁,', '▁offices', '▁and', '▁even', '▁outdoor', '▁private', '▁leg', '▁exercises', '▁.', '▁suitable', '▁for', '▁cross', '▁fitter', '▁leadership', '▁pull', '▁-', '▁up', 's', '▁,', '▁muscle', '▁exercise', '▁,', '▁physical', '▁therapy', '▁,', '▁stretching', '▁exercises', '▁,', '▁strength', '▁training', '▁,', '▁etc', '▁.', '[SEP]']\n",
      "[CLS] ▁ 💪 ▁【 ▁portable ▁and ▁lightweight ▁ 】 ▁easy ▁to ▁remove ▁high ▁quality ▁elastic ▁tension ▁training ▁equipment ▁this ▁product ▁is ▁very ▁soft ▁, ▁absorbent ▁and ▁slip ▁resistant ▁. ▁exercise ▁your ▁arms ▁, ▁legs ▁and ▁back ▁for ▁sitting ▁exercises ▁. ▁suitable ▁for ▁women ▁, ▁men ▁, ▁the ▁elderly ▁, ▁children ▁. ▁shoulder ▁exercises ▁; ▁hand ▁exercises ▁; ▁at ▁home ▁, ▁hotel ▁rooms ▁, ▁offices ▁and ▁even ▁outdoor ▁private ▁leg ▁exercises ▁. ▁suitable ▁for ▁cross ▁fitter ▁leadership ▁pull ▁- ▁up s ▁, ▁muscle ▁exercise ▁, ▁physical ▁therapy ▁, ▁stretching ▁exercises ▁, ▁strength ▁training ▁, ▁etc ▁. [SEP] \n",
      "-100  0 0 0  11        0    11           0 0 0     0   0       0     0        0        0        0         0          0     0        0   0     0     0  0          0    11    12         0  0         0     0     0  0     0    0     0    0        0          0  0         0    9      0  9    0  9    10       0  9         0  0         0          0  0     0          0  0   0     0  0      0      0  0        0    0     0        0        0    0          0  0         0    0      0       0           0     0  0   0 0  0       0         0  0         0        0  0           0          0  0         0         0  0    0  -100  \n"
     ]
    }
   ],
   "source": [
    "id = 42\n",
    "print(raw_datasets['train'][id]['sentence'])\n",
    "# print(raw_datasets['train'][id]['sentence'][227:230])\n",
    "token_input = tokenizer(raw_datasets['train'][id]['sentence'])\n",
    "# token_input = tokenizer('👍 【 folding & portable rebounder 】')\n",
    "print(token_input)\n",
    "words = tokenizer.convert_ids_to_tokens(token_input['input_ids'])\n",
    "print(words)\n",
    "labels = assign_ner_tags_deberta(raw_datasets['train'][id])\n",
    "\n",
    "visualize_ner_tags(words, labels)"
   ]
  },
  {
   "cell_type": "code",
   "execution_count": 13,
   "metadata": {
    "tags": []
   },
   "outputs": [],
   "source": [
    "def tokenize_and_align_labels(examples):\n",
    "    tokenized_inputs = tokenizer(\n",
    "        examples[\"sentence\"], truncation=True, is_split_into_words=False\n",
    "    )\n",
    "    tokenized_inputs[\"labels\"] = assign_ner_tags_bert(examples)\n",
    "    return tokenized_inputs"
   ]
  },
  {
   "cell_type": "code",
   "execution_count": 14,
   "metadata": {
    "tags": []
   },
   "outputs": [
    {
     "data": {
      "text/plain": [
       "DatasetDict({\n",
       "    train: Dataset({\n",
       "        features: ['input_ids', 'attention_mask', 'labels'],\n",
       "        num_rows: 2058\n",
       "    })\n",
       "    val: Dataset({\n",
       "        features: ['input_ids', 'attention_mask', 'labels'],\n",
       "        num_rows: 2058\n",
       "    })\n",
       "    test: Dataset({\n",
       "        features: ['input_ids', 'attention_mask', 'labels'],\n",
       "        num_rows: 2058\n",
       "    })\n",
       "})"
      ]
     },
     "execution_count": 14,
     "metadata": {},
     "output_type": "execute_result"
    }
   ],
   "source": [
    "from datasets import Dataset\n",
    "\n",
    "list_input_ids = []\n",
    "list_token_type_ids = []\n",
    "list_attention_mask = []\n",
    "list_labels = []\n",
    "\n",
    "for index, row in raw_dataset.iterrows():\n",
    "    try:\n",
    "        label = assign_ner_tags_deberta(row)\n",
    "        token_input = tokenizer(row['sentence'])\n",
    "        list_input_ids.append(token_input['input_ids'])\n",
    "        # list_token_type_ids.append(token_input['token_type_ids'])\n",
    "        list_attention_mask.append(token_input['attention_mask'])\n",
    "        list_labels.append(label)\n",
    "    except Exception as error:\n",
    "        # print(error)\n",
    "        print(index)\n",
    "        print(row['sentence'])\n",
    "\n",
    "tokenized_datasets = pd.DataFrame()\n",
    "tokenized_datasets['input_ids'] = pd.Series(list_input_ids)\n",
    "# tokenized_datasets['token_type_ids'] = pd.Series(list_token_type_ids)\n",
    "tokenized_datasets['attention_mask'] = pd.Series(list_attention_mask)\n",
    "tokenized_datasets['labels'] = pd.Series(list_labels)\n",
    "\n",
    "train_dataset = Dataset.from_pandas(tokenized_datasets)\n",
    "val_dataset = Dataset.from_pandas(tokenized_datasets)\n",
    "test_dataset = Dataset.from_pandas(tokenized_datasets)\n",
    "\n",
    "tokenized_datasets = DatasetDict(\n",
    "    {\"train\": train_dataset, \"val\": val_dataset, \"test\": test_dataset})\n",
    "tokenized_datasets"
   ]
  },
  {
   "cell_type": "code",
   "execution_count": 15,
   "metadata": {},
   "outputs": [
    {
     "data": {
      "text/plain": [
       "DatasetDict({\n",
       "    train: Dataset({\n",
       "        features: ['input_ids', 'attention_mask', 'labels'],\n",
       "        num_rows: 1646\n",
       "    })\n",
       "    test: Dataset({\n",
       "        features: ['input_ids', 'attention_mask', 'labels'],\n",
       "        num_rows: 412\n",
       "    })\n",
       "})"
      ]
     },
     "execution_count": 15,
     "metadata": {},
     "output_type": "execute_result"
    }
   ],
   "source": [
    "tokenized_datasets = tokenized_datasets['train'].train_test_split(test_size=0.2, shuffle=True, seed=7)\n",
    "tokenized_datasets"
   ]
  },
  {
   "cell_type": "code",
   "execution_count": 16,
   "metadata": {},
   "outputs": [
    {
     "data": {
      "image/png": "[encoded data removed]",
      "text/plain": [
       "<Figure size 1500x1000 with 2 Axes>"
      ]
     },
     "metadata": {},
     "output_type": "display_data"
    }
   ],
   "source": [
    "import numpy as np\n",
    "import matplotlib.pyplot as plt\n",
    "\n",
    "count_train = Counter()\n",
    "count_test = Counter()\n",
    "\n",
    "for test_line in tokenized_datasets['train']:\n",
    "    for label in test_line['labels']:\n",
    "        if label in number_2_ner_tags and label != 0 and number_2_ner_tags[label][0] == 'B':\n",
    "            count_train[number_2_ner_tags[label]] += 1\n",
    "\n",
    "for test_line in tokenized_datasets['test']:\n",
    "    for label in test_line['labels']:\n",
    "        if label in number_2_ner_tags and label != 0 and number_2_ner_tags[label][0] == 'B':\n",
    "            count_test[number_2_ner_tags[label]] += 1\n",
    "\n",
    "myKeys = list(count_train.keys())\n",
    "myKeys.sort()\n",
    "count_train_sorted = {i: count_train[i] for i in myKeys}\n",
    "count_test_sorted = {i: count_test[i] for i in myKeys}\n",
    "\n",
    "figure, axis = plt.subplots(2, 1, figsize = (15, 10))\n",
    "\n",
    "# creating the dataset\n",
    "courses_train = list(count_train_sorted.keys())\n",
    "values_train = list(count_train_sorted.values())\n",
    "\n",
    "# creating the bar plotlabel_studio_1017_shorter.json\n",
    "axis[0].bar(courses_train, values_train, color ='blue',\n",
    "\t\twidth = 0.3)\n",
    "axis[0].set_title = \"Train statistics\"\n",
    "\n",
    "# creating the dataset\n",
    "courses_test = list(count_test_sorted.keys())\n",
    "values_test = list(count_test_sorted.values())\n",
    "\n",
    "# creating the bar plotlabel_studio_1017_shorter.json\n",
    "axis[1].bar(courses_test, values_test, color ='red',\n",
    "\t\twidth = 0.3)\n",
    "axis[1].set_title = \"Val/Test statistics\"\n",
    "\n",
    "plt.show()\n"
   ]
  },
  {
   "cell_type": "code",
   "execution_count": 17,
   "metadata": {
    "tags": []
   },
   "outputs": [
    {
     "name": "stderr",
     "output_type": "stream",
     "text": [
      "2023-09-25 13:47:30.899696: I tensorflow/core/util/port.cc:110] oneDNN custom operations are on. You may see slightly different numerical results due to floating-point round-off errors from different computation orders. To turn them off, set the environment variable `TF_ENABLE_ONEDNN_OPTS=0`.\n",
      "2023-09-25 13:47:30.921216: I tensorflow/core/platform/cpu_feature_guard.cc:182] This TensorFlow binary is optimized to use available CPU instructions in performance-critical operations.\n",
      "To enable the following instructions: AVX2 AVX_VNNI FMA, in other operations, rebuild TensorFlow with the appropriate compiler flags.\n",
      "2023-09-25 13:47:31.324806: W tensorflow/compiler/tf2tensorrt/utils/py_utils.cc:38] TF-TRT Warning: Could not find TensorRT\n"
     ]
    }
   ],
   "source": [
    "from transformers import DataCollatorForTokenClassification\n",
    "\n",
    "data_collator = DataCollatorForTokenClassification(tokenizer=tokenizer)"
   ]
  },
  {
   "cell_type": "code",
   "execution_count": 18,
   "metadata": {
    "tags": []
   },
   "outputs": [],
   "source": [
    "import evaluate\n",
    "\n",
    "metric = evaluate.load(\"seqeval\")"
   ]
  },
  {
   "cell_type": "code",
   "execution_count": 19,
   "metadata": {
    "tags": []
   },
   "outputs": [],
   "source": [
    "import numpy as np\n",
    "\n",
    "label_names = processed_ner_tags\n",
    "id2label = {i: label for i, label in enumerate(label_names)}\n",
    "label2id = {v: k for k, v in id2label.items()}\n",
    "\n",
    "def compute_metrics(eval_preds):\n",
    "    logits, labels = eval_preds\n",
    "    predictions = np.argmax(logits, axis=-1)\n",
    "\n",
    "    # Remove ignored index (special tokens) and convert to labels\n",
    "    true_labels = [[label_names[l] for l in label if l != -100] for label in labels]\n",
    "    true_predictions = [\n",
    "        [label_names[p] for (p, l) in zip(prediction, label) if l != -100]\n",
    "        for prediction, label in zip(predictions, labels)\n",
    "    ]\n",
    "    all_metrics = metric.compute(predictions=true_predictions, references=true_labels)\n",
    "    return {\n",
    "        \"precision\": all_metrics[\"overall_precision\"],\n",
    "        \"recall\": all_metrics[\"overall_recall\"],\n",
    "        \"f1\": all_metrics[\"overall_f1\"],\n",
    "        \"accuracy\": all_metrics[\"overall_accuracy\"],\n",
    "    }"
   ]
  },
  {
   "cell_type": "code",
   "execution_count": 20,
   "metadata": {
    "tags": []
   },
   "outputs": [
    {
     "name": "stderr",
     "output_type": "stream",
     "text": [
      "Some weights of the model checkpoint at microsoft/deberta-v3-large were not used when initializing DebertaV2ForTokenClassification: ['lm_predictions.lm_head.LayerNorm.weight', 'lm_predictions.lm_head.LayerNorm.bias', 'mask_predictions.classifier.weight', 'mask_predictions.LayerNorm.bias', 'mask_predictions.LayerNorm.weight', 'mask_predictions.classifier.bias', 'lm_predictions.lm_head.dense.weight', 'deberta.embeddings.position_embeddings.weight', 'lm_predictions.lm_head.bias', 'mask_predictions.dense.weight', 'lm_predictions.lm_head.dense.bias', 'mask_predictions.dense.bias']\n",
      "- This IS expected if you are initializing DebertaV2ForTokenClassification from the checkpoint of a model trained on another task or with another architecture (e.g. initializing a BertForSequenceClassification model from a BertForPreTraining model).\n",
      "- This IS NOT expected if you are initializing DebertaV2ForTokenClassification from the checkpoint of a model that you expect to be exactly identical (initializing a BertForSequenceClassification model from a BertForSequenceClassification model).\n",
      "Some weights of DebertaV2ForTokenClassification were not initialized from the model checkpoint at microsoft/deberta-v3-large and are newly initialized: ['classifier.bias', 'classifier.weight']\n",
      "You should probably TRAIN this model on a down-stream task to be able to use it for predictions and inference.\n"
     ]
    },
    {
     "data": {
      "text/plain": [
       "17"
      ]
     },
     "execution_count": 20,
     "metadata": {},
     "output_type": "execute_result"
    }
   ],
   "source": [
    "from transformers import AutoModelForTokenClassification\n",
    "# Modify code in heare\n",
    "from transformers.models.bert import modeling_bert\n",
    "\n",
    "model = AutoModelForTokenClassification.from_pretrained(\n",
    "    model_checkpoint,\n",
    "    id2label=id2label,\n",
    "    label2id=label2id,\n",
    "    ignore_mismatched_sizes=True\n",
    ")\n",
    "model.config.num_labels"
   ]
  },
  {
   "cell_type": "markdown",
   "metadata": {},
   "source": [
    "## Custom Traning loop"
   ]
  },
  {
   "cell_type": "code",
   "execution_count": 21,
   "metadata": {},
   "outputs": [],
   "source": [
    "from torch.utils.data import DataLoader\n",
    "\n",
    "train_dataloader = DataLoader(\n",
    "    tokenized_datasets[\"train\"],\n",
    "    shuffle=True,\n",
    "    collate_fn=data_collator,\n",
    "    batch_size=4,\n",
    ")\n",
    "eval_dataloader = DataLoader(\n",
    "    tokenized_datasets[\"test\"], collate_fn=data_collator, batch_size=8\n",
    ")"
   ]
  },
  {
   "cell_type": "code",
   "execution_count": 22,
   "metadata": {},
   "outputs": [],
   "source": [
    "from torch.optim import AdamW\n",
    "\n",
    "optimizer = AdamW(model.parameters(), lr=2e-5)"
   ]
  },
  {
   "cell_type": "code",
   "execution_count": 23,
   "metadata": {},
   "outputs": [],
   "source": [
    "from accelerate import Accelerator\n",
    "\n",
    "accelerator = Accelerator()\n",
    "model, optimizer, train_dataloader, eval_dataloader = accelerator.prepare(\n",
    "    model, optimizer, train_dataloader, eval_dataloader\n",
    ")"
   ]
  },
  {
   "cell_type": "code",
   "execution_count": 24,
   "metadata": {},
   "outputs": [],
   "source": [
    "def postprocess(predictions, labels):\n",
    "    predictions = predictions.detach().cpu().clone().numpy()\n",
    "    labels = labels.detach().cpu().clone().numpy()\n",
    "\n",
    "    # Remove ignored index (special tokens) and convert to labels\n",
    "    true_labels = [[label_names[l] for l in label if l != -100] for label in labels]\n",
    "    true_predictions = [\n",
    "        [label_names[p] for (p, l) in zip(prediction, label) if l != -100]\n",
    "        for prediction, label in zip(predictions, labels)\n",
    "    ]\n",
    "    return true_labels, true_predictions"
   ]
  },
  {
   "cell_type": "code",
   "execution_count": 25,
   "metadata": {},
   "outputs": [],
   "source": [
    "from transformers import get_scheduler\n",
    "\n",
    "num_train_epochs = 50\n",
    "num_update_steps_per_epoch = len(train_dataloader)\n",
    "num_training_steps = num_train_epochs * num_update_steps_per_epoch\n",
    "\n",
    "lr_scheduler = get_scheduler(\n",
    "    \"linear\",\n",
    "    optimizer=optimizer,\n",
    "    num_warmup_steps=0,\n",
    "    num_training_steps=num_training_steps,\n",
    ")"
   ]
  },
  {
   "cell_type": "code",
   "execution_count": 26,
   "metadata": {},
   "outputs": [
    {
     "data": {
      "application/vnd.jupyter.widget-view+json": {
       "model_id": "7ff79ce0ca354decb3b172f713355dfe",
       "version_major": 2,
       "version_minor": 0
      },
      "text/plain": [
       "  0%|          | 0/20600 [00:00<?, ?it/s]"
      ]
     },
     "metadata": {},
     "output_type": "display_data"
    },
    {
     "name": "stderr",
     "output_type": "stream",
     "text": [
      "You're using a DebertaV2TokenizerFast tokenizer. Please note that with a fast tokenizer, using the `__call__` method is faster than using a method to encode the text followed by a call to the `pad` method to get a padded encoding.\n",
      "/home/tanluuuuuuu/miniconda3/envs/one_for_all/lib/python3.8/site-packages/seqeval/metrics/v1.py:57: UndefinedMetricWarning: Recall and F-score are ill-defined and being set to 0.0 in labels with no true samples. Use `zero_division` parameter to control this behavior.\n",
      "  _warn_prf(average, modifier, msg_start, len(result))\n"
     ]
    },
    {
     "name": "stdout",
     "output_type": "stream",
     "text": [
      "epoch 0: {'precision': 0.6296296296296297, 'recall': 0.5776061776061776, 'f1': 0.6024969794603302, 'accuracy': 0.929671269705487}\n",
      "Save model at epoch 0 with better f1 score 0.6024969794603302\n",
      "epoch 1: {'precision': 0.6885521885521886, 'recall': 0.6908783783783784, 'f1': 0.6897133220910623, 'accuracy': 0.9447024318709519}\n",
      "Save model at epoch 1 with better f1 score 0.6897133220910623\n",
      "epoch 2: {'precision': 0.7146464646464646, 'recall': 0.68578352180937, 'f1': 0.6999175597691673, 'accuracy': 0.9448246364414029}\n",
      "Save model at epoch 2 with better f1 score 0.6999175597691673\n",
      "epoch 3: {'precision': 0.7112794612794613, 'recall': 0.6798069187449718, 'f1': 0.6951871657754011, 'accuracy': 0.9439692044482464}\n",
      "epoch 4: {'precision': 0.7138047138047138, 'recall': 0.7399650959860384, 'f1': 0.726649528706084, 'accuracy': 0.9448857387266284}\n",
      "Save model at epoch 4 with better f1 score 0.726649528706084\n",
      "epoch 5: {'precision': 0.7205387205387206, 'recall': 0.6777513855898654, 'f1': 0.6984904120767034, 'accuracy': 0.9432970793107662}\n",
      "epoch 6: {'precision': 0.7255892255892256, 'recall': 0.689048760991207, 'f1': 0.7068470684706847, 'accuracy': 0.9432970793107662}\n",
      "epoch 7: {'precision': 0.73989898989899, 'recall': 0.7111650485436893, 'f1': 0.7252475247524753, 'accuracy': 0.9462910912868141}\n",
      "epoch 8: {'precision': 0.696969696969697, 'recall': 0.7058823529411765, 'f1': 0.7013977128335452, 'accuracy': 0.9448246364414029}\n",
      "epoch 9: {'precision': 0.7129629629629629, 'recall': 0.6919934640522876, 'f1': 0.7023217247097844, 'accuracy': 0.9426249541732861}\n",
      "epoch 10: {'precision': 0.7239057239057239, 'recall': 0.7214765100671141, 'f1': 0.7226890756302523, 'accuracy': 0.946535500427716}\n",
      "epoch 11: {'precision': 0.73989898989899, 'recall': 0.7204918032786886, 'f1': 0.7300664451827243, 'accuracy': 0.9459855798606868}\n",
      "Save model at epoch 11 with better f1 score 0.7300664451827243\n",
      "epoch 12: {'precision': 0.7289562289562289, 'recall': 0.7180762852404643, 'f1': 0.7234753550543023, 'accuracy': 0.9466577049981669}\n",
      "epoch 13: {'precision': 0.7306397306397306, 'recall': 0.6932907348242812, 'f1': 0.7114754098360657, 'accuracy': 0.9458633752902359}\n",
      "epoch 14: {'precision': 0.7196969696969697, 'recall': 0.7533039647577092, 'f1': 0.7361170899698666, 'accuracy': 0.9476353415617744}\n",
      "Save model at epoch 14 with better f1 score 0.7361170899698666\n",
      "epoch 15: {'precision': 0.7457912457912458, 'recall': 0.7174089068825911, 'f1': 0.7313248039620306, 'accuracy': 0.9461077844311377}\n",
      "epoch 16: {'precision': 0.7272727272727273, 'recall': 0.7236180904522613, 'f1': 0.7254408060453401, 'accuracy': 0.9472687278504216}\n",
      "epoch 17: {'precision': 0.7247474747474747, 'recall': 0.7259696458684655, 'f1': 0.7253580454928391, 'accuracy': 0.9475742392765489}\n",
      "epoch 18: {'precision': 0.7356902356902357, 'recall': 0.7223140495867768, 'f1': 0.7289407839866555, 'accuracy': 0.9480630575583526}\n",
      "epoch 19: {'precision': 0.7163299663299664, 'recall': 0.736159169550173, 'f1': 0.7261092150170648, 'accuracy': 0.9471465232799706}\n",
      "epoch 20: {'precision': 0.73989898989899, 'recall': 0.7105901374292644, 'f1': 0.7249484536082474, 'accuracy': 0.947452034706098}\n",
      "epoch 21: {'precision': 0.7432659932659933, 'recall': 0.7231777231777232, 'f1': 0.7330842673308428, 'accuracy': 0.947452034706098}\n",
      "epoch 22: {'precision': 0.7331649831649831, 'recall': 0.7012882447665056, 'f1': 0.716872427983539, 'accuracy': 0.9469021141390688}\n",
      "epoch 23: {'precision': 0.7196969696969697, 'recall': 0.6945572705117791, 'f1': 0.7069036792062836, 'accuracy': 0.9461688867163632}\n",
      "epoch 24: {'precision': 0.7255892255892256, 'recall': 0.7280405405405406, 'f1': 0.7268128161888702, 'accuracy': 0.9479408529879018}\n",
      "epoch 25: {'precision': 0.7281144781144782, 'recall': 0.7113486842105263, 'f1': 0.7196339434276207, 'accuracy': 0.9472076255651961}\n",
      "epoch 26: {'precision': 0.7230639730639731, 'recall': 0.7341880341880341, 'f1': 0.7285835453774384, 'accuracy': 0.9491017964071856}\n",
      "epoch 27: {'precision': 0.76010101010101, 'recall': 0.6908951798010712, 'f1': 0.7238476953907816, 'accuracy': 0.9453745570084321}\n",
      "epoch 28: {'precision': 0.7382154882154882, 'recall': 0.704983922829582, 'f1': 0.7212171052631579, 'accuracy': 0.9444580227300501}\n",
      "epoch 29: {'precision': 0.7449494949494949, 'recall': 0.718927701056052, 'f1': 0.7317073170731707, 'accuracy': 0.9481241598435781}\n",
      "epoch 30: {'precision': 0.7449494949494949, 'recall': 0.72959604286892, 'f1': 0.7371928363182007, 'accuracy': 0.9479408529879018}\n",
      "Save model at epoch 30 with better f1 score 0.7371928363182007\n",
      "epoch 31: {'precision': 0.7415824915824916, 'recall': 0.7341666666666666, 'f1': 0.73785594639866, 'accuracy': 0.9487962849810583}\n",
      "Save model at epoch 31 with better f1 score 0.73785594639866\n",
      "epoch 32: {'precision': 0.7508417508417509, 'recall': 0.7335526315789473, 'f1': 0.7420965058236273, 'accuracy': 0.9480630575583526}\n",
      "Save model at epoch 32 with better f1 score 0.7420965058236273\n",
      "epoch 33: {'precision': 0.7373737373737373, 'recall': 0.7398648648648649, 'f1': 0.7386172006745363, 'accuracy': 0.9486129781253819}\n",
      "epoch 34: {'precision': 0.7281144781144782, 'recall': 0.7399486740804107, 'f1': 0.7339838778107765, 'accuracy': 0.9482463644140291}\n",
      "epoch 35: {'precision': 0.7432659932659933, 'recall': 0.7285478547854786, 'f1': 0.7358333333333333, 'accuracy': 0.9479408529879018}\n",
      "epoch 36: {'precision': 0.7239057239057239, 'recall': 0.7413793103448276, 'f1': 0.7325383304940376, 'accuracy': 0.9476964438469999}\n",
      "epoch 37: {'precision': 0.7525252525252525, 'recall': 0.7382328654004955, 'f1': 0.7453105460608588, 'accuracy': 0.9485518758401564}\n",
      "Save model at epoch 37 with better f1 score 0.7453105460608588\n",
      "epoch 38: {'precision': 0.7466329966329966, 'recall': 0.7330578512396694, 'f1': 0.7397831526271893, 'accuracy': 0.9483074666992546}\n",
      "epoch 39: {'precision': 0.7474747474747475, 'recall': 0.7455919395465995, 'f1': 0.7465321563682219, 'accuracy': 0.9491017964071856}\n",
      "Save model at epoch 39 with better f1 score 0.7465321563682219\n",
      "epoch 40: {'precision': 0.7171717171717171, 'recall': 0.7546501328609388, 'f1': 0.7354337505394907, 'accuracy': 0.9480019552731273}\n",
      "epoch 41: {'precision': 0.7289562289562289, 'recall': 0.7484874675885912, 'f1': 0.738592750533049, 'accuracy': 0.9489184895515093}\n",
      "epoch 42: {'precision': 0.7289562289562289, 'recall': 0.7530434782608696, 'f1': 0.7408041060735672, 'accuracy': 0.9491628986924111}\n",
      "epoch 43: {'precision': 0.7407407407407407, 'recall': 0.7560137457044673, 'f1': 0.7482993197278911, 'accuracy': 0.9494684101185384}\n",
      "Save model at epoch 43 with better f1 score 0.7482993197278911\n",
      "epoch 44: {'precision': 0.7441077441077442, 'recall': 0.7434819175777965, 'f1': 0.7437946992006732, 'accuracy': 0.9491017964071856}\n",
      "epoch 45: {'precision': 0.7196969696969697, 'recall': 0.7533039647577092, 'f1': 0.7361170899698666, 'accuracy': 0.9481241598435781}\n",
      "epoch 46: {'precision': 0.73989898989899, 'recall': 0.7493606138107417, 'f1': 0.7445997458703939, 'accuracy': 0.9498350238298913}\n",
      "epoch 47: {'precision': 0.73989898989899, 'recall': 0.7506404782237404, 'f1': 0.7452310300974989, 'accuracy': 0.9497739215446658}\n",
      "epoch 48: {'precision': 0.7356902356902357, 'recall': 0.7482876712328768, 'f1': 0.7419354838709677, 'accuracy': 0.9491628986924111}\n",
      "epoch 49: {'precision': 0.7373737373737373, 'recall': 0.7506426735218509, 'f1': 0.7439490445859872, 'accuracy': 0.9491628986924111}\n"
     ]
    }
   ],
   "source": [
    "from tqdm.auto import tqdm\n",
    "import torch\n",
    "\n",
    "output_dir = f\"./deberta-v3-large_v5_{num_train_epochs}e_split\"\n",
    "progress_bar = tqdm(range(num_training_steps))\n",
    "\n",
    "best_f1_score = 0\n",
    "\n",
    "for epoch in range(num_train_epochs):\n",
    "    # Training\n",
    "    model.train()\n",
    "    for batch in train_dataloader:\n",
    "        outputs = model(**batch)\n",
    "        loss = outputs.loss\n",
    "        accelerator.backward(loss)\n",
    "\n",
    "        optimizer.step()\n",
    "        lr_scheduler.step()\n",
    "        optimizer.zero_grad()\n",
    "        progress_bar.update(1)\n",
    "\n",
    "    # Evaluation\n",
    "    model.eval()\n",
    "    for batch in eval_dataloader:\n",
    "        with torch.no_grad():\n",
    "            outputs = model(**batch)\n",
    "\n",
    "        predictions = outputs.logits.argmax(dim=-1)\n",
    "        labels = batch[\"labels\"]\n",
    "\n",
    "        # Necessary to pad predictions and labels for being gathered\n",
    "        predictions = accelerator.pad_across_processes(predictions, dim=1, pad_index=-100)\n",
    "        labels = accelerator.pad_across_processes(labels, dim=1, pad_index=-100)\n",
    "\n",
    "        predictions_gathered = accelerator.gather(predictions)\n",
    "        labels_gathered = accelerator.gather(labels)\n",
    "\n",
    "        true_predictions, true_labels = postprocess(predictions_gathered, labels_gathered)\n",
    "        metric.add_batch(predictions=true_predictions, references=true_labels)\n",
    "\n",
    "    results = metric.compute()\n",
    "    print(\n",
    "        f\"epoch {epoch}:\",\n",
    "        {\n",
    "            key: results[f\"overall_{key}\"]\n",
    "            for key in [\"precision\", \"recall\", \"f1\", \"accuracy\"]\n",
    "        },\n",
    "    )\n",
    "\n",
    "    # Save and upload\n",
    "    accelerator.wait_for_everyone()\n",
    "    unwrapped_model = accelerator.unwrap_model(model)\n",
    "    unwrapped_model.save_pretrained(output_dir, save_function=accelerator.save)\n",
    "    if accelerator.is_main_process and results[f\"overall_f1\"] > best_f1_score:\n",
    "        best_f1_score = results[f\"overall_f1\"]\n",
    "        print(f\"Save model at epoch {epoch} with better f1 score {best_f1_score}\")\n",
    "        tokenizer.save_pretrained(output_dir)\n",
    "        unwrapped_model.save_pretrained(output_dir, save_function=accelerator.save)"
   ]
  },
  {
   "cell_type": "code",
   "execution_count": null,
   "metadata": {},
   "outputs": [],
   "source": [
    "# accelerator.wait_for_everyone()\n",
    "# unwrapped_model = accelerator.unwrap_model(model)\n",
    "# unwrapped_model.save_pretrained(output_dir, save_function=accelerator.save)"
   ]
  },
  {
   "cell_type": "markdown",
   "metadata": {},
   "source": [
    "## Built-in traning loop"
   ]
  },
  {
   "cell_type": "code",
   "execution_count": 21,
   "metadata": {
    "tags": []
   },
   "outputs": [],
   "source": [
    "from transformers import TrainingArguments\n",
    "\n",
    "model_name = 'bert-base-NER_v4_30e_split'\n",
    "args = TrainingArguments(\n",
    "    output_dir=f\"./{model_name}\",\n",
    "    evaluation_strategy=\"epoch\",\n",
    "    save_strategy=\"no\",\n",
    "    overwrite_output_dir = 'True',\n",
    "    learning_rate=2e-5,\n",
    "    num_train_epochs=30,\n",
    "    weight_decay=0.01,\n",
    "    per_device_train_batch_size=8\n",
    ")"
   ]
  },
  {
   "cell_type": "code",
   "execution_count": null,
   "metadata": {
    "tags": []
   },
   "outputs": [],
   "source": [
    "from transformers import Trainer\n",
    "\n",
    "trainer = Trainer(\n",
    "    model=model,\n",
    "    args=args,\n",
    "    train_dataset=tokenized_datasets[\"train\"],\n",
    "    eval_dataset=tokenized_datasets[\"test\"],\n",
    "    data_collator=data_collator,\n",
    "    compute_metrics=compute_metrics,\n",
    "    tokenizer=tokenizer,\n",
    ")\n",
    "trainer.train()\n",
    "trainer.save_model(f\"./{model_name}\")"
   ]
  },
  {
   "cell_type": "markdown",
   "metadata": {},
   "source": [
    "## Inference"
   ]
  },
  {
   "cell_type": "code",
   "execution_count": 34,
   "metadata": {},
   "outputs": [],
   "source": [
    "from transformers import pipeline\n",
    "from collections import defaultdict\n",
    "\n",
    "# Replace this with your own checkpoint\n",
    "model_checkpoint = \"./deberta-v3-large_v5_50e_split\"\n",
    "token_classifier = pipeline(\n",
    "    \"ner\", model=model_checkpoint, aggregation_strategy=\"simple\"\n",
    ")"
   ]
  },
  {
   "cell_type": "code",
   "execution_count": 35,
   "metadata": {},
   "outputs": [
    {
     "name": "stdout",
     "output_type": "stream",
     "text": [
      "ergonomic papasan chair for everyone : the heavy weight capacity frame is 40 inches wide ( included papasan chair cushion ) and 20 inches deep , making our rattan reading chair suitable and comfortable for different types of bodies ; the papasan chair with cushion and frame can support up to 400 pounds\n"
     ]
    }
   ],
   "source": [
    "def preprocess_description(description):\n",
    "    single_description = description.lower().strip()\n",
    "\n",
    "    # This description contains space between the first and second letter.\n",
    "    # special_description = '''\n",
    "    # ☀️【large size】- the size of the chair is w23.2 \"* l21\" * h40 \", the sitting height is 17\", and they also have a 40 \"high back and a 29\" sitting depth. compared with most chairs on the market, we have increased the back, widened the arm spacing, and lengthened the depth of the seat. you have a stronger sense of space when sitting, and more space for activities.\n",
    "    # '''.strip()\n",
    "\n",
    "    new_description = []\n",
    "    last_special = -1\n",
    "    for idx, letter in enumerate(single_description):\n",
    "        if not (('a' <= letter and letter <= 'z') or ('0' <= letter and letter <= '9') or letter == ' '):\n",
    "            pretext = single_description[last_special + 1:idx].strip()\n",
    "            if pretext != '' and pretext != ' ':\n",
    "                new_description.append(pretext)\n",
    "            new_description.append(letter.strip())\n",
    "            last_special = idx\n",
    "        if idx == len(single_description) - 1:\n",
    "            new_description.append(single_description[last_special + 1:idx + 1].strip())\n",
    "    return \" \".join(new_description)\n",
    "print(preprocess_description(\"ERGONOMIC PAPASAN CHAIR FOR EVERYONE: The heavy weight capacity frame is 40 inches wide (included papasan chair cushion) and 20 inches deep, making our rattan reading chair suitable and comfortable for different types of bodies; The papasan chair with cushion and frame can support up to 400 pounds\"))"
   ]
  },
  {
   "cell_type": "code",
   "execution_count": 46,
   "metadata": {
    "tags": []
   },
   "outputs": [
    {
     "name": "stdout",
     "output_type": "stream",
     "text": [
      "sturdy waterproof garden fence border : the wire fencing is made of durable iron material with waterproof powder coated surface which will make it to use outdoors for a long time\n",
      "--- HIGH SCORE ---\n",
      "PROPERTY: {'waterproof powder coated surface', 'wire fencing', 'waterproof', 'border'}\n",
      "MAT: {'iron'}\n",
      "--- LOW SCORE ---\n",
      "\n"
     ]
    }
   ],
   "source": [
    "description = '''\n",
    "sturdy waterproof garden fence border : the wire fencing is made of durable iron material with waterproof powder coated surface which will make it to use outdoors for a long time\n",
    "'''\n",
    "\n",
    "bullet_points = description.split(\"\\n\")\n",
    "for bullet_point in bullet_points:\n",
    "    bullet_point = preprocess_description(bullet_point)\n",
    "\n",
    "    if bullet_point != \"\":\n",
    "        print(bullet_point)\n",
    "\n",
    "        low_score_ans = defaultdict(set)\n",
    "        high_score_ans = defaultdict(set)\n",
    "        results = token_classifier(bullet_point)\n",
    "        for res in results:\n",
    "            group = res['entity_group']\n",
    "            if res['score'] >= 0.5:\n",
    "                high_score_ans[group].add(res['word'].lower())\n",
    "            else:\n",
    "                low_score_ans[group].add(res['word'].lower())\n",
    "\n",
    "        print(\"--- HIGH SCORE ---\")\n",
    "        for key in high_score_ans.keys():\n",
    "            line = f\"{key}: {high_score_ans[key]}\"\n",
    "            print(line)\n",
    "\n",
    "        print(\"--- LOW SCORE ---\")\n",
    "        for key in low_score_ans.keys():\n",
    "            line = f\"{key}: {low_score_ans[key]}\"\n",
    "            print(line)\n",
    "        print()"
   ]
  },
  {
   "cell_type": "code",
   "execution_count": 38,
   "metadata": {},
   "outputs": [
    {
     "name": "stdout",
     "output_type": "stream",
     "text": [
      "--- HIGH SCORE ---\n",
      "PROPERTY: {'easy-grip neoprene coating'}\n",
      "SHAPE: {'hexagonal shape'}\n",
      "--- LOW SCORE ---\n"
     ]
    }
   ],
   "source": [
    "description = '''\n",
    "Easy-grip neoprene coating for a secure hold, Hexagonal shape prevents dumbbells from rolling away\n",
    "'''\n",
    "\n",
    "low_score_ans = defaultdict(set)\n",
    "high_score_ans = defaultdict(set)\n",
    "\n",
    "bullet_points = description.split(\"\\n\")\n",
    "for bullet_point in bullet_points:\n",
    "    bullet_point = bullet_point.strip()\n",
    "    if bullet_point != \"\":\n",
    "        results = token_classifier(bullet_point)\n",
    "        for res in results:\n",
    "            group = res['entity_group']\n",
    "            if res['score'] >= 0.5:\n",
    "                high_score_ans[group].add(res['word'].lower())\n",
    "            else:\n",
    "                low_score_ans[group].add(res['word'].lower())\n",
    "\n",
    "print(\"--- HIGH SCORE ---\")\n",
    "for key in high_score_ans.keys():\n",
    "    line = f\"{key}: {high_score_ans[key]}\"\n",
    "    print(line)\n",
    "\n",
    "print(\"--- LOW SCORE ---\")\n",
    "for key in low_score_ans.keys():\n",
    "    line = f\"{key}: {low_score_ans[key]}\"\n",
    "    print(line)"
   ]
  },
  {
   "cell_type": "markdown",
   "metadata": {},
   "source": [
    "## Multiple Inference"
   ]
  },
  {
   "cell_type": "code",
   "execution_count": null,
   "metadata": {
    "tags": []
   },
   "outputs": [
    {
     "data": {
      "text/plain": [
       "[{'entity_group': 'PROPERTY',\n",
       "  'score': 0.9972402,\n",
       "  'word': 'inner - weave',\n",
       "  'start': 14,\n",
       "  'end': 25},\n",
       " {'entity_group': 'PROPERTY',\n",
       "  'score': 0.99640507,\n",
       "  'word': 'cross - stitched canvas inside lining',\n",
       "  'start': 27,\n",
       "  'end': 62}]"
      ]
     },
     "execution_count": 23,
     "metadata": {},
     "output_type": "execute_result"
    }
   ],
   "source": [
    "from transformers import pipeline\n",
    "\n",
    "# Replace this with your own checkpoint\n",
    "model_checkpoint = \"./bert-finetuned-ner\"\n",
    "model = pipeline(\n",
    "    \"ner\", model=model_checkpoint, aggregation_strategy=\"simple\"\n",
    ")\n",
    "token_classifier(description)"
   ]
  },
  {
   "cell_type": "markdown",
   "metadata": {},
   "source": [
    "## Text clustering"
   ]
  },
  {
   "cell_type": "code",
   "execution_count": null,
   "metadata": {},
   "outputs": [
    {
     "name": "stderr",
     "output_type": "stream",
     "text": [
      "2023-09-08 14:47:20.625248: I tensorflow/core/util/port.cc:110] oneDNN custom operations are on. You may see slightly different numerical results due to floating-point round-off errors from different computation orders. To turn them off, set the environment variable `TF_ENABLE_ONEDNN_OPTS=0`.\n",
      "2023-09-08 14:47:20.650816: I tensorflow/core/platform/cpu_feature_guard.cc:182] This TensorFlow binary is optimized to use available CPU instructions in performance-critical operations.\n",
      "To enable the following instructions: AVX2 AVX_VNNI FMA, in other operations, rebuild TensorFlow with the appropriate compiler flags.\n",
      "2023-09-08 14:47:21.018300: W tensorflow/compiler/tf2tensorrt/utils/py_utils.cc:38] TF-TRT Warning: Could not find TensorRT\n"
     ]
    },
    {
     "name": "stdout",
     "output_type": "stream",
     "text": [
      "The new movie is awesome \t\t The new movie is so great \t\t Score: 0.8939\n",
      "The cat sits outside \t\t The cat plays in the garden \t\t Score: 0.6788\n",
      "I love pasta \t\t Do you like pizza? \t\t Score: 0.5096\n",
      "I love pasta \t\t The new movie is so great \t\t Score: 0.2560\n",
      "I love pasta \t\t The new movie is awesome \t\t Score: 0.2440\n",
      "A man is playing guitar \t\t The cat plays in the garden \t\t Score: 0.2105\n",
      "The new movie is awesome \t\t Do you like pizza? \t\t Score: 0.1969\n",
      "The new movie is so great \t\t Do you like pizza? \t\t Score: 0.1692\n",
      "The cat sits outside \t\t A woman watches TV \t\t Score: 0.1310\n",
      "The cat plays in the garden \t\t Do you like pizza? \t\t Score: 0.0900\n"
     ]
    }
   ],
   "source": [
    "from sentence_transformers import SentenceTransformer, util\n",
    "\n",
    "model = SentenceTransformer('all-MiniLM-L6-v2')\n",
    "\n",
    "# Single list of sentences - Possible tens of thousands of sentences\n",
    "sentences = ['The cat sits outside',\n",
    "             'A man is playing guitar',\n",
    "             'I love pasta',\n",
    "             'The new movie is awesome',\n",
    "             'The cat plays in the garden',\n",
    "             'A woman watches TV',\n",
    "             'The new movie is so great',\n",
    "             'Do you like pizza?']\n",
    "\n",
    "paraphrases = util.paraphrase_mining(model, sentences)\n",
    "\n",
    "for paraphrase in paraphrases[0:10]:\n",
    "    score, i, j = paraphrase\n",
    "    print(\"{} \\t\\t {} \\t\\t Score: {:.4f}\".format(sentences[i], sentences[j], score))"
   ]
  },
  {
   "cell_type": "code",
   "execution_count": 37,
   "metadata": {},
   "outputs": [
    {
     "name": "stdout",
     "output_type": "stream",
     "text": [
      "Unexpected exception formatting exception. Falling back to standard exception\n"
     ]
    },
    {
     "name": "stderr",
     "output_type": "stream",
     "text": [
      "Traceback (most recent call last):\n",
      "  File \"/home/tanluuuuuuu/miniconda3/envs/one_for_all/lib/python3.8/site-packages/transformers/utils/import_utils.py\", line 1099, in _get_module\n",
      "  File \"/home/tanluuuuuuu/miniconda3/envs/one_for_all/lib/python3.8/importlib/__init__.py\", line 127, in import_module\n",
      "    return _bootstrap._gcd_import(name[level:], package, level)\n",
      "  File \"<frozen importlib._bootstrap>\", line 1014, in _gcd_import\n",
      "  File \"<frozen importlib._bootstrap>\", line 991, in _find_and_load\n",
      "  File \"<frozen importlib._bootstrap>\", line 973, in _find_and_load_unlocked\n",
      "ModuleNotFoundError: No module named 'transformers.models.bark.configuration_bark'\n",
      "\n",
      "The above exception was the direct cause of the following exception:\n",
      "\n",
      "Traceback (most recent call last):\n",
      "  File \"/home/tanluuuuuuu/miniconda3/envs/one_for_all/lib/python3.8/site-packages/IPython/core/interactiveshell.py\", line 3505, in run_code\n",
      "    exec(code_obj, self.user_global_ns, self.user_ns)\n",
      "  File \"/tmp/ipykernel_1263886/2283165407.py\", line 5, in <module>\n",
      "    model = SentenceTransformer('all-MiniLM-L6-v2')\n",
      "  File \"/home/tanluuuuuuu/miniconda3/envs/one_for_all/lib/python3.8/site-packages/sentence_transformers/SentenceTransformer.py\", line 95, in __init__\n",
      "    modules = self._load_sbert_model(model_path)\n",
      "  File \"/home/tanluuuuuuu/miniconda3/envs/one_for_all/lib/python3.8/site-packages/sentence_transformers/SentenceTransformer.py\", line 840, in _load_sbert_model\n",
      "    module = module_class.load(os.path.join(model_path, module_config['path']))\n",
      "  File \"/home/tanluuuuuuu/miniconda3/envs/one_for_all/lib/python3.8/site-packages/sentence_transformers/models/Transformer.py\", line 137, in load\n",
      "    return Transformer(model_name_or_path=input_path, **config)\n",
      "  File \"/home/tanluuuuuuu/miniconda3/envs/one_for_all/lib/python3.8/site-packages/sentence_transformers/models/Transformer.py\", line 29, in __init__\n",
      "    self._load_model(model_name_or_path, config, cache_dir)\n",
      "  File \"/home/tanluuuuuuu/miniconda3/envs/one_for_all/lib/python3.8/site-packages/sentence_transformers/models/Transformer.py\", line 49, in _load_model\n",
      "    self.auto_model = AutoModel.from_pretrained(model_name_or_path, config=config, cache_dir=cache_dir)\n",
      "  File \"/home/tanluuuuuuu/miniconda3/envs/one_for_all/lib/python3.8/site-packages/transformers/models/auto/auto_factory.py\", line 474, in from_pretrained\n",
      "    class_ref = config.auto_map[cls.__name__]\n",
      "  File \"/home/tanluuuuuuu/miniconda3/envs/one_for_all/lib/python3.8/site-packages/transformers/models/auto/auto_factory.py\", line 683, in keys\n",
      "    return self.__getitem__(key)\n",
      "  File \"/home/tanluuuuuuu/miniconda3/envs/one_for_all/lib/python3.8/site-packages/transformers/models/auto/auto_factory.py\", line 684, in <listcomp>\n",
      "    except KeyError:\n",
      "  File \"/home/tanluuuuuuu/miniconda3/envs/one_for_all/lib/python3.8/site-packages/transformers/models/auto/auto_factory.py\", line 680, in _load_attr_from_module\n",
      "  File \"/home/tanluuuuuuu/miniconda3/envs/one_for_all/lib/python3.8/site-packages/transformers/models/auto/auto_factory.py\", line 625, in getattribute_from_module\n",
      "    except ValueError:\n",
      "  File \"/home/tanluuuuuuu/miniconda3/envs/one_for_all/lib/python3.8/site-packages/transformers/utils/import_utils.py\", line 1089, in __getattr__\n",
      "    f\"Failed to import {self.__name__}.{module_name} because of the following error (look up to see its\"\n",
      "  File \"/home/tanluuuuuuu/miniconda3/envs/one_for_all/lib/python3.8/site-packages/transformers/utils/import_utils.py\", line 1101, in _get_module\n",
      "    def direct_transformers_import(path: str, file=\"__init__.py\") -> ModuleType:\n",
      "RuntimeError: Failed to import transformers.models.bark.configuration_bark because of the following error (look up to see its traceback):\n",
      "No module named 'transformers.models.bark.configuration_bark'\n",
      "\n",
      "During handling of the above exception, another exception occurred:\n",
      "\n",
      "Traceback (most recent call last):\n",
      "  File \"/home/tanluuuuuuu/miniconda3/envs/one_for_all/lib/python3.8/site-packages/IPython/core/interactiveshell.py\", line 2102, in showtraceback\n",
      "    stb = self.InteractiveTB.structured_traceback(\n",
      "  File \"/home/tanluuuuuuu/miniconda3/envs/one_for_all/lib/python3.8/site-packages/IPython/core/ultratb.py\", line 1310, in structured_traceback\n",
      "    return FormattedTB.structured_traceback(\n",
      "  File \"/home/tanluuuuuuu/miniconda3/envs/one_for_all/lib/python3.8/site-packages/IPython/core/ultratb.py\", line 1199, in structured_traceback\n",
      "    return VerboseTB.structured_traceback(\n",
      "  File \"/home/tanluuuuuuu/miniconda3/envs/one_for_all/lib/python3.8/site-packages/IPython/core/ultratb.py\", line 1052, in structured_traceback\n",
      "    formatted_exception = self.format_exception_as_a_whole(etype, evalue, etb, number_of_lines_of_context,\n",
      "  File \"/home/tanluuuuuuu/miniconda3/envs/one_for_all/lib/python3.8/site-packages/IPython/core/ultratb.py\", line 978, in format_exception_as_a_whole\n",
      "    frames.append(self.format_record(record))\n",
      "  File \"/home/tanluuuuuuu/miniconda3/envs/one_for_all/lib/python3.8/site-packages/IPython/core/ultratb.py\", line 878, in format_record\n",
      "    frame_info.lines, Colors, self.has_colors, lvals\n",
      "  File \"/home/tanluuuuuuu/miniconda3/envs/one_for_all/lib/python3.8/site-packages/IPython/core/ultratb.py\", line 712, in lines\n",
      "    return self._sd.lines\n",
      "  File \"/home/tanluuuuuuu/miniconda3/envs/one_for_all/lib/python3.8/site-packages/stack_data/utils.py\", line 145, in cached_property_wrapper\n",
      "    value = obj.__dict__[self.func.__name__] = self.func(obj)\n",
      "  File \"/home/tanluuuuuuu/miniconda3/envs/one_for_all/lib/python3.8/site-packages/stack_data/core.py\", line 698, in lines\n",
      "    pieces = self.included_pieces\n",
      "  File \"/home/tanluuuuuuu/miniconda3/envs/one_for_all/lib/python3.8/site-packages/stack_data/utils.py\", line 145, in cached_property_wrapper\n",
      "    value = obj.__dict__[self.func.__name__] = self.func(obj)\n",
      "  File \"/home/tanluuuuuuu/miniconda3/envs/one_for_all/lib/python3.8/site-packages/stack_data/core.py\", line 649, in included_pieces\n",
      "    pos = scope_pieces.index(self.executing_piece)\n",
      "  File \"/home/tanluuuuuuu/miniconda3/envs/one_for_all/lib/python3.8/site-packages/stack_data/utils.py\", line 145, in cached_property_wrapper\n",
      "    value = obj.__dict__[self.func.__name__] = self.func(obj)\n",
      "  File \"/home/tanluuuuuuu/miniconda3/envs/one_for_all/lib/python3.8/site-packages/stack_data/core.py\", line 628, in executing_piece\n",
      "    return only(\n",
      "  File \"/home/tanluuuuuuu/miniconda3/envs/one_for_all/lib/python3.8/site-packages/executing/executing.py\", line 164, in only\n",
      "    raise NotOneValueFound('Expected one value, found 0')\n",
      "executing.executing.NotOneValueFound: Expected one value, found 0\n"
     ]
    }
   ],
   "source": [
    "from sklearn.cluster import DBSCAN\n",
    "from collections import defaultdict\n",
    "from sentence_transformers import SentenceTransformer\n",
    "\n",
    "model = SentenceTransformer('all-MiniLM-L6-v2')\n",
    "\n",
    "list_noun_phrase = [\n",
    "    'vinyl coated', 'wide, smooth handle', 'durable vinyl coated finish', 'textured handle', 'increase durability', 'stability', 'flat bottom', 'reduce noise', 'protect flooring', 'any age', 'wide range of weights', 'prevent corrosion', 'high-quality', 'comfortable & secure grip', 'upright storage',\n",
    "    'bands', 'resistance bands', 'exercise band',\n",
    "    'all-purpose color', 'easier storage', 'better grip', 'coated', 'easy recognition of the weight', 'prevent rolling',\n",
    "    'flat bottom', 'textured wide handle', 'non-slip grip',\n",
    "    'glossy finish wide', 'smooth handle', 'black paint finish', 'smooth, slightly textured handle',\n",
    "    'solid smooth', 'rubber base', 'wide, smooth handle', 'smooth, slightly textured handle',\n",
    "    'increase durability', 'functional fitness', 'versatile', 'stability', 'flat bottom', 'better grip strength', 'adjustable', 'prevent corrosion', 'glossy finish', 'comfortable & secure grip', 'upright storage',\n",
    "\n",
    "    'easier on wrist', 'precision made', 'stamped in', 'strong grip handles', 'forearm', 'easier to maintain a strong', 'durable', 'recessed logos', 'powder coating', 'smooth finish', 'gravity casting', '##y', 'close'\n",
    "]\n",
    "embeddings = model.encode(list_noun_phrase)\n",
    "\n",
    "\n",
    "cluster = DBSCAN(eps = 0.4, min_samples = 1, metric = 'cosine').fit(embeddings)\n",
    "\n",
    "\n",
    "clusters = defaultdict(list)\n",
    "\n",
    "for i, label in enumerate(cluster.labels_):\n",
    "    clusters[label].append(list_noun_phrase[i])\n",
    "display(clusters)"
   ]
  },
  {
   "cell_type": "markdown",
   "metadata": {},
   "source": [
    "## Fix format COLNN2003"
   ]
  },
  {
   "cell_type": "code",
   "execution_count": 8,
   "metadata": {},
   "outputs": [
    {
     "name": "stdout",
     "output_type": "stream",
     "text": [
      "👉 -X- _ O\n",
      "【 -X- _ O\n",
      "EASY -X- _ B-FEATURE\n"
     ]
    }
   ],
   "source": [
    "label0 = '-X- _ O'\n",
    "\n",
    "line = '👉【EASY -X- _ B-FEATURE'\n",
    "\n",
    "word = line.split(\" \")[0]\n",
    "label = line.split(\" \")[1:]\n",
    "\n",
    "idx = word.find(\"【\")\n",
    "\n",
    "line1 = word[:idx] + \" \" + label0\n",
    "\n",
    "line2 = \"【\" + \" \" + label0\n",
    "\n",
    "line3 = word[idx + 1:] + \" \" + \" \".join(label) \n",
    "\n",
    "print(line1)\n",
    "print(line2)\n",
    "print(line3)"
   ]
  },
  {
   "cell_type": "code",
   "execution_count": 12,
   "metadata": {},
   "outputs": [
    {
     "name": "stdout",
     "output_type": "stream",
     "text": [
      "['-X-', '_', 'B-FEATURE']\n",
      "【 -X- _ O\n",
      "UNFILLED -X- _ B-FEATURE\n",
      "】 -X- _ O\n"
     ]
    }
   ],
   "source": [
    "LABEL0 = '-X- _ O'\n",
    "\n",
    "line = '【UNFILLED】 -X- _ B-FEATURE'\n",
    "\n",
    "word = line.split(\" \")[0]\n",
    "label = line.split(\" \")[1:]\n",
    "print(label)\n",
    "\n",
    "idxl = word.find(\"【\")\n",
    "idxr = word.find(\"】\")\n",
    "\n",
    "line1 = word[:idxl + 1] + \" \" + LABEL0\n",
    "\n",
    "line2 = word[idxl + 1: idxr] + \" \" + \" \".join(label) \n",
    "\n",
    "line3 = word[idxr: ] + \" \" + LABEL0\n",
    "\n",
    "print(line1)\n",
    "print(line2)\n",
    "print(line3)"
   ]
  },
  {
   "cell_type": "code",
   "execution_count": 18,
   "metadata": {},
   "outputs": [
    {
     "name": "stdout",
     "output_type": "stream",
     "text": [
      "Accessories -X- _ O\n",
      "】 -X- _ O\n",
      "Includes：1 -X- _ B-PROPERTY\n"
     ]
    }
   ],
   "source": [
    "LABEL0 = '-X- _ O'\n",
    "\n",
    "line = 'Accessories】Includes：1 -X- _ B-PROPERTY'\n",
    "line = 'Waterproof】The -X- _ B-FEATURE'\n",
    "\n",
    "word = line.split(\" \")[0]\n",
    "label = line.split(\" \")[1:]\n",
    "\n",
    "idx = word.find(\"】\")\n",
    "\n",
    "if \"I-\" in \" \".join(label):\n",
    "    line1 = word[:idx] + \" \" + \" \".join(label)\n",
    "else:\n",
    "    line1 = word[:idx] + \" \" + LABEL0\n",
    "\n",
    "line2 = \"】\" + \" \" + LABEL0 \n",
    "\n",
    "if \"B-\" in \" \".join(label):\n",
    "    line3 = word[idx + 1: ] + \" \" + \" \".join(label)\n",
    "else:\n",
    "    line3 = word[idx + 1: ] + \" \" + LABEL0\n",
    "\n",
    "print(line1)\n",
    "print(line2)\n",
    "print(line3)"
   ]
  }
 ],
 "metadata": {
  "kernelspec": {
   "display_name": "Python 3 (ipykernel)",
   "language": "python",
   "name": "python3"
  },
  "language_info": {
   "codemirror_mode": {
    "name": "ipython",
    "version": 3
   },
   "file_extension": ".py",
   "mimetype": "text/x-python",
   "name": "python",
   "nbconvert_exporter": "python",
   "pygments_lexer": "ipython3",
   "version": "3.8.10"
  }
 },
 "nbformat": 4,
 "nbformat_minor": 4
}
