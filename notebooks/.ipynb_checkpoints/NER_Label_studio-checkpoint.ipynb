{
 "cells": [
  {
   "cell_type": "markdown",
   "metadata": {},
   "source": [
    "# FiX DATA"
   ]
  },
  {
   "cell_type": "code",
   "execution_count": 10,
   "metadata": {},
   "outputs": [],
   "source": [
    "import json\n",
    "\n",
    "f = open(\"../data/label_ner_1_1015.json\")\n",
    "\n",
    "def adding_space(s):\n",
    "    single_description = s.lower().strip()\n",
    "    new_description = []\n",
    "    last_special = -1\n",
    "    for idx, letter in enumerate(single_description):\n",
    "        if not (('a' <= letter and letter <= 'z') or ('0' <= letter and letter <= '9') or letter == ' '):\n",
    "            pretext = single_description[last_special + 1:idx].strip()\n",
    "            if pretext != '' and pretext != ' ':\n",
    "                new_description.append(pretext)\n",
    "            new_description.append(letter.strip())\n",
    "            last_special = idx\n",
    "        if idx == len(single_description) - 1:\n",
    "            new_description.append(single_description[last_special + 1:idx + 1].strip())\n",
    "\n",
    "    new_description = ' '.join(new_description).lower().strip()\n",
    "    return new_description\n",
    "\n",
    "list_data = json.load(f)\n",
    "list_sentence = []\n",
    "list_locs = []\n",
    "list_words = []\n",
    "list_id = []\n",
    "for i_list_data, data in enumerate(list_data):\n",
    "    original_description = data['data']['text']\n",
    "    original_annotations = data['annotations']\n",
    "\n",
    "    new_description = adding_space(original_description)\n",
    "\n",
    "    locs = []\n",
    "    words = []\n",
    "    set_new_locations = set()\n",
    "    for annotation in original_annotations:\n",
    "        results = annotation['result']\n",
    "        for ia, result in enumerate(results):\n",
    "            label = result['value']['labels'][0]\n",
    "            org_start = result['value']['start']\n",
    "            org_end = result['value']['end']\n",
    "            org_word = result['value']['text'].lower().strip()\n",
    "            new_word = adding_space(org_word)\n",
    "            word_len = len(new_word)\n",
    "            new_start = None\n",
    "            new_end = None\n",
    "            for i in range(org_start, len(new_description)):\n",
    "                if new_description[i:i+word_len] == new_word and (i, i+word_len) not in set_new_locations:\n",
    "                    new_start = i\n",
    "                    new_end = i + word_len\n",
    "                    set_new_locations.add((new_start, new_end))\n",
    "                    list_data[i_list_data]['annotations'][0]['result'][ia]['value']['text'] = new_word\n",
    "                    list_data[i_list_data]['annotations'][0]['result'][ia]['value']['start'] = new_start\n",
    "                    list_data[i_list_data]['annotations'][0]['result'][ia]['value']['end'] = new_end\n",
    "                    break\n",
    "    list_data[i_list_data]['data']['text'] = new_description\n",
    "    if len(set_new_locations) != len(annotation['result']):\n",
    "        print(i_list_data)\n",
    "        # print(original_description)\n",
    "        # print(new_description)\n",
    "        # display(original_annotations)\n",
    "        # print(set_new_locations)\n",
    "        # display(annotation['result'])\n",
    "        break"
   ]
  },
  {
   "cell_type": "code",
   "execution_count": 11,
   "metadata": {},
   "outputs": [],
   "source": [
    "with open(\"../data/label_ner_1_1015_fixed.json\", \"w\") as outfile:\n",
    "    json.dump(list_data, outfile)"
   ]
  },
  {
   "cell_type": "markdown",
   "metadata": {},
   "source": [
    "## TRAIN BERT"
   ]
  },
  {
   "cell_type": "code",
   "execution_count": 12,
   "metadata": {
    "tags": []
   },
   "outputs": [
    {
     "name": "stdout",
     "output_type": "stream",
     "text": [
      "CUDA:  True\n"
     ]
    }
   ],
   "source": [
    "import torch\n",
    "import pandas as pd\n",
    "\n",
    "print(\"CUDA: \", torch.cuda.is_available())"
   ]
  },
  {
   "cell_type": "code",
   "execution_count": 13,
   "metadata": {
    "tags": []
   },
   "outputs": [
    {
     "name": "stderr",
     "output_type": "stream",
     "text": [
      "Special tokens have been added in the vocabulary, make sure the associated word embeddings are fine-tuned or trained.\n",
      "/home/tanluuuuuuu/miniconda3/envs/one_for_all/lib/python3.8/site-packages/transformers/convert_slow_tokenizer.py:454: UserWarning: The sentencepiece tokenizer that you are converting to a fast tokenizer uses the byte fallback option which is not implemented in the fast tokenizers. In practice this means that the fast version of the tokenizer can produce unknown tokens whereas the sentencepiece version would have converted these unknown tokens into a sequence of byte tokens matching the original piece of text.\n",
      "  warnings.warn(\n",
      "Special tokens have been added in the vocabulary, make sure the associated word embeddings are fine-tuned or trained.\n"
     ]
    }
   ],
   "source": [
    "from transformers import AutoTokenizer\n",
    "\n",
    "# https://huggingface.co/docs/transformers/tasks/token_classification\n",
    "# model_checkpoint = \"distilbert-base-uncased\"\n",
    "# model_checkpoint = \"./bert-finetuned-ner\"\n",
    "# model_checkpoint = \"bert-base-cased\"\n",
    "# model_checkpoint = \"dslim/bert-base-NER\"\n",
    "# model_checkpoint = \"roberta-base\"\n",
    "model_checkpoint = \"microsoft/deberta-v3-large\"\n",
    "\n",
    "tokenizer = AutoTokenizer.from_pretrained(model_checkpoint)"
   ]
  },
  {
   "cell_type": "code",
   "execution_count": 14,
   "metadata": {},
   "outputs": [],
   "source": [
    "REMOVE_LABELS = ['AGE_GROUP', 'GENDER', 'FEATURE', 'TARGET_USAGE', 'MAIN_PRODUCT', 'COMPONENT']"
   ]
  },
  {
   "cell_type": "code",
   "execution_count": 15,
   "metadata": {},
   "outputs": [
    {
     "name": "stdout",
     "output_type": "stream",
     "text": [
      "MAT\n",
      "NMAT\n",
      "DIMENSION\n",
      "COMPONENT\n",
      "MAIN_PRODUCT\n",
      "WEIGHT\n",
      "TARGET_USER\n",
      "PROPERTY\n",
      "COLOR\n",
      "SHAPE\n",
      "['O', 'B-MAT', 'I-MAT', 'B-NMAT', 'I-NMAT', 'B-DIMENSION', 'I-DIMENSION', 'B-WEIGHT', 'I-WEIGHT', 'B-TARGET_USER', 'I-TARGET_USER', 'B-PROPERTY', 'I-PROPERTY', 'B-COLOR', 'I-COLOR', 'B-SHAPE', 'I-SHAPE']\n",
      "17\n"
     ]
    }
   ],
   "source": [
    "ner_tags_doccano = [\n",
    "    {\n",
    "        \"id\": 6,\n",
    "        \"text\": \"MAT\",\n",
    "\n",
    "    },\n",
    "    {\n",
    "        \"id\": 7,\n",
    "        \"text\": \"NMAT\",\n",
    "\n",
    "    },\n",
    "    {\n",
    "        \"id\": 8,\n",
    "        \"text\": \"DIMENSION\",\n",
    "\n",
    "    },\n",
    "    {\n",
    "        \"id\": 11,\n",
    "        \"text\": \"COMPONENT\",\n",
    "\n",
    "    },\n",
    "    {\n",
    "        \"id\": 13,\n",
    "        \"text\": \"MAIN_PRODUCT\",\n",
    "\n",
    "    },\n",
    "    {\n",
    "        \"id\": 14,\n",
    "        \"text\": \"WEIGHT\",\n",
    "\n",
    "    },\n",
    "    {\n",
    "        \"id\": 15,\n",
    "        \"text\": \"TARGET_USER\",\n",
    "\n",
    "    },\n",
    "    {\n",
    "        \"id\": 17,\n",
    "        \"text\": \"PROPERTY\",\n",
    "\n",
    "    },\n",
    "    {\n",
    "        \"id\": 18,\n",
    "        \"text\": \"COLOR\",\n",
    "\n",
    "    },\n",
    "    {\n",
    "        \"id\": 19,\n",
    "        \"text\": \"SHAPE\",\n",
    "\n",
    "    }\n",
    "]\n",
    "\n",
    "processed_ner_tags = ['O']\n",
    "for tag in ner_tags_doccano:\n",
    "    if tag['text'] not in REMOVE_LABELS:\n",
    "        processed_ner_tags.append(f\"B-{tag['text']}\")\n",
    "        processed_ner_tags.append(f\"I-{tag['text']}\")\n",
    "        print(tag['text'])\n",
    "    else:\n",
    "        print(tag['text'])\n",
    "\n",
    "print(processed_ner_tags)\n",
    "print(len(processed_ner_tags))\n",
    "\n",
    "ner_tags_2_number = {t: i for (i, t) in enumerate(processed_ner_tags)}"
   ]
  },
  {
   "cell_type": "code",
   "execution_count": 16,
   "metadata": {
    "tags": []
   },
   "outputs": [
    {
     "data": {
      "text/html": [
       "<div>\n",
       "<style scoped>\n",
       "    .dataframe tbody tr th:only-of-type {\n",
       "        vertical-align: middle;\n",
       "    }\n",
       "\n",
       "    .dataframe tbody tr th {\n",
       "        vertical-align: top;\n",
       "    }\n",
       "\n",
       "    .dataframe thead th {\n",
       "        text-align: right;\n",
       "    }\n",
       "</style>\n",
       "<table border=\"1\" class=\"dataframe\">\n",
       "  <thead>\n",
       "    <tr style=\"text-align: right;\">\n",
       "      <th></th>\n",
       "      <th>sentence</th>\n",
       "      <th>locs</th>\n",
       "      <th>words</th>\n",
       "    </tr>\n",
       "  </thead>\n",
       "  <tbody>\n",
       "    <tr>\n",
       "      <th>0</th>\n",
       "      <td>👍 【 folding &amp; portable rebounder 】 the jump tr...</td>\n",
       "      <td>[(4, 11, PROPERTY), (14, 32, PROPERTY), (222, ...</td>\n",
       "      <td>[folding, portable rebounder, portable]</td>\n",
       "    </tr>\n",
       "    <tr>\n",
       "      <th>1</th>\n",
       "      <td>uv printing</td>\n",
       "      <td>[(0, 2, MAT)]</td>\n",
       "      <td>[uv]</td>\n",
       "    </tr>\n",
       "    <tr>\n",
       "      <th>2</th>\n",
       "      <td>premium eco friendly material with no odor : o...</td>\n",
       "      <td>[(123, 133, NMAT), (50, 66, PROPERTY), (35, 42...</td>\n",
       "      <td>[phthalates, non - allergenic, no odor, non - ...</td>\n",
       "    </tr>\n",
       "    <tr>\n",
       "      <th>3</th>\n",
       "      <td>boxing speed ball : pu material speed ball , c...</td>\n",
       "      <td>[(20, 22, MAT), (105, 118, PROPERTY), (79, 89,...</td>\n",
       "      <td>[pu, without sound, 90 degrees, rebound]</td>\n",
       "    </tr>\n",
       "    <tr>\n",
       "      <th>4</th>\n",
       "      <td>weighs 100 lbs</td>\n",
       "      <td>[(7, 14, WEIGHT)]</td>\n",
       "      <td>[100 lbs]</td>\n",
       "    </tr>\n",
       "    <tr>\n",
       "      <th>...</th>\n",
       "      <td>...</td>\n",
       "      <td>...</td>\n",
       "      <td>...</td>\n",
       "    </tr>\n",
       "    <tr>\n",
       "      <th>2056</th>\n",
       "      <td>uv protection : light filtering soft sail shad...</td>\n",
       "      <td>[(16, 31, PROPERTY), (32, 54, PROPERTY), (66, ...</td>\n",
       "      <td>[light filtering, soft sail shade canopy, soft...</td>\n",
       "    </tr>\n",
       "    <tr>\n",
       "      <th>2057</th>\n",
       "      <td>powered up : exclusive removable powerport fea...</td>\n",
       "      <td>[(23, 32, PROPERTY), (52, 72, PROPERTY), (77, ...</td>\n",
       "      <td>[removable, 3 electrical outlets, 3 usb ports]</td>\n",
       "    </tr>\n",
       "    <tr>\n",
       "      <th>2058</th>\n",
       "      <td>steel anchoring plates : powder coated steel a...</td>\n",
       "      <td>[(0, 22, PROPERTY), (25, 61, PROPERTY), (72, 9...</td>\n",
       "      <td>[steel anchoring plates, powder coated steel a...</td>\n",
       "    </tr>\n",
       "    <tr>\n",
       "      <th>2059</th>\n",
       "      <td>easy assembly : supported by step - by - step ...</td>\n",
       "      <td>[(58, 66, PROPERTY)]</td>\n",
       "      <td>[bilt app]</td>\n",
       "    </tr>\n",
       "    <tr>\n",
       "      <th>2060</th>\n",
       "      <td>【 fitness and fat burning 】 the training tubes...</td>\n",
       "      <td>[(147, 157, PROPERTY), (175, 186, PROPERTY)]</td>\n",
       "      <td>[resistance, color coded]</td>\n",
       "    </tr>\n",
       "  </tbody>\n",
       "</table>\n",
       "<p>2061 rows × 3 columns</p>\n",
       "</div>"
      ],
      "text/plain": [
       "                                               sentence  \\\n",
       "0     👍 【 folding & portable rebounder 】 the jump tr...   \n",
       "1                                           uv printing   \n",
       "2     premium eco friendly material with no odor : o...   \n",
       "3     boxing speed ball : pu material speed ball , c...   \n",
       "4                                        weighs 100 lbs   \n",
       "...                                                 ...   \n",
       "2056  uv protection : light filtering soft sail shad...   \n",
       "2057  powered up : exclusive removable powerport fea...   \n",
       "2058  steel anchoring plates : powder coated steel a...   \n",
       "2059  easy assembly : supported by step - by - step ...   \n",
       "2060  【 fitness and fat burning 】 the training tubes...   \n",
       "\n",
       "                                                   locs  \\\n",
       "0     [(4, 11, PROPERTY), (14, 32, PROPERTY), (222, ...   \n",
       "1                                         [(0, 2, MAT)]   \n",
       "2     [(123, 133, NMAT), (50, 66, PROPERTY), (35, 42...   \n",
       "3     [(20, 22, MAT), (105, 118, PROPERTY), (79, 89,...   \n",
       "4                                     [(7, 14, WEIGHT)]   \n",
       "...                                                 ...   \n",
       "2056  [(16, 31, PROPERTY), (32, 54, PROPERTY), (66, ...   \n",
       "2057  [(23, 32, PROPERTY), (52, 72, PROPERTY), (77, ...   \n",
       "2058  [(0, 22, PROPERTY), (25, 61, PROPERTY), (72, 9...   \n",
       "2059                               [(58, 66, PROPERTY)]   \n",
       "2060       [(147, 157, PROPERTY), (175, 186, PROPERTY)]   \n",
       "\n",
       "                                                  words  \n",
       "0               [folding, portable rebounder, portable]  \n",
       "1                                                  [uv]  \n",
       "2     [phthalates, non - allergenic, no odor, non - ...  \n",
       "3              [pu, without sound, 90 degrees, rebound]  \n",
       "4                                             [100 lbs]  \n",
       "...                                                 ...  \n",
       "2056  [light filtering, soft sail shade canopy, soft...  \n",
       "2057     [removable, 3 electrical outlets, 3 usb ports]  \n",
       "2058  [steel anchoring plates, powder coated steel a...  \n",
       "2059                                         [bilt app]  \n",
       "2060                          [resistance, color coded]  \n",
       "\n",
       "[2061 rows x 3 columns]"
      ]
     },
     "metadata": {},
     "output_type": "display_data"
    }
   ],
   "source": [
    "import json\n",
    "from collections import Counter\n",
    "import pandas as pd\n",
    "\n",
    "# file_path = '../data/label_studio_1017_shorter.json'\n",
    "label_counter = Counter()\n",
    "\n",
    "def read_data_json(list_file_path):\n",
    "    list_data = []\n",
    "    for file_path in list_file_path:\n",
    "        f = open(file_path)\n",
    "\n",
    "        list_data += json.load(f)\n",
    "\n",
    "    list_sentence = []\n",
    "    list_locs = []\n",
    "    list_words = []\n",
    "    for i, data in enumerate(list_data):\n",
    "        text = data['data']['text']\n",
    "        annotations = data['annotations']\n",
    "        locs = []\n",
    "        words = []\n",
    "        for annotation in annotations:\n",
    "            results = annotation['result']\n",
    "            for result in results:\n",
    "                start = result['value']['start']\n",
    "                end = result['value']['end']\n",
    "                label = result['value']['labels'][0]\n",
    "\n",
    "                if label not in REMOVE_LABELS:\n",
    "                    label_counter[label] += 1\n",
    "                    locs.append((str(start), str(end), str(label)))\n",
    "                    words.append(text[start:end])\n",
    "\n",
    "        list_sentence.append(text)\n",
    "        list_locs.append(locs)\n",
    "        list_words.append(words)\n",
    "\n",
    "    raw_dataset = pd.DataFrame()\n",
    "    raw_dataset['sentence'] = pd.Series(list_sentence)\n",
    "    raw_dataset['locs'] = pd.Series(list_locs)\n",
    "    raw_dataset['words'] = pd.Series(list_words)\n",
    "\n",
    "    raw_dataset.to_excel(\"./raw_dataset.xlsx\", index=False)\n",
    "    return raw_dataset\n",
    "\n",
    "def read_data_colnn(file_path):\n",
    "    file_colnn = open(file_path, 'r')\n",
    "    lines = file_colnn.readlines()\n",
    "\n",
    "    list_words = []\n",
    "    list_labels = []\n",
    "\n",
    "    word_pieces = []\n",
    "    label_pieces = []\n",
    "\n",
    "    for line in lines:\n",
    "        line = line.strip()\n",
    "        line_split = line.split(\" \")\n",
    "\n",
    "        if line_split[0] == \"-DOCSTART-\":\n",
    "            continue\n",
    "        elif line_split[0] == \"\":\n",
    "            list_words.append(word_pieces)\n",
    "            list_labels.append(label_pieces)\n",
    "\n",
    "            word_pieces = []\n",
    "            label_pieces = []\n",
    "            continue\n",
    "\n",
    "        word = line_split[0]\n",
    "        label = line_split[3]\n",
    "\n",
    "        if label in REMOVE_LABELS:\n",
    "            label = \"O\"\n",
    "            \n",
    "        label = ner_tags_2_number[label]\n",
    "\n",
    "        word_pieces.append(word)\n",
    "        label_pieces.append(label)\n",
    "\n",
    "    raw_dataset = pd.DataFrame()\n",
    "    raw_dataset['tokens'] = pd.Series(list_words)\n",
    "    raw_dataset['ner_tags'] = pd.Series(list_labels)\n",
    "    return raw_dataset\n",
    "\n",
    "raw_dataset = read_data_json([\"../data/label_ner_1_1015_fixed.json\", \n",
    "                               \"../data/label_ner_2_1044.json\"])\n",
    "display(raw_dataset)"
   ]
  },
  {
   "cell_type": "code",
   "execution_count": 17,
   "metadata": {},
   "outputs": [
    {
     "data": {
      "text/plain": [
       "Counter({'PROPERTY': 2973,\n",
       "         'MAT': 647,\n",
       "         'NMAT': 170,\n",
       "         'WEIGHT': 202,\n",
       "         'TARGET_USER': 768,\n",
       "         'DIMENSION': 521,\n",
       "         'COLOR': 112,\n",
       "         'SHAPE': 28})"
      ]
     },
     "execution_count": 17,
     "metadata": {},
     "output_type": "execute_result"
    }
   ],
   "source": [
    "label_counter"
   ]
  },
  {
   "cell_type": "code",
   "execution_count": 18,
   "metadata": {},
   "outputs": [
    {
     "data": {
      "image/png": "[encoded data removed]",
      "text/plain": [
       "<Figure size 1500x500 with 1 Axes>"
      ]
     },
     "metadata": {},
     "output_type": "display_data"
    }
   ],
   "source": [
    "import numpy as np\n",
    "import matplotlib.pyplot as plt\n",
    "\n",
    "\n",
    "# creating the dataset\n",
    "courses = list(label_counter.keys())\n",
    "values = list(label_counter.values())\n",
    "\n",
    "fig = plt.figure(figsize = (15, 5))\n",
    "\n",
    "# creating the bar plotlabel_studio_1017_shorter.json\n",
    "plt.bar(courses, values, color ='maroon',\n",
    "\t\twidth = 0.4)\n",
    "\n",
    "plt.xlabel(\"Label name\")\n",
    "plt.ylabel(\"Number of instance\")\n",
    "plt.title(\"Label statistic\")\n",
    "plt.show()\n"
   ]
  },
  {
   "cell_type": "code",
   "execution_count": 19,
   "metadata": {
    "tags": []
   },
   "outputs": [
    {
     "data": {
      "text/plain": [
       "sentence    👍 【 folding & portable rebounder 】 the jump tr...\n",
       "locs        [(4, 11, PROPERTY), (14, 32, PROPERTY), (222, ...\n",
       "words                 [folding, portable rebounder, portable]\n",
       "Name: 0, dtype: object"
      ]
     },
     "execution_count": 19,
     "metadata": {},
     "output_type": "execute_result"
    }
   ],
   "source": [
    "raw_dataset.loc[0]"
   ]
  },
  {
   "cell_type": "code",
   "execution_count": 20,
   "metadata": {
    "tags": []
   },
   "outputs": [
    {
     "data": {
      "text/plain": [
       "DatasetDict({\n",
       "    train: Dataset({\n",
       "        features: ['sentence', 'locs', 'words'],\n",
       "        num_rows: 2061\n",
       "    })\n",
       "    val: Dataset({\n",
       "        features: ['sentence', 'locs', 'words'],\n",
       "        num_rows: 2061\n",
       "    })\n",
       "    test: Dataset({\n",
       "        features: ['sentence', 'locs', 'words'],\n",
       "        num_rows: 2061\n",
       "    })\n",
       "})"
      ]
     },
     "execution_count": 20,
     "metadata": {},
     "output_type": "execute_result"
    }
   ],
   "source": [
    "from datasets import Dataset, DatasetDict, ClassLabel, Features, Value, Sequence\n",
    "\n",
    "train_dataset = Dataset.from_pandas(raw_dataset)\n",
    "val_dataset = Dataset.from_pandas(raw_dataset)\n",
    "test_dataset = Dataset.from_pandas(raw_dataset)\n",
    "\n",
    "raw_datasets = DatasetDict(\n",
    "    {\"train\": train_dataset, \"val\": val_dataset, \"test\": test_dataset})\n",
    "raw_datasets"
   ]
  },
  {
   "cell_type": "code",
   "execution_count": 21,
   "metadata": {
    "tags": []
   },
   "outputs": [],
   "source": [
    "def visualize_ner_tags(words, labels):\n",
    "    line1 = \"\"\n",
    "    line2 = \"\"\n",
    "    for word, label in zip(words, labels):\n",
    "        # print(word, label)\n",
    "        label = str(label)\n",
    "        max_length = max(len(word), len(label))\n",
    "        line1 += word + \" \" * (max_length - len(word) + 1)\n",
    "        line2 += label + \" \" * (max_length - len(label) + 1)\n",
    "    print(line1)\n",
    "    print(line2)"
   ]
  },
  {
   "cell_type": "code",
   "execution_count": 22,
   "metadata": {
    "tags": []
   },
   "outputs": [],
   "source": [
    "import ast\n",
    "\n",
    "\n",
    "def assign_ner_tags_bert(example):\n",
    "    # print(example['sentence'])\n",
    "    token_input = tokenizer(example['sentence'])\n",
    "    example['tokens'] = tokenizer.convert_ids_to_tokens(\n",
    "        token_input['input_ids'])\n",
    "\n",
    "    # print(example['sentence'])\n",
    "    # print(example['tokens'])\n",
    "    # print(\"len: \", len(example['tokens']))\n",
    "\n",
    "    ner_tags = [0 for token in example['tokens']]\n",
    "    if str(type(example['locs'])) == \"<class 'list'>\":\n",
    "        locs = example['locs']\n",
    "    else:\n",
    "        locs = ast.literal_eval(example['locs'])\n",
    "\n",
    "    locs = [(int(loc[0]), int(loc[1]), loc[2]) for loc in locs]\n",
    "    locs = sorted(locs)\n",
    "    # print(locs)\n",
    "    bg_id = 1\n",
    "    pre_loc = 0\n",
    "    text = example['sentence']\n",
    "    for loc in locs:\n",
    "        loc0 = int(loc[0])\n",
    "        loc1 = int(loc[1])\n",
    "\n",
    "        pre_text = text[pre_loc:loc0]\n",
    "        token_input = tokenizer(pre_text)\n",
    "        pre_token = tokenizer.convert_ids_to_tokens(\n",
    "            token_input['input_ids'])\n",
    "\n",
    "        # print(pre_text)\n",
    "        # print(pre_token)\n",
    "        # print(\"len: \", len(pre_token))\n",
    "\n",
    "        bg_id = bg_id + len(pre_token) - 2\n",
    "        pre_loc = loc1\n",
    "\n",
    "        # print(\"bg_id: \", bg_id)\n",
    "\n",
    "        word = example['sentence'][loc0: loc1]\n",
    "        token_input = tokenizer(word)\n",
    "        word_token = tokenizer.convert_ids_to_tokens(token_input['input_ids'])\n",
    "\n",
    "        # print(\"Word: \", word)\n",
    "        # print(word_token)\n",
    "        # print(\"len: \", len(word_token))\n",
    "\n",
    "        label_number = ner_tags_2_number[f\"B-{loc[2]}\"]\n",
    "        ner_tags[bg_id] = label_number\n",
    "        bg_id += 1\n",
    "        for idx in range(bg_id, bg_id + len(word_token) - 3):\n",
    "            ner_tags[idx] = label_number + 1\n",
    "        bg_id = bg_id + len(word_token) - 3\n",
    "\n",
    "        # visualize_ner_tags(example['tokens'], ner_tags)\n",
    "\n",
    "    ner_tags[0] = -100\n",
    "    ner_tags[-1] = -100\n",
    "    return ner_tags\n",
    "\n",
    "def assign_ner_tags_deberta(example):\n",
    "    # print(example['sentence'])\n",
    "    token_input = tokenizer(example['sentence'])\n",
    "    example['tokens'] = tokenizer.convert_ids_to_tokens(\n",
    "        token_input['input_ids'])\n",
    "\n",
    "    # print(example['sentence'])\n",
    "    # print(example['tokens'])\n",
    "    # print(\"len: \", len(example['tokens']))\n",
    "\n",
    "    ner_tags = [0 for token in example['tokens']]\n",
    "    if str(type(example['locs'])) == \"<class 'list'>\":\n",
    "        locs = example['locs']\n",
    "    else:\n",
    "        locs = ast.literal_eval(example['locs'])\n",
    "\n",
    "    locs = [(int(loc[0]), int(loc[1]), loc[2]) for loc in locs]\n",
    "    locs = sorted(locs)\n",
    "    # print(locs)\n",
    "    bg_id = 1\n",
    "    pre_loc = 0\n",
    "    text = example['sentence']\n",
    "    for loc in locs:\n",
    "        loc0 = int(loc[0])\n",
    "        loc1 = int(loc[1])\n",
    "\n",
    "        pre_text = text[pre_loc:loc0]\n",
    "        token_input = tokenizer(pre_text)\n",
    "        pre_token = tokenizer.convert_ids_to_tokens(\n",
    "            token_input['input_ids'])\n",
    "\n",
    "        print(pre_text)\n",
    "        print(pre_token)\n",
    "        print(\"len: \", len(pre_token))\n",
    "\n",
    "        bg_id = bg_id + len(pre_token) - 2\n",
    "        pre_loc = loc1\n",
    "\n",
    "        # print(\"bg_id: \", bg_id)\n",
    "\n",
    "        word = example['sentence'][loc0: loc1]\n",
    "        token_input = tokenizer(word)\n",
    "        word_token = tokenizer.convert_ids_to_tokens(token_input['input_ids'])\n",
    "\n",
    "        print(\"Word: \", word)\n",
    "        print(word_token)\n",
    "        print(\"len: \", len(word_token))\n",
    "\n",
    "        label_number = ner_tags_2_number[f\"B-{loc[2]}\"]\n",
    "        ner_tags[bg_id] = label_number\n",
    "        bg_id += 1\n",
    "        for idx in range(bg_id, bg_id + len(word_token) - 3):\n",
    "            ner_tags[idx] = label_number + 1\n",
    "        bg_id = bg_id + len(word_token) - 3\n",
    "\n",
    "        visualize_ner_tags(example['tokens'], ner_tags)\n",
    "\n",
    "    ner_tags[0] = -100\n",
    "    ner_tags[-1] = -100\n",
    "    return ner_tags\n",
    "\n",
    "def assign_ner_tags_roberta(example):\n",
    "    # print(example['sentence'])\n",
    "    token_input = tokenizer(example['sentence'])\n",
    "    example['tokens'] = tokenizer.convert_ids_to_tokens(\n",
    "        token_input['input_ids'])\n",
    "\n",
    "    # print(example['sentence'])\n",
    "    # print(example['tokens'])\n",
    "    # print(\"len: \", len(example['tokens']))\n",
    "\n",
    "    ner_tags = [0 for token in example['tokens']]\n",
    "    if str(type(example['locs'])) == \"<class 'list'>\":\n",
    "        locs = example['locs']\n",
    "    else:\n",
    "        locs = ast.literal_eval(example['locs'])\n",
    "\n",
    "    locs = [(int(loc[0]), int(loc[1]), loc[2]) for loc in locs]\n",
    "    locs = sorted(locs)\n",
    "    # print(locs)\n",
    "    bg_id = 1\n",
    "    pre_loc = 0\n",
    "    text = example['sentence']\n",
    "    for loc in locs:\n",
    "        loc0 = int(loc[0])\n",
    "        loc1 = int(loc[1])\n",
    "\n",
    "        pre_text = text[pre_loc:loc0]\n",
    "        token_input = tokenizer(pre_text)\n",
    "        pre_token = tokenizer.convert_ids_to_tokens(\n",
    "            token_input['input_ids'])\n",
    "\n",
    "        # print(pre_text)\n",
    "        # print(pre_token)\n",
    "        # print(\"len: \", len(pre_token))\n",
    "\n",
    "        bg_id = bg_id + len(pre_token) - 2\n",
    "        pre_loc = loc1\n",
    "\n",
    "        # print(\"bg_id: \", bg_id)\n",
    "\n",
    "        word = example['sentence'][loc0: loc1]\n",
    "        token_input = tokenizer(word)\n",
    "        word_token = tokenizer.convert_ids_to_tokens(token_input['input_ids'])\n",
    "\n",
    "        # print(\"Word: \", word)\n",
    "        # print(word_token)\n",
    "        # print(\"len: \", len(word_token))\n",
    "\n",
    "        label_number = ner_tags_2_number[f\"B-{loc[2]}\"]\n",
    "        ner_tags[bg_id] = label_number\n",
    "        bg_id += 1\n",
    "        for idx in range(bg_id, bg_id + len(word_token) - 3):\n",
    "            ner_tags[idx] = label_number + 1\n",
    "        bg_id = bg_id + len(word_token) - 3\n",
    "\n",
    "        # visualize_ner_tags(example['tokens'], ner_tags)\n",
    "\n",
    "    ner_tags[0] = -100\n",
    "    ner_tags[-1] = -100\n",
    "    return ner_tags"
   ]
  },
  {
   "cell_type": "code",
   "execution_count": 23,
   "metadata": {
    "tags": []
   },
   "outputs": [
    {
     "name": "stdout",
     "output_type": "stream",
     "text": [
      "👍 【 folding & portable rebounder 】 the jump trampoline is easily folded twice to be 1 / 4 size . it saves much storage space and easy to carry , you can store conveniently under the bed , in the closet , or in car trunk . portable for outdoor travel with your family , enjoy the entertainment from the mini trampoline .\n",
      "{'input_ids': [1, 507, 117545, 41131, 10759, 429, 5480, 97083, 507, 34243, 262, 3587, 31227, 269, 1166, 12324, 2736, 264, 282, 376, 840, 453, 884, 323, 278, 8620, 400, 1634, 754, 263, 639, 264, 1886, 366, 274, 295, 1106, 10928, 494, 262, 1518, 366, 267, 262, 6928, 366, 289, 267, 640, 10642, 323, 5480, 270, 2547, 1248, 275, 290, 495, 366, 929, 262, 3280, 292, 262, 3552, 31227, 323, 2], 'token_type_ids': [0, 0, 0, 0, 0, 0, 0, 0, 0, 0, 0, 0, 0, 0, 0, 0, 0, 0, 0, 0, 0, 0, 0, 0, 0, 0, 0, 0, 0, 0, 0, 0, 0, 0, 0, 0, 0, 0, 0, 0, 0, 0, 0, 0, 0, 0, 0, 0, 0, 0, 0, 0, 0, 0, 0, 0, 0, 0, 0, 0, 0, 0, 0, 0, 0, 0, 0, 0], 'attention_mask': [1, 1, 1, 1, 1, 1, 1, 1, 1, 1, 1, 1, 1, 1, 1, 1, 1, 1, 1, 1, 1, 1, 1, 1, 1, 1, 1, 1, 1, 1, 1, 1, 1, 1, 1, 1, 1, 1, 1, 1, 1, 1, 1, 1, 1, 1, 1, 1, 1, 1, 1, 1, 1, 1, 1, 1, 1, 1, 1, 1, 1, 1, 1, 1, 1, 1, 1, 1]}\n",
      "['[CLS]', '▁', '👍', '▁【', '▁folding', '▁&', '▁portable', '▁rebounder', '▁', '】', '▁the', '▁jump', '▁trampoline', '▁is', '▁easily', '▁folded', '▁twice', '▁to', '▁be', '▁1', '▁/', '▁4', '▁size', '▁.', '▁it', '▁saves', '▁much', '▁storage', '▁space', '▁and', '▁easy', '▁to', '▁carry', '▁,', '▁you', '▁can', '▁store', '▁conveniently', '▁under', '▁the', '▁bed', '▁,', '▁in', '▁the', '▁closet', '▁,', '▁or', '▁in', '▁car', '▁trunk', '▁.', '▁portable', '▁for', '▁outdoor', '▁travel', '▁with', '▁your', '▁family', '▁,', '▁enjoy', '▁the', '▁entertainment', '▁from', '▁the', '▁mini', '▁trampoline', '▁.', '[SEP]']\n",
      "[CLS] ▁ 👍 ▁【 ▁folding ▁& ▁portable ▁rebounder ▁ 】 ▁the ▁jump ▁trampoline ▁is ▁easily ▁folded ▁twice ▁to ▁be ▁1 ▁/ ▁4 ▁size ▁. ▁it ▁saves ▁much ▁storage ▁space ▁and ▁easy ▁to ▁carry ▁, ▁you ▁can ▁store ▁conveniently ▁under ▁the ▁bed ▁, ▁in ▁the ▁closet ▁, ▁or ▁in ▁car ▁trunk ▁. ▁portable ▁for ▁outdoor ▁travel ▁with ▁your ▁family ▁, ▁enjoy ▁the ▁entertainment ▁from ▁the ▁mini ▁trampoline ▁. [SEP] \n",
      "-100  0 0 0  11       0  11        12         0 0 0    0     0           0   0       0       0      0   0   0  0  0  0     0  0   0      0     0        0      0    0     0   0      0  0    0    0      0             0      0    0    0  0   0    0       0  0   0   0    0      0  11        0    0        0       0     0     0       0  0      0    0              0     0    0     0           0  -100  \n"
     ]
    }
   ],
   "source": [
    "id = 0\n",
    "print(raw_datasets['train'][id]['sentence'])\n",
    "token_input = tokenizer(raw_datasets['train'][id]['sentence'])\n",
    "print(token_input)\n",
    "words = tokenizer.convert_ids_to_tokens(token_input['input_ids'])\n",
    "print(words)\n",
    "labels = assign_ner_tags_roberta(raw_datasets['train'][id])\n",
    "\n",
    "visualize_ner_tags(words, labels)"
   ]
  },
  {
   "cell_type": "code",
   "execution_count": 24,
   "metadata": {
    "tags": []
   },
   "outputs": [],
   "source": [
    "def tokenize_and_align_labels(examples):\n",
    "    tokenized_inputs = tokenizer(\n",
    "        examples[\"sentence\"], truncation=True, is_split_into_words=False\n",
    "    )\n",
    "    tokenized_inputs[\"labels\"] = assign_ner_tags_bert(examples)\n",
    "    return tokenized_inputs"
   ]
  },
  {
   "cell_type": "code",
   "execution_count": 25,
   "metadata": {
    "tags": []
   },
   "outputs": [
    {
     "data": {
      "text/plain": [
       "DatasetDict({\n",
       "    train: Dataset({\n",
       "        features: ['input_ids', 'attention_mask', 'labels'],\n",
       "        num_rows: 2061\n",
       "    })\n",
       "    val: Dataset({\n",
       "        features: ['input_ids', 'attention_mask', 'labels'],\n",
       "        num_rows: 2061\n",
       "    })\n",
       "    test: Dataset({\n",
       "        features: ['input_ids', 'attention_mask', 'labels'],\n",
       "        num_rows: 2061\n",
       "    })\n",
       "})"
      ]
     },
     "execution_count": 25,
     "metadata": {},
     "output_type": "execute_result"
    }
   ],
   "source": [
    "from datasets import Dataset\n",
    "\n",
    "list_input_ids = []\n",
    "list_token_type_ids = []\n",
    "list_attention_mask = []\n",
    "list_labels = []\n",
    "\n",
    "for index, row in raw_dataset.iterrows():\n",
    "    try:\n",
    "        label = assign_ner_tags_bert(row)\n",
    "        token_input = tokenizer(row['sentence'])\n",
    "        list_input_ids.append(token_input['input_ids'])\n",
    "        # list_token_type_ids.append(token_input['token_type_ids'])\n",
    "        list_attention_mask.append(token_input['attention_mask'])\n",
    "        list_labels.append(label)\n",
    "    except Exception as error:\n",
    "        # print(error)\n",
    "        print(index)\n",
    "        print(row['sentence'])\n",
    "\n",
    "tokenized_datasets = pd.DataFrame()\n",
    "tokenized_datasets['input_ids'] = pd.Series(list_input_ids)\n",
    "# tokenized_datasets['token_type_ids'] = pd.Series(list_token_type_ids)\n",
    "tokenized_datasets['attention_mask'] = pd.Series(list_attention_mask)\n",
    "tokenized_datasets['labels'] = pd.Series(list_labels)\n",
    "\n",
    "train_dataset = Dataset.from_pandas(tokenized_datasets)\n",
    "val_dataset = Dataset.from_pandas(tokenized_datasets)\n",
    "test_dataset = Dataset.from_pandas(tokenized_datasets)\n",
    "\n",
    "tokenized_datasets = DatasetDict(\n",
    "    {\"train\": train_dataset, \"val\": val_dataset, \"test\": test_dataset})\n",
    "tokenized_datasets"
   ]
  },
  {
   "cell_type": "code",
   "execution_count": 26,
   "metadata": {},
   "outputs": [
    {
     "data": {
      "text/plain": [
       "DatasetDict({\n",
       "    train: Dataset({\n",
       "        features: ['input_ids', 'attention_mask', 'labels'],\n",
       "        num_rows: 1648\n",
       "    })\n",
       "    test: Dataset({\n",
       "        features: ['input_ids', 'attention_mask', 'labels'],\n",
       "        num_rows: 413\n",
       "    })\n",
       "})"
      ]
     },
     "execution_count": 26,
     "metadata": {},
     "output_type": "execute_result"
    }
   ],
   "source": [
    "tokenized_datasets = tokenized_datasets['train'].train_test_split(test_size=0.2, shuffle=True, seed=7)\n",
    "tokenized_datasets"
   ]
  },
  {
   "cell_type": "code",
   "execution_count": 27,
   "metadata": {
    "tags": []
   },
   "outputs": [
    {
     "name": "stderr",
     "output_type": "stream",
     "text": [
      "2023-09-22 15:54:42.969834: I tensorflow/core/util/port.cc:110] oneDNN custom operations are on. You may see slightly different numerical results due to floating-point round-off errors from different computation orders. To turn them off, set the environment variable `TF_ENABLE_ONEDNN_OPTS=0`.\n",
      "2023-09-22 15:54:42.991889: I tensorflow/core/platform/cpu_feature_guard.cc:182] This TensorFlow binary is optimized to use available CPU instructions in performance-critical operations.\n",
      "To enable the following instructions: AVX2 AVX_VNNI FMA, in other operations, rebuild TensorFlow with the appropriate compiler flags.\n",
      "2023-09-22 15:54:43.371264: W tensorflow/compiler/tf2tensorrt/utils/py_utils.cc:38] TF-TRT Warning: Could not find TensorRT\n"
     ]
    }
   ],
   "source": [
    "from transformers import DataCollatorForTokenClassification\n",
    "\n",
    "data_collator = DataCollatorForTokenClassification(tokenizer=tokenizer)"
   ]
  },
  {
   "cell_type": "code",
   "execution_count": 28,
   "metadata": {
    "tags": []
   },
   "outputs": [],
   "source": [
    "import evaluate\n",
    "\n",
    "metric = evaluate.load(\"seqeval\")"
   ]
  },
  {
   "cell_type": "code",
   "execution_count": 29,
   "metadata": {
    "tags": []
   },
   "outputs": [],
   "source": [
    "import numpy as np\n",
    "\n",
    "label_names = processed_ner_tags\n",
    "id2label = {i: label for i, label in enumerate(label_names)}\n",
    "label2id = {v: k for k, v in id2label.items()}\n",
    "\n",
    "def compute_metrics(eval_preds):\n",
    "    logits, labels = eval_preds\n",
    "    predictions = np.argmax(logits, axis=-1)\n",
    "\n",
    "    # Remove ignored index (special tokens) and convert to labels\n",
    "    true_labels = [[label_names[l] for l in label if l != -100] for label in labels]\n",
    "    true_predictions = [\n",
    "        [label_names[p] for (p, l) in zip(prediction, label) if l != -100]\n",
    "        for prediction, label in zip(predictions, labels)\n",
    "    ]\n",
    "    all_metrics = metric.compute(predictions=true_predictions, references=true_labels)\n",
    "    return {\n",
    "        \"precision\": all_metrics[\"overall_precision\"],\n",
    "        \"recall\": all_metrics[\"overall_recall\"],\n",
    "        \"f1\": all_metrics[\"overall_f1\"],\n",
    "        \"accuracy\": all_metrics[\"overall_accuracy\"],\n",
    "    }"
   ]
  },
  {
   "cell_type": "code",
   "execution_count": 30,
   "metadata": {
    "tags": []
   },
   "outputs": [
    {
     "name": "stderr",
     "output_type": "stream",
     "text": [
      "Some weights of the model checkpoint at microsoft/deberta-v3-large were not used when initializing DebertaV2ForTokenClassification: ['lm_predictions.lm_head.dense.bias', 'mask_predictions.LayerNorm.weight', 'lm_predictions.lm_head.dense.weight', 'lm_predictions.lm_head.LayerNorm.weight', 'mask_predictions.dense.weight', 'deberta.embeddings.position_embeddings.weight', 'lm_predictions.lm_head.bias', 'lm_predictions.lm_head.LayerNorm.bias', 'mask_predictions.LayerNorm.bias', 'mask_predictions.dense.bias', 'mask_predictions.classifier.weight', 'mask_predictions.classifier.bias']\n",
      "- This IS expected if you are initializing DebertaV2ForTokenClassification from the checkpoint of a model trained on another task or with another architecture (e.g. initializing a BertForSequenceClassification model from a BertForPreTraining model).\n",
      "- This IS NOT expected if you are initializing DebertaV2ForTokenClassification from the checkpoint of a model that you expect to be exactly identical (initializing a BertForSequenceClassification model from a BertForSequenceClassification model).\n",
      "Some weights of DebertaV2ForTokenClassification were not initialized from the model checkpoint at microsoft/deberta-v3-large and are newly initialized: ['classifier.weight', 'classifier.bias']\n",
      "You should probably TRAIN this model on a down-stream task to be able to use it for predictions and inference.\n"
     ]
    },
    {
     "data": {
      "text/plain": [
       "17"
      ]
     },
     "execution_count": 30,
     "metadata": {},
     "output_type": "execute_result"
    }
   ],
   "source": [
    "from transformers import AutoModelForTokenClassification\n",
    "# Modify code in heare\n",
    "from transformers.models.bert import modeling_bert\n",
    "\n",
    "model = AutoModelForTokenClassification.from_pretrained(\n",
    "    model_checkpoint,\n",
    "    id2label=id2label,\n",
    "    label2id=label2id,\n",
    "    ignore_mismatched_sizes=True\n",
    ")\n",
    "model.config.num_labels"
   ]
  },
  {
   "cell_type": "markdown",
   "metadata": {},
   "source": [
    "## Custom Traning loop"
   ]
  },
  {
   "cell_type": "code",
   "execution_count": 31,
   "metadata": {},
   "outputs": [],
   "source": [
    "from torch.utils.data import DataLoader\n",
    "\n",
    "train_dataloader = DataLoader(\n",
    "    tokenized_datasets[\"train\"],\n",
    "    shuffle=True,\n",
    "    collate_fn=data_collator,\n",
    "    batch_size=4,\n",
    ")\n",
    "eval_dataloader = DataLoader(\n",
    "    tokenized_datasets[\"test\"], collate_fn=data_collator, batch_size=8\n",
    ")"
   ]
  },
  {
   "cell_type": "code",
   "execution_count": 32,
   "metadata": {},
   "outputs": [],
   "source": [
    "from torch.optim import AdamW\n",
    "\n",
    "optimizer = AdamW(model.parameters(), lr=2e-5)"
   ]
  },
  {
   "cell_type": "code",
   "execution_count": 33,
   "metadata": {},
   "outputs": [],
   "source": [
    "from accelerate import Accelerator\n",
    "\n",
    "accelerator = Accelerator()\n",
    "model, optimizer, train_dataloader, eval_dataloader = accelerator.prepare(\n",
    "    model, optimizer, train_dataloader, eval_dataloader\n",
    ")"
   ]
  },
  {
   "cell_type": "code",
   "execution_count": 34,
   "metadata": {},
   "outputs": [],
   "source": [
    "def postprocess(predictions, labels):\n",
    "    predictions = predictions.detach().cpu().clone().numpy()\n",
    "    labels = labels.detach().cpu().clone().numpy()\n",
    "\n",
    "    # Remove ignored index (special tokens) and convert to labels\n",
    "    true_labels = [[label_names[l] for l in label if l != -100] for label in labels]\n",
    "    true_predictions = [\n",
    "        [label_names[p] for (p, l) in zip(prediction, label) if l != -100]\n",
    "        for prediction, label in zip(predictions, labels)\n",
    "    ]\n",
    "    return true_labels, true_predictions"
   ]
  },
  {
   "cell_type": "code",
   "execution_count": 35,
   "metadata": {},
   "outputs": [],
   "source": [
    "from transformers import get_scheduler\n",
    "\n",
    "num_train_epochs = 30\n",
    "num_update_steps_per_epoch = len(train_dataloader)\n",
    "num_training_steps = num_train_epochs * num_update_steps_per_epoch\n",
    "\n",
    "lr_scheduler = get_scheduler(\n",
    "    \"linear\",\n",
    "    optimizer=optimizer,\n",
    "    num_warmup_steps=0,\n",
    "    num_training_steps=num_training_steps,\n",
    ")"
   ]
  },
  {
   "cell_type": "code",
   "execution_count": 36,
   "metadata": {},
   "outputs": [
    {
     "data": {
      "application/vnd.jupyter.widget-view+json": {
       "model_id": "ac4f63852074404c815f7820d9942018",
       "version_major": 2,
       "version_minor": 0
      },
      "text/plain": [
       "  0%|          | 0/12360 [00:00<?, ?it/s]"
      ]
     },
     "metadata": {},
     "output_type": "display_data"
    },
    {
     "name": "stderr",
     "output_type": "stream",
     "text": [
      "You're using a DebertaV2TokenizerFast tokenizer. Please note that with a fast tokenizer, using the `__call__` method is faster than using a method to encode the text followed by a call to the `pad` method to get a padded encoding.\n"
     ]
    }
   ],
   "source": [
    "from tqdm.auto import tqdm\n",
    "import torch\n",
    "\n",
    "output_dir = f\"./deberta-v3-large_v4_{num_train_epochs}e_split\"\n",
    "progress_bar = tqdm(range(num_training_steps))\n",
    "\n",
    "best_f1_score = 0\n",
    "\n",
    "for epoch in range(num_train_epochs):\n",
    "    # Training\n",
    "    model.train()\n",
    "    for batch in train_dataloader:\n",
    "        outputs = model(**batch)\n",
    "        loss = outputs.loss\n",
    "        accelerator.backward(loss)\n",
    "\n",
    "        optimizer.step()\n",
    "        lr_scheduler.step()\n",
    "        optimizer.zero_grad()\n",
    "        progress_bar.update(1)\n",
    "\n",
    "    # Evaluation\n",
    "    model.eval()\n",
    "    for batch in eval_dataloader:\n",
    "        with torch.no_grad():\n",
    "            outputs = model(**batch)\n",
    "\n",
    "        predictions = outputs.logits.argmax(dim=-1)\n",
    "        labels = batch[\"labels\"]\n",
    "\n",
    "        # Necessary to pad predictions and labels for being gathered\n",
    "        predictions = accelerator.pad_across_processes(predictions, dim=1, pad_index=-100)\n",
    "        labels = accelerator.pad_across_processes(labels, dim=1, pad_index=-100)\n",
    "\n",
    "        predictions_gathered = accelerator.gather(predictions)\n",
    "        labels_gathered = accelerator.gather(labels)\n",
    "\n",
    "        true_predictions, true_labels = postprocess(predictions_gathered, labels_gathered)\n",
    "        metric.add_batch(predictions=true_predictions, references=true_labels)\n",
    "\n",
    "    results = metric.compute()\n",
    "    print(\n",
    "        f\"epoch {epoch}:\",\n",
    "        {\n",
    "            key: results[f\"overall_{key}\"]\n",
    "            for key in [\"precision\", \"recall\", \"f1\", \"accuracy\"]\n",
    "        },\n",
    "    )\n",
    "\n",
    "    # Save and upload\n",
    "    accelerator.wait_for_everyone()\n",
    "    unwrapped_model = accelerator.unwrap_model(model)\n",
    "    unwrapped_model.save_pretrained(output_dir, save_function=accelerator.save)\n",
    "    if accelerator.is_main_process and results[f\"overall_f1\"] > best_f1_score:\n",
    "        best_f1_score = results[f\"overall_f1\"]\n",
    "        print(f\"Save model at epoch {epoch} with better f1 score {best_f1_score}\")\n",
    "        tokenizer.save_pretrained(output_dir)\n",
    "        unwrapped_model.save_pretrained(output_dir, save_function=accelerator.save)"
   ]
  },
  {
   "cell_type": "code",
   "execution_count": null,
   "metadata": {},
   "outputs": [],
   "source": [
    "# accelerator.wait_for_everyone()\n",
    "# unwrapped_model = accelerator.unwrap_model(model)\n",
    "# unwrapped_model.save_pretrained(output_dir, save_function=accelerator.save)"
   ]
  },
  {
   "cell_type": "markdown",
   "metadata": {},
   "source": [
    "## Built-in traning loop"
   ]
  },
  {
   "cell_type": "code",
   "execution_count": 21,
   "metadata": {
    "tags": []
   },
   "outputs": [],
   "source": [
    "from transformers import TrainingArguments\n",
    "\n",
    "model_name = 'bert-base-NER_v4_30e_split'\n",
    "args = TrainingArguments(\n",
    "    output_dir=f\"./{model_name}\",\n",
    "    evaluation_strategy=\"epoch\",\n",
    "    save_strategy=\"no\",\n",
    "    overwrite_output_dir = 'True',\n",
    "    learning_rate=2e-5,\n",
    "    num_train_epochs=30,\n",
    "    weight_decay=0.01,\n",
    "    per_device_train_batch_size=8\n",
    ")"
   ]
  },
  {
   "cell_type": "code",
   "execution_count": 22,
   "metadata": {
    "tags": []
   },
   "outputs": [
    {
     "name": "stderr",
     "output_type": "stream",
     "text": [
      "/home/tanluuuuuuu/miniconda3/envs/one_for_all/lib/python3.8/site-packages/transformers/optimization.py:411: FutureWarning: This implementation of AdamW is deprecated and will be removed in a future version. Use the PyTorch implementation torch.optim.AdamW instead, or set `no_deprecation_warning=True` to disable this warning\n",
      "  warnings.warn(\n"
     ]
    },
    {
     "data": {
      "application/vnd.jupyter.widget-view+json": {
       "model_id": "1dd5074e74ea4275b0c7185a4c7ba0f8",
       "version_major": 2,
       "version_minor": 0
      },
      "text/plain": [
       "  0%|          | 0/3030 [00:00<?, ?it/s]"
      ]
     },
     "metadata": {},
     "output_type": "display_data"
    },
    {
     "name": "stderr",
     "output_type": "stream",
     "text": [
      "You're using a BertTokenizerFast tokenizer. Please note that with a fast tokenizer, using the `__call__` method is faster than using a method to encode the text followed by a call to the `pad` method to get a padded encoding.\n"
     ]
    },
    {
     "data": {
      "application/vnd.jupyter.widget-view+json": {
       "model_id": "f13467a850e14401af69443cb91d87d4",
       "version_major": 2,
       "version_minor": 0
      },
      "text/plain": [
       "  0%|          | 0/26 [00:00<?, ?it/s]"
      ]
     },
     "metadata": {},
     "output_type": "display_data"
    },
    {
     "name": "stderr",
     "output_type": "stream",
     "text": [
      "/home/tanluuuuuuu/miniconda3/envs/one_for_all/lib/python3.8/site-packages/seqeval/metrics/v1.py:57: UndefinedMetricWarning: Precision and F-score are ill-defined and being set to 0.0 in labels with no predicted samples. Use `zero_division` parameter to control this behavior.\n",
      "  _warn_prf(average, modifier, msg_start, len(result))\n"
     ]
    },
    {
     "name": "stdout",
     "output_type": "stream",
     "text": [
      "{'eval_loss': 0.5390483140945435, 'eval_precision': 0.29554140127388534, 'eval_recall': 0.32357043235704325, 'eval_f1': 0.30892143808255657, 'eval_accuracy': 0.84631918323482, 'eval_runtime': 0.735, 'eval_samples_per_second': 276.184, 'eval_steps_per_second': 35.373, 'epoch': 1.0}\n"
     ]
    },
    {
     "data": {
      "application/vnd.jupyter.widget-view+json": {
       "model_id": "c3eaa157c24f481eaea43c3ed25b74b7",
       "version_major": 2,
       "version_minor": 0
      },
      "text/plain": [
       "  0%|          | 0/26 [00:00<?, ?it/s]"
      ]
     },
     "metadata": {},
     "output_type": "display_data"
    },
    {
     "name": "stdout",
     "output_type": "stream",
     "text": [
      "{'eval_loss': 0.4128625690937042, 'eval_precision': 0.4194312796208531, 'eval_recall': 0.49372384937238495, 'eval_f1': 0.4535554131966688, 'eval_accuracy': 0.8784524449220849, 'eval_runtime': 0.7446, 'eval_samples_per_second': 272.634, 'eval_steps_per_second': 34.919, 'epoch': 2.0}\n"
     ]
    },
    {
     "data": {
      "application/vnd.jupyter.widget-view+json": {
       "model_id": "3ced0cdf8a524be2b84ed52c7655d41f",
       "version_major": 2,
       "version_minor": 0
      },
      "text/plain": [
       "  0%|          | 0/26 [00:00<?, ?it/s]"
      ]
     },
     "metadata": {},
     "output_type": "display_data"
    },
    {
     "name": "stdout",
     "output_type": "stream",
     "text": [
      "{'eval_loss': 0.3928360939025879, 'eval_precision': 0.4438138479001135, 'eval_recall': 0.5453277545327755, 'eval_f1': 0.48936170212765967, 'eval_accuracy': 0.8801719505642128, 'eval_runtime': 0.7553, 'eval_samples_per_second': 268.779, 'eval_steps_per_second': 34.425, 'epoch': 3.0}\n"
     ]
    },
    {
     "data": {
      "application/vnd.jupyter.widget-view+json": {
       "model_id": "b5fda39692fe4bd486f0dd266e2f3ad2",
       "version_major": 2,
       "version_minor": 0
      },
      "text/plain": [
       "  0%|          | 0/26 [00:00<?, ?it/s]"
      ]
     },
     "metadata": {},
     "output_type": "display_data"
    },
    {
     "name": "stdout",
     "output_type": "stream",
     "text": [
      "{'eval_loss': 0.39923277497291565, 'eval_precision': 0.49937733499377335, 'eval_recall': 0.5592747559274756, 'eval_f1': 0.5276315789473683, 'eval_accuracy': 0.890918860827512, 'eval_runtime': 0.7468, 'eval_samples_per_second': 271.841, 'eval_steps_per_second': 34.817, 'epoch': 4.0}\n",
      "{'loss': 0.4004, 'learning_rate': 1.66996699669967e-05, 'epoch': 4.95}\n"
     ]
    },
    {
     "data": {
      "application/vnd.jupyter.widget-view+json": {
       "model_id": "81134c16c4e544ecb43ffae1778b74ca",
       "version_major": 2,
       "version_minor": 0
      },
      "text/plain": [
       "  0%|          | 0/26 [00:00<?, ?it/s]"
      ]
     },
     "metadata": {},
     "output_type": "display_data"
    },
    {
     "name": "stdout",
     "output_type": "stream",
     "text": [
      "{'eval_loss': 0.41262272000312805, 'eval_precision': 0.4616216216216216, 'eval_recall': 0.595536959553696, 'eval_f1': 0.5200974421437272, 'eval_accuracy': 0.8870499731327244, 'eval_runtime': 0.751, 'eval_samples_per_second': 270.292, 'eval_steps_per_second': 34.619, 'epoch': 5.0}\n"
     ]
    },
    {
     "data": {
      "application/vnd.jupyter.widget-view+json": {
       "model_id": "ca3d5a2e34d144d7b494b8c28e743eec",
       "version_major": 2,
       "version_minor": 0
      },
      "text/plain": [
       "  0%|          | 0/26 [00:00<?, ?it/s]"
      ]
     },
     "metadata": {},
     "output_type": "display_data"
    },
    {
     "name": "stdout",
     "output_type": "stream",
     "text": [
      "{'eval_loss': 0.47546905279159546, 'eval_precision': 0.49019607843137253, 'eval_recall': 0.592747559274756, 'eval_f1': 0.5366161616161615, 'eval_accuracy': 0.892315959161741, 'eval_runtime': 0.7423, 'eval_samples_per_second': 273.456, 'eval_steps_per_second': 35.024, 'epoch': 6.0}\n"
     ]
    },
    {
     "data": {
      "application/vnd.jupyter.widget-view+json": {
       "model_id": "a71c54073e5f4af2adc18164cffab46a",
       "version_major": 2,
       "version_minor": 0
      },
      "text/plain": [
       "  0%|          | 0/26 [00:00<?, ?it/s]"
      ]
     },
     "metadata": {},
     "output_type": "display_data"
    },
    {
     "name": "stdout",
     "output_type": "stream",
     "text": [
      "{'eval_loss': 0.4987986087799072, 'eval_precision': 0.48931383577052867, 'eval_recall': 0.606694560669456, 'eval_f1': 0.5417185554171856, 'eval_accuracy': 0.8878022568511553, 'eval_runtime': 0.7411, 'eval_samples_per_second': 273.926, 'eval_steps_per_second': 35.084, 'epoch': 7.0}\n"
     ]
    },
    {
     "data": {
      "application/vnd.jupyter.widget-view+json": {
       "model_id": "6c6ca8cbaeec40e38330507923b80630",
       "version_major": 2,
       "version_minor": 0
      },
      "text/plain": [
       "  0%|          | 0/26 [00:00<?, ?it/s]"
      ]
     },
     "metadata": {},
     "output_type": "display_data"
    },
    {
     "name": "stdout",
     "output_type": "stream",
     "text": [
      "{'eval_loss': 0.5070109367370605, 'eval_precision': 0.4874715261958998, 'eval_recall': 0.596931659693166, 'eval_f1': 0.5366771159874609, 'eval_accuracy': 0.891456206340677, 'eval_runtime': 0.7482, 'eval_samples_per_second': 271.328, 'eval_steps_per_second': 34.751, 'epoch': 8.0}\n"
     ]
    },
    {
     "data": {
      "application/vnd.jupyter.widget-view+json": {
       "model_id": "0dee153343cd49558b914a294c2daba8",
       "version_major": 2,
       "version_minor": 0
      },
      "text/plain": [
       "  0%|          | 0/26 [00:00<?, ?it/s]"
      ]
     },
     "metadata": {},
     "output_type": "display_data"
    },
    {
     "name": "stdout",
     "output_type": "stream",
     "text": [
      "{'eval_loss': 0.5372799038887024, 'eval_precision': 0.46912242686890576, 'eval_recall': 0.603905160390516, 'eval_f1': 0.5280487804878049, 'eval_accuracy': 0.8886620096722192, 'eval_runtime': 0.7413, 'eval_samples_per_second': 273.826, 'eval_steps_per_second': 35.071, 'epoch': 9.0}\n",
      "{'loss': 0.066, 'learning_rate': 1.33993399339934e-05, 'epoch': 9.9}\n"
     ]
    },
    {
     "data": {
      "application/vnd.jupyter.widget-view+json": {
       "model_id": "3fd55dfa386a46e4b72567f79e1ca311",
       "version_major": 2,
       "version_minor": 0
      },
      "text/plain": [
       "  0%|          | 0/26 [00:00<?, ?it/s]"
      ]
     },
     "metadata": {},
     "output_type": "display_data"
    },
    {
     "name": "stdout",
     "output_type": "stream",
     "text": [
      "{'eval_loss': 0.5576326847076416, 'eval_precision': 0.505656108597285, 'eval_recall': 0.6234309623430963, 'eval_f1': 0.5584009993753903, 'eval_accuracy': 0.893175711982805, 'eval_runtime': 0.7493, 'eval_samples_per_second': 270.908, 'eval_steps_per_second': 34.698, 'epoch': 10.0}\n"
     ]
    },
    {
     "data": {
      "application/vnd.jupyter.widget-view+json": {
       "model_id": "3d8407d380ae45d2a0e3e831c1e2d4f9",
       "version_major": 2,
       "version_minor": 0
      },
      "text/plain": [
       "  0%|          | 0/26 [00:00<?, ?it/s]"
      ]
     },
     "metadata": {},
     "output_type": "display_data"
    },
    {
     "name": "stdout",
     "output_type": "stream",
     "text": [
      "{'eval_loss': 0.5933877229690552, 'eval_precision': 0.5267441860465116, 'eval_recall': 0.6317991631799164, 'eval_f1': 0.5745085605580215, 'eval_accuracy': 0.8927458355722729, 'eval_runtime': 0.7405, 'eval_samples_per_second': 274.127, 'eval_steps_per_second': 35.11, 'epoch': 11.0}\n"
     ]
    },
    {
     "data": {
      "application/vnd.jupyter.widget-view+json": {
       "model_id": "ee2df1ad9619490a8bbdc0e839fd8219",
       "version_major": 2,
       "version_minor": 0
      },
      "text/plain": [
       "  0%|          | 0/26 [00:00<?, ?it/s]"
      ]
     },
     "metadata": {},
     "output_type": "display_data"
    },
    {
     "name": "stdout",
     "output_type": "stream",
     "text": [
      "{'eval_loss': 0.5909303426742554, 'eval_precision': 0.48467650397275824, 'eval_recall': 0.595536959553696, 'eval_f1': 0.5344180225281602, 'eval_accuracy': 0.8894142933906501, 'eval_runtime': 0.7424, 'eval_samples_per_second': 273.452, 'eval_steps_per_second': 35.023, 'epoch': 12.0}\n"
     ]
    },
    {
     "data": {
      "application/vnd.jupyter.widget-view+json": {
       "model_id": "25245b57a9094ca78ffb4c07ddcc905c",
       "version_major": 2,
       "version_minor": 0
      },
      "text/plain": [
       "  0%|          | 0/26 [00:00<?, ?it/s]"
      ]
     },
     "metadata": {},
     "output_type": "display_data"
    },
    {
     "name": "stdout",
     "output_type": "stream",
     "text": [
      "{'eval_loss': 0.5990766882896423, 'eval_precision': 0.5040091638029782, 'eval_recall': 0.6136680613668062, 'eval_f1': 0.5534591194968553, 'eval_accuracy': 0.8946802794196669, 'eval_runtime': 0.7492, 'eval_samples_per_second': 270.962, 'eval_steps_per_second': 34.705, 'epoch': 13.0}\n"
     ]
    },
    {
     "data": {
      "application/vnd.jupyter.widget-view+json": {
       "model_id": "c7457fee576a40f7aeafa94d58989637",
       "version_major": 2,
       "version_minor": 0
      },
      "text/plain": [
       "  0%|          | 0/26 [00:00<?, ?it/s]"
      ]
     },
     "metadata": {},
     "output_type": "display_data"
    },
    {
     "name": "stdout",
     "output_type": "stream",
     "text": [
      "{'eval_loss': 0.6326768398284912, 'eval_precision': 0.5082938388625592, 'eval_recall': 0.5983263598326359, 'eval_f1': 0.549647661755285, 'eval_accuracy': 0.892101020956475, 'eval_runtime': 0.7451, 'eval_samples_per_second': 272.442, 'eval_steps_per_second': 34.894, 'epoch': 14.0}\n",
      "{'loss': 0.0234, 'learning_rate': 1.00990099009901e-05, 'epoch': 14.85}\n"
     ]
    },
    {
     "data": {
      "application/vnd.jupyter.widget-view+json": {
       "model_id": "969c27fc84164375a9c2ae87f3da1a13",
       "version_major": 2,
       "version_minor": 0
      },
      "text/plain": [
       "  0%|          | 0/26 [00:00<?, ?it/s]"
      ]
     },
     "metadata": {},
     "output_type": "display_data"
    },
    {
     "name": "stdout",
     "output_type": "stream",
     "text": [
      "{'eval_loss': 0.6144258379936218, 'eval_precision': 0.5234093637454982, 'eval_recall': 0.6080892608089261, 'eval_f1': 0.5625806451612904, 'eval_accuracy': 0.8942504030091348, 'eval_runtime': 0.7497, 'eval_samples_per_second': 270.791, 'eval_steps_per_second': 34.683, 'epoch': 15.0}\n"
     ]
    },
    {
     "data": {
      "application/vnd.jupyter.widget-view+json": {
       "model_id": "f631c4defa5947d6a7141021b4be09a6",
       "version_major": 2,
       "version_minor": 0
      },
      "text/plain": [
       "  0%|          | 0/26 [00:00<?, ?it/s]"
      ]
     },
     "metadata": {},
     "output_type": "display_data"
    },
    {
     "name": "stdout",
     "output_type": "stream",
     "text": [
      "{'eval_loss': 0.6500821709632874, 'eval_precision': 0.5101311084624554, 'eval_recall': 0.596931659693166, 'eval_f1': 0.5501285347043702, 'eval_accuracy': 0.89156367544331, 'eval_runtime': 0.7536, 'eval_samples_per_second': 269.372, 'eval_steps_per_second': 34.501, 'epoch': 16.0}\n"
     ]
    },
    {
     "data": {
      "application/vnd.jupyter.widget-view+json": {
       "model_id": "7c4f270236cc4f6eb97ea08a87ebe4ad",
       "version_major": 2,
       "version_minor": 0
      },
      "text/plain": [
       "  0%|          | 0/26 [00:00<?, ?it/s]"
      ]
     },
     "metadata": {},
     "output_type": "display_data"
    },
    {
     "name": "stdout",
     "output_type": "stream",
     "text": [
      "{'eval_loss': 0.6861269474029541, 'eval_precision': 0.5338983050847458, 'eval_recall': 0.6150627615062761, 'eval_f1': 0.5716137394685677, 'eval_accuracy': 0.893068242880172, 'eval_runtime': 0.7466, 'eval_samples_per_second': 271.901, 'eval_steps_per_second': 34.825, 'epoch': 17.0}\n"
     ]
    },
    {
     "data": {
      "application/vnd.jupyter.widget-view+json": {
       "model_id": "a681107992474389beee70383153585e",
       "version_major": 2,
       "version_minor": 0
      },
      "text/plain": [
       "  0%|          | 0/26 [00:00<?, ?it/s]"
      ]
     },
     "metadata": {},
     "output_type": "display_data"
    },
    {
     "name": "stdout",
     "output_type": "stream",
     "text": [
      "{'eval_loss': 0.6850368976593018, 'eval_precision': 0.5, 'eval_recall': 0.6178521617852162, 'eval_f1': 0.5527136618839675, 'eval_accuracy': 0.8929607737775389, 'eval_runtime': 0.7527, 'eval_samples_per_second': 269.683, 'eval_steps_per_second': 34.541, 'epoch': 18.0}\n"
     ]
    },
    {
     "data": {
      "application/vnd.jupyter.widget-view+json": {
       "model_id": "8581555fcd504071a138d735a1dd6a16",
       "version_major": 2,
       "version_minor": 0
      },
      "text/plain": [
       "  0%|          | 0/26 [00:00<?, ?it/s]"
      ]
     },
     "metadata": {},
     "output_type": "display_data"
    },
    {
     "name": "stdout",
     "output_type": "stream",
     "text": [
      "{'eval_loss': 0.6882691979408264, 'eval_precision': 0.506993006993007, 'eval_recall': 0.606694560669456, 'eval_f1': 0.5523809523809524, 'eval_accuracy': 0.8927458355722729, 'eval_runtime': 0.747, 'eval_samples_per_second': 271.77, 'eval_steps_per_second': 34.808, 'epoch': 19.0}\n",
      "{'loss': 0.0111, 'learning_rate': 6.798679867986799e-06, 'epoch': 19.8}\n"
     ]
    },
    {
     "data": {
      "application/vnd.jupyter.widget-view+json": {
       "model_id": "be7bb69858bb405fa4d784466b63db74",
       "version_major": 2,
       "version_minor": 0
      },
      "text/plain": [
       "  0%|          | 0/26 [00:00<?, ?it/s]"
      ]
     },
     "metadata": {},
     "output_type": "display_data"
    },
    {
     "name": "stdout",
     "output_type": "stream",
     "text": [
      "{'eval_loss': 0.7034802436828613, 'eval_precision': 0.49272116461366183, 'eval_recall': 0.6136680613668062, 'eval_f1': 0.546583850931677, 'eval_accuracy': 0.8937130574959699, 'eval_runtime': 0.7523, 'eval_samples_per_second': 269.832, 'eval_steps_per_second': 34.56, 'epoch': 20.0}\n"
     ]
    },
    {
     "data": {
      "application/vnd.jupyter.widget-view+json": {
       "model_id": "26418f1d00964a349e61904584d4f87c",
       "version_major": 2,
       "version_minor": 0
      },
      "text/plain": [
       "  0%|          | 0/26 [00:00<?, ?it/s]"
      ]
     },
     "metadata": {},
     "output_type": "display_data"
    },
    {
     "name": "stdout",
     "output_type": "stream",
     "text": [
      "{'eval_loss': 0.7085552215576172, 'eval_precision': 0.5056947608200456, 'eval_recall': 0.6192468619246861, 'eval_f1': 0.5567398119122258, 'eval_accuracy': 0.892101020956475, 'eval_runtime': 0.7477, 'eval_samples_per_second': 271.508, 'eval_steps_per_second': 34.774, 'epoch': 21.0}\n"
     ]
    },
    {
     "data": {
      "application/vnd.jupyter.widget-view+json": {
       "model_id": "1e473cde0f5640a8a014d023d5e95d19",
       "version_major": 2,
       "version_minor": 0
      },
      "text/plain": [
       "  0%|          | 0/26 [00:00<?, ?it/s]"
      ]
     },
     "metadata": {},
     "output_type": "display_data"
    },
    {
     "name": "stdout",
     "output_type": "stream",
     "text": [
      "{'eval_loss': 0.7159950137138367, 'eval_precision': 0.49774774774774777, 'eval_recall': 0.6164574616457462, 'eval_f1': 0.550778816199377, 'eval_accuracy': 0.89263836646964, 'eval_runtime': 0.7421, 'eval_samples_per_second': 273.536, 'eval_steps_per_second': 35.034, 'epoch': 22.0}\n"
     ]
    },
    {
     "data": {
      "application/vnd.jupyter.widget-view+json": {
       "model_id": "e0c1c0a0edf0453b943ca18edffd352f",
       "version_major": 2,
       "version_minor": 0
      },
      "text/plain": [
       "  0%|          | 0/26 [00:00<?, ?it/s]"
      ]
     },
     "metadata": {},
     "output_type": "display_data"
    },
    {
     "name": "stdout",
     "output_type": "stream",
     "text": [
      "{'eval_loss': 0.716690719127655, 'eval_precision': 0.5022779043280182, 'eval_recall': 0.6150627615062761, 'eval_f1': 0.5529780564263322, 'eval_accuracy': 0.8940354648038689, 'eval_runtime': 0.7519, 'eval_samples_per_second': 269.98, 'eval_steps_per_second': 34.579, 'epoch': 23.0}\n"
     ]
    },
    {
     "data": {
      "application/vnd.jupyter.widget-view+json": {
       "model_id": "5ce2e5bca1644f41a8a0c69704962bf9",
       "version_major": 2,
       "version_minor": 0
      },
      "text/plain": [
       "  0%|          | 0/26 [00:00<?, ?it/s]"
      ]
     },
     "metadata": {},
     "output_type": "display_data"
    },
    {
     "name": "stdout",
     "output_type": "stream",
     "text": [
      "{'eval_loss': 0.732965350151062, 'eval_precision': 0.5022779043280182, 'eval_recall': 0.6150627615062761, 'eval_f1': 0.5529780564263322, 'eval_accuracy': 0.893175711982805, 'eval_runtime': 0.7431, 'eval_samples_per_second': 273.186, 'eval_steps_per_second': 34.989, 'epoch': 24.0}\n",
      "{'loss': 0.0056, 'learning_rate': 3.4983498349834986e-06, 'epoch': 24.75}\n"
     ]
    },
    {
     "data": {
      "application/vnd.jupyter.widget-view+json": {
       "model_id": "db18ca118dc24b3f8d237ededfff261f",
       "version_major": 2,
       "version_minor": 0
      },
      "text/plain": [
       "  0%|          | 0/26 [00:00<?, ?it/s]"
      ]
     },
     "metadata": {},
     "output_type": "display_data"
    },
    {
     "name": "stdout",
     "output_type": "stream",
     "text": [
      "{'eval_loss': 0.7256616950035095, 'eval_precision': 0.5126436781609195, 'eval_recall': 0.6220362622036262, 'eval_f1': 0.5620667926906112, 'eval_accuracy': 0.8960773777538957, 'eval_runtime': 0.7401, 'eval_samples_per_second': 274.28, 'eval_steps_per_second': 35.129, 'epoch': 25.0}\n"
     ]
    },
    {
     "data": {
      "application/vnd.jupyter.widget-view+json": {
       "model_id": "0bc48122002e4d4bbe9e7d6eeafc8a7f",
       "version_major": 2,
       "version_minor": 0
      },
      "text/plain": [
       "  0%|          | 0/26 [00:00<?, ?it/s]"
      ]
     },
     "metadata": {},
     "output_type": "display_data"
    },
    {
     "name": "stdout",
     "output_type": "stream",
     "text": [
      "{'eval_loss': 0.7405313849449158, 'eval_precision': 0.49776785714285715, 'eval_recall': 0.6220362622036262, 'eval_f1': 0.5530068195908245, 'eval_accuracy': 0.8918860827512091, 'eval_runtime': 0.7519, 'eval_samples_per_second': 269.969, 'eval_steps_per_second': 34.577, 'epoch': 26.0}\n"
     ]
    },
    {
     "data": {
      "application/vnd.jupyter.widget-view+json": {
       "model_id": "731305a1b2a945a18f72d8dfa871f32e",
       "version_major": 2,
       "version_minor": 0
      },
      "text/plain": [
       "  0%|          | 0/26 [00:00<?, ?it/s]"
      ]
     },
     "metadata": {},
     "output_type": "display_data"
    },
    {
     "name": "stdout",
     "output_type": "stream",
     "text": [
      "{'eval_loss': 0.7301244735717773, 'eval_precision': 0.511441647597254, 'eval_recall': 0.6234309623430963, 'eval_f1': 0.5619107479572596, 'eval_accuracy': 0.8955400322407308, 'eval_runtime': 0.7496, 'eval_samples_per_second': 270.808, 'eval_steps_per_second': 34.685, 'epoch': 27.0}\n"
     ]
    },
    {
     "data": {
      "application/vnd.jupyter.widget-view+json": {
       "model_id": "d6994988f4f444189d14b5a63d15f4a4",
       "version_major": 2,
       "version_minor": 0
      },
      "text/plain": [
       "  0%|          | 0/26 [00:00<?, ?it/s]"
      ]
     },
     "metadata": {},
     "output_type": "display_data"
    },
    {
     "name": "stdout",
     "output_type": "stream",
     "text": [
      "{'eval_loss': 0.7357547283172607, 'eval_precision': 0.5198598130841121, 'eval_recall': 0.6206415620641562, 'eval_f1': 0.5657978385251112, 'eval_accuracy': 0.8951101558301988, 'eval_runtime': 0.7494, 'eval_samples_per_second': 270.868, 'eval_steps_per_second': 34.693, 'epoch': 28.0}\n"
     ]
    },
    {
     "data": {
      "application/vnd.jupyter.widget-view+json": {
       "model_id": "1d5d16612ab8442ebe22d668d1a33c5d",
       "version_major": 2,
       "version_minor": 0
      },
      "text/plain": [
       "  0%|          | 0/26 [00:00<?, ?it/s]"
      ]
     },
     "metadata": {},
     "output_type": "display_data"
    },
    {
     "name": "stdout",
     "output_type": "stream",
     "text": [
      "{'eval_loss': 0.7418428063392639, 'eval_precision': 0.5103211009174312, 'eval_recall': 0.6206415620641562, 'eval_f1': 0.5601006922592826, 'eval_accuracy': 0.8938205265986029, 'eval_runtime': 0.7499, 'eval_samples_per_second': 270.693, 'eval_steps_per_second': 34.67, 'epoch': 29.0}\n",
      "{'loss': 0.0031, 'learning_rate': 1.9801980198019803e-07, 'epoch': 29.7}\n"
     ]
    },
    {
     "data": {
      "application/vnd.jupyter.widget-view+json": {
       "model_id": "6faad3b1b44d40e08bc65c0b1f39cbf8",
       "version_major": 2,
       "version_minor": 0
      },
      "text/plain": [
       "  0%|          | 0/26 [00:00<?, ?it/s]"
      ]
     },
     "metadata": {},
     "output_type": "display_data"
    },
    {
     "name": "stdout",
     "output_type": "stream",
     "text": [
      "{'eval_loss': 0.7424449920654297, 'eval_precision': 0.5097365406643757, 'eval_recall': 0.6206415620641562, 'eval_f1': 0.5597484276729561, 'eval_accuracy': 0.8939279957012359, 'eval_runtime': 0.7455, 'eval_samples_per_second': 272.294, 'eval_steps_per_second': 34.875, 'epoch': 30.0}\n",
      "{'train_runtime': 360.4122, 'train_samples_per_second': 67.256, 'train_steps_per_second': 8.407, 'train_loss': 0.08410851382112543, 'epoch': 30.0}\n"
     ]
    }
   ],
   "source": [
    "from transformers import Trainer\n",
    "\n",
    "trainer = Trainer(\n",
    "    model=model,\n",
    "    args=args,\n",
    "    train_dataset=tokenized_datasets[\"train\"],\n",
    "    eval_dataset=tokenized_datasets[\"test\"],\n",
    "    data_collator=data_collator,\n",
    "    compute_metrics=compute_metrics,\n",
    "    tokenizer=tokenizer,\n",
    ")\n",
    "trainer.train()\n",
    "trainer.save_model(f\"./{model_name}\")"
   ]
  },
  {
   "cell_type": "markdown",
   "metadata": {},
   "source": [
    "## Inference"
   ]
  },
  {
   "cell_type": "code",
   "execution_count": 1,
   "metadata": {
    "tags": []
   },
   "outputs": [
    {
     "name": "stderr",
     "output_type": "stream",
     "text": [
      "2023-09-23 20:05:53.551834: I tensorflow/core/util/port.cc:110] oneDNN custom operations are on. You may see slightly different numerical results due to floating-point round-off errors from different computation orders. To turn them off, set the environment variable `TF_ENABLE_ONEDNN_OPTS=0`.\n",
      "2023-09-23 20:05:53.576448: I tensorflow/core/platform/cpu_feature_guard.cc:182] This TensorFlow binary is optimized to use available CPU instructions in performance-critical operations.\n",
      "To enable the following instructions: AVX2 AVX_VNNI FMA, in other operations, rebuild TensorFlow with the appropriate compiler flags.\n",
      "2023-09-23 20:05:53.960097: W tensorflow/compiler/tf2tensorrt/utils/py_utils.cc:38] TF-TRT Warning: Could not find TensorRT\n"
     ]
    }
   ],
   "source": [
    "from transformers import pipeline\n",
    "from collections import defaultdict\n",
    "\n",
    "# Replace this with your own checkpoint\n",
    "model_checkpoint = \"./deberta-v3-large_v4_30e_split\"\n",
    "token_classifier = pipeline(\n",
    "    \"ner\", model=model_checkpoint, aggregation_strategy=\"simple\"\n",
    ")"
   ]
  },
  {
   "cell_type": "code",
   "execution_count": 2,
   "metadata": {
    "tags": []
   },
   "outputs": [
    {
     "name": "stdout",
     "output_type": "stream",
     "text": [
      "ergonomic papasan chair for everyone : the heavy weight capacity frame is 40 inches wide ( included papasan chair cushion ) and 20 inches deep , making our rattan reading chair suitable and comfortable for different types of bodies ; the papasan chair with cushion and frame can support up to 400 pounds\n"
     ]
    }
   ],
   "source": [
    "def preprocess_description(description):\n",
    "    single_description = description.lower().strip()\n",
    "\n",
    "    # This description contains space between the first and second letter.\n",
    "    # special_description = '''\n",
    "    # ☀️【large size】- the size of the chair is w23.2 \"* l21\" * h40 \", the sitting height is 17\", and they also have a 40 \"high back and a 29\" sitting depth. compared with most chairs on the market, we have increased the back, widened the arm spacing, and lengthened the depth of the seat. you have a stronger sense of space when sitting, and more space for activities.\n",
    "    # '''.strip()\n",
    "\n",
    "    new_description = []\n",
    "    last_special = -1\n",
    "    for idx, letter in enumerate(single_description):\n",
    "        if not (('a' <= letter and letter <= 'z') or ('0' <= letter and letter <= '9') or letter == ' '):\n",
    "            pretext = single_description[last_special + 1:idx].strip()\n",
    "            if pretext != '' and pretext != ' ':\n",
    "                new_description.append(pretext)\n",
    "            new_description.append(letter.strip())\n",
    "            last_special = idx\n",
    "        if idx == len(single_description) - 1:\n",
    "            new_description.append(single_description[last_special + 1:idx + 1].strip())\n",
    "    return \" \".join(new_description)\n",
    "print(preprocess_description(\"ERGONOMIC PAPASAN CHAIR FOR EVERYONE: The heavy weight capacity frame is 40 inches wide (included papasan chair cushion) and 20 inches deep, making our rattan reading chair suitable and comfortable for different types of bodies; The papasan chair with cushion and frame can support up to 400 pounds\"))"
   ]
  },
  {
   "cell_type": "code",
   "execution_count": 10,
   "metadata": {
    "tags": []
   },
   "outputs": [
    {
     "name": "stdout",
     "output_type": "stream",
     "text": [
      "10 % metal , 20 % rattan , 70 % polyester\n",
      "--- HIGH SCORE ---\n",
      "MAT: {'20 % rattan', '10 % metal', '70 % polyester'}\n",
      "--- LOW SCORE ---\n",
      "\n",
      "space efficiency : with a linen accent sofa chair sized 27 \" d x 25 \" w x 34 \" h . this upholstered accent sofa chair with rattan armrest takes up limited space for living room , bedroom , game room , lounge or office . \n",
      "--- HIGH SCORE ---\n",
      "MAT: {'linen'}\n",
      "DIMENSION: {'27 \" d x 25 \" w x 34 \" h'}\n",
      "PROPERTY: {'rattan armrest', 'upholstered'}\n",
      "--- LOW SCORE ---\n",
      "\n",
      "swivel function : you can sit on the swivel sofa chair for gatherings or family time . you can turn it to face different directions easily . with its 360 ° rotation capability , you ' ll effortlessly find the perfect position for ultimate relaxation and comfort . \n",
      "--- HIGH SCORE ---\n",
      "PROPERTY: {'360 ° rotation capability', 'swivel'}\n",
      "--- LOW SCORE ---\n",
      "\n",
      "roomy & cozy : our linen accent sofa chair is crafted for your ultimate relaxation . the upholstered accent chair with rattan armrest is designed to provide support for your arms . whether you ' re settling in for an evening of reading , gaming , or enjoying a movie , this single sofa chair is your ideal companion for unwinding and making the most of your leisure time . \n",
      "--- HIGH SCORE ---\n",
      "MAT: {'linen'}\n",
      "PROPERTY: {'rattan armrest', 'upholstered'}\n",
      "--- LOW SCORE ---\n",
      "\n",
      "robust base & frame : the 360 - degree rotating base is made of durable metal material . rest easy knowing our accent sofa chair boasts a solid frame and high - quality springs . you can use this swivel accent chair with rattan handrails for a long time . \n",
      "--- HIGH SCORE ---\n",
      "PROPERTY: {'solid frame', 'robust base & frame', 'rattan handrails', '360 - degree rotating base', 'springs', 'swivel'}\n",
      "MAT: {'metal'}\n",
      "--- LOW SCORE ---\n",
      "\n",
      "simple assembly : each package comes with a clear and detailed assembly instruction guide . putting together this armchair is a easy task . get ready to welcome your room ' s new , favorite furniture companion with this chair . \n",
      "--- HIGH SCORE ---\n",
      "--- LOW SCORE ---\n",
      "\n"
     ]
    }
   ],
   "source": [
    "description = '''\n",
    "10% Metal, 20% Rattan, 70% Polyester\n",
    "Space Efficiency: With a linen accent sofa chair sized 27\"D x 25\"W x 34\"H. This upholstered accent sofa chair with rattan armrest takes up limited space for living room, bedroom, game room, lounge or office.\n",
    "Swivel Function: You can sit on the swivel sofa chair for gatherings or family time. You can turn it to face different directions easily. With its 360°rotation capability, you'll effortlessly find the perfect position for ultimate relaxation and comfort.\n",
    "Roomy & Cozy: Our linen accent sofa chair is crafted for your ultimate relaxation. The upholstered accent chair with rattan armrest is designed to provide support for your arms. Whether you're settling in for an evening of reading, gaming, or enjoying a movie, this single sofa chair is your ideal companion for unwinding and making the most of your leisure time.\n",
    "Robust Base & Frame: The 360-degree rotating base is made of durable metal material. Rest easy knowing our accent sofa chair boasts a solid frame and high-quality springs. You can use this swivel accent chair with rattan handrails for a long time.\n",
    "Simple Assembly: Each package comes with a clear and detailed assembly instruction guide. Putting together this armchair is a easy task. Get ready to welcome your room's new, favorite furniture companion with this chair.\n",
    "'''\n",
    "\n",
    "bullet_points = description.split(\"\\n\")\n",
    "for bullet_point in bullet_points:\n",
    "    bullet_point = preprocess_description(bullet_point)\n",
    "\n",
    "    if bullet_point != \"\":\n",
    "        print(bullet_point)\n",
    "\n",
    "        low_score_ans = defaultdict(set)\n",
    "        high_score_ans = defaultdict(set)\n",
    "        results = token_classifier(bullet_point)\n",
    "        for res in results:\n",
    "            group = res['entity_group']\n",
    "            if res['score'] >= 0.5:\n",
    "                high_score_ans[group].add(res['word'].lower())\n",
    "            else:\n",
    "                low_score_ans[group].add(res['word'].lower())\n",
    "\n",
    "        print(\"--- HIGH SCORE ---\")\n",
    "        for key in high_score_ans.keys():\n",
    "            line = f\"{key}: {high_score_ans[key]}\"\n",
    "            print(line)\n",
    "\n",
    "        print(\"--- LOW SCORE ---\")\n",
    "        for key in low_score_ans.keys():\n",
    "            line = f\"{key}: {low_score_ans[key]}\"\n",
    "            print(line)\n",
    "        print()"
   ]
  },
  {
   "cell_type": "code",
   "execution_count": 6,
   "metadata": {
    "tags": []
   },
   "outputs": [
    {
     "name": "stdout",
     "output_type": "stream",
     "text": [
      "--- HIGH SCORE ---\n",
      "PROPERTY: {'airy tc inner fabric', '360 degree swivel', 'adjustable', 'smoothly rotating structure', 'thick cushion', 'five levelers', 'padding', 'wicker', 'cushion and', 'three straps', '360 degree swivel papasan chair base', 'papasan cushion', 'elegant design', 'heavy weight capacity frame', 'frame', 'round wicker chair frame', 'papasan chair cushion'}\n",
      "DIMENSION: {'40 inches wide', '6 3/4 inches thickness', '20 inches deep'}\n",
      "MAT: {'solid metal', 'fiber', 'rattan', 'woven resin wicker'}\n",
      "WEIGHT: {'9.48 pounds', '400 pounds'}\n",
      "SHAPE: {'rounded shape'}\n",
      "--- LOW SCORE ---\n"
     ]
    }
   ],
   "source": [
    "description = '''\n",
    "ERGONOMIC PAPASAN CHAIR FOR EVERYONE: The heavy weight capacity frame is 40 inches wide (included papasan chair cushion) and 20 inches deep, making our rattan reading chair suitable and comfortable for different types of bodies; The papasan chair with cushion and frame can support up to 400 pounds\n",
    "\n",
    "HEAVENLY COMFORT WITH PLUMP CUSHION: Our upgraded papasan chair cushion has 9.48 pounds of extra padding fiber, 6 3/4 inches thickness, plus an airy TC inner fabric for added comfort and coziness; Three straps secure the large papasan cushion on the round wicker chair frame, preventing it from slipping away\n",
    "\n",
    "360 DEGREE SWIVEL PAPASAN CHAIR: The papasan chair frame is made of solid metal and expertly woven resin wicker; 360 degree swivel papasan chair base has a smoothly rotating structure without noises and friction; Five levelers protect your floor and are easily adjustable for stability of wicker papasan chair\n",
    "\n",
    "VERSATILE WICKER PAPASAN CHAIR: Our large papasan chair, with its rounded shape and extra thick cushion, adds a cozy inviting space to relax whether you're sitting or curling up; The chair's elegant design complements any room decor, the suitable addition to your living room, bedroom, library or leisure lounge\n",
    "QUICK AND SIMPLE TO ASSEMBLE: Follow our manual to quickly install your reading chair; All necessary accessories, as well as extra backup screws and levelers, are included; With a dedicated customer service team to assist you with any problems; When you acquire our papasan chair with cushion and frame, do not worry about after sales service\n",
    "'''\n",
    "\n",
    "low_score_ans = defaultdict(set)\n",
    "high_score_ans = defaultdict(set)\n",
    "\n",
    "bullet_points = description.split(\"\\n\")\n",
    "for bullet_point in bullet_points:\n",
    "    bullet_point = bullet_point.strip()\n",
    "    if bullet_point != \"\":\n",
    "        results = token_classifier(bullet_point)\n",
    "        for res in results:\n",
    "            group = res['entity_group']\n",
    "            if res['score'] >= 0.5:\n",
    "                high_score_ans[group].add(res['word'].lower())\n",
    "            else:\n",
    "                low_score_ans[group].add(res['word'].lower())\n",
    "\n",
    "print(\"--- HIGH SCORE ---\")\n",
    "for key in high_score_ans.keys():\n",
    "    line = f\"{key}: {high_score_ans[key]}\"\n",
    "    print(line)\n",
    "\n",
    "print(\"--- LOW SCORE ---\")\n",
    "for key in low_score_ans.keys():\n",
    "    line = f\"{key}: {low_score_ans[key]}\"\n",
    "    print(line)"
   ]
  },
  {
   "cell_type": "markdown",
   "metadata": {},
   "source": [
    "## Multiple Inference"
   ]
  },
  {
   "cell_type": "code",
   "execution_count": null,
   "metadata": {
    "tags": []
   },
   "outputs": [
    {
     "data": {
      "text/plain": [
       "[{'entity_group': 'PROPERTY',\n",
       "  'score': 0.9972402,\n",
       "  'word': 'inner - weave',\n",
       "  'start': 14,\n",
       "  'end': 25},\n",
       " {'entity_group': 'PROPERTY',\n",
       "  'score': 0.99640507,\n",
       "  'word': 'cross - stitched canvas inside lining',\n",
       "  'start': 27,\n",
       "  'end': 62}]"
      ]
     },
     "execution_count": 23,
     "metadata": {},
     "output_type": "execute_result"
    }
   ],
   "source": [
    "from transformers import pipeline\n",
    "\n",
    "# Replace this with your own checkpoint\n",
    "model_checkpoint = \"./bert-finetuned-ner\"\n",
    "model = pipeline(\n",
    "    \"ner\", model=model_checkpoint, aggregation_strategy=\"simple\"\n",
    ")\n",
    "token_classifier(description)"
   ]
  },
  {
   "cell_type": "markdown",
   "metadata": {},
   "source": [
    "## Text clustering"
   ]
  },
  {
   "cell_type": "code",
   "execution_count": null,
   "metadata": {},
   "outputs": [
    {
     "name": "stderr",
     "output_type": "stream",
     "text": [
      "2023-09-08 14:47:20.625248: I tensorflow/core/util/port.cc:110] oneDNN custom operations are on. You may see slightly different numerical results due to floating-point round-off errors from different computation orders. To turn them off, set the environment variable `TF_ENABLE_ONEDNN_OPTS=0`.\n",
      "2023-09-08 14:47:20.650816: I tensorflow/core/platform/cpu_feature_guard.cc:182] This TensorFlow binary is optimized to use available CPU instructions in performance-critical operations.\n",
      "To enable the following instructions: AVX2 AVX_VNNI FMA, in other operations, rebuild TensorFlow with the appropriate compiler flags.\n",
      "2023-09-08 14:47:21.018300: W tensorflow/compiler/tf2tensorrt/utils/py_utils.cc:38] TF-TRT Warning: Could not find TensorRT\n"
     ]
    },
    {
     "name": "stdout",
     "output_type": "stream",
     "text": [
      "The new movie is awesome \t\t The new movie is so great \t\t Score: 0.8939\n",
      "The cat sits outside \t\t The cat plays in the garden \t\t Score: 0.6788\n",
      "I love pasta \t\t Do you like pizza? \t\t Score: 0.5096\n",
      "I love pasta \t\t The new movie is so great \t\t Score: 0.2560\n",
      "I love pasta \t\t The new movie is awesome \t\t Score: 0.2440\n",
      "A man is playing guitar \t\t The cat plays in the garden \t\t Score: 0.2105\n",
      "The new movie is awesome \t\t Do you like pizza? \t\t Score: 0.1969\n",
      "The new movie is so great \t\t Do you like pizza? \t\t Score: 0.1692\n",
      "The cat sits outside \t\t A woman watches TV \t\t Score: 0.1310\n",
      "The cat plays in the garden \t\t Do you like pizza? \t\t Score: 0.0900\n"
     ]
    }
   ],
   "source": [
    "from sentence_transformers import SentenceTransformer, util\n",
    "\n",
    "model = SentenceTransformer('all-MiniLM-L6-v2')\n",
    "\n",
    "# Single list of sentences - Possible tens of thousands of sentences\n",
    "sentences = ['The cat sits outside',\n",
    "             'A man is playing guitar',\n",
    "             'I love pasta',\n",
    "             'The new movie is awesome',\n",
    "             'The cat plays in the garden',\n",
    "             'A woman watches TV',\n",
    "             'The new movie is so great',\n",
    "             'Do you like pizza?']\n",
    "\n",
    "paraphrases = util.paraphrase_mining(model, sentences)\n",
    "\n",
    "for paraphrase in paraphrases[0:10]:\n",
    "    score, i, j = paraphrase\n",
    "    print(\"{} \\t\\t {} \\t\\t Score: {:.4f}\".format(sentences[i], sentences[j], score))"
   ]
  },
  {
   "cell_type": "code",
   "execution_count": 37,
   "metadata": {},
   "outputs": [
    {
     "name": "stdout",
     "output_type": "stream",
     "text": [
      "Unexpected exception formatting exception. Falling back to standard exception\n"
     ]
    },
    {
     "name": "stderr",
     "output_type": "stream",
     "text": [
      "Traceback (most recent call last):\n",
      "  File \"/home/tanluuuuuuu/miniconda3/envs/one_for_all/lib/python3.8/site-packages/transformers/utils/import_utils.py\", line 1099, in _get_module\n",
      "  File \"/home/tanluuuuuuu/miniconda3/envs/one_for_all/lib/python3.8/importlib/__init__.py\", line 127, in import_module\n",
      "    return _bootstrap._gcd_import(name[level:], package, level)\n",
      "  File \"<frozen importlib._bootstrap>\", line 1014, in _gcd_import\n",
      "  File \"<frozen importlib._bootstrap>\", line 991, in _find_and_load\n",
      "  File \"<frozen importlib._bootstrap>\", line 973, in _find_and_load_unlocked\n",
      "ModuleNotFoundError: No module named 'transformers.models.bark.configuration_bark'\n",
      "\n",
      "The above exception was the direct cause of the following exception:\n",
      "\n",
      "Traceback (most recent call last):\n",
      "  File \"/home/tanluuuuuuu/miniconda3/envs/one_for_all/lib/python3.8/site-packages/IPython/core/interactiveshell.py\", line 3505, in run_code\n",
      "    exec(code_obj, self.user_global_ns, self.user_ns)\n",
      "  File \"/tmp/ipykernel_1263886/2283165407.py\", line 5, in <module>\n",
      "    model = SentenceTransformer('all-MiniLM-L6-v2')\n",
      "  File \"/home/tanluuuuuuu/miniconda3/envs/one_for_all/lib/python3.8/site-packages/sentence_transformers/SentenceTransformer.py\", line 95, in __init__\n",
      "    modules = self._load_sbert_model(model_path)\n",
      "  File \"/home/tanluuuuuuu/miniconda3/envs/one_for_all/lib/python3.8/site-packages/sentence_transformers/SentenceTransformer.py\", line 840, in _load_sbert_model\n",
      "    module = module_class.load(os.path.join(model_path, module_config['path']))\n",
      "  File \"/home/tanluuuuuuu/miniconda3/envs/one_for_all/lib/python3.8/site-packages/sentence_transformers/models/Transformer.py\", line 137, in load\n",
      "    return Transformer(model_name_or_path=input_path, **config)\n",
      "  File \"/home/tanluuuuuuu/miniconda3/envs/one_for_all/lib/python3.8/site-packages/sentence_transformers/models/Transformer.py\", line 29, in __init__\n",
      "    self._load_model(model_name_or_path, config, cache_dir)\n",
      "  File \"/home/tanluuuuuuu/miniconda3/envs/one_for_all/lib/python3.8/site-packages/sentence_transformers/models/Transformer.py\", line 49, in _load_model\n",
      "    self.auto_model = AutoModel.from_pretrained(model_name_or_path, config=config, cache_dir=cache_dir)\n",
      "  File \"/home/tanluuuuuuu/miniconda3/envs/one_for_all/lib/python3.8/site-packages/transformers/models/auto/auto_factory.py\", line 474, in from_pretrained\n",
      "    class_ref = config.auto_map[cls.__name__]\n",
      "  File \"/home/tanluuuuuuu/miniconda3/envs/one_for_all/lib/python3.8/site-packages/transformers/models/auto/auto_factory.py\", line 683, in keys\n",
      "    return self.__getitem__(key)\n",
      "  File \"/home/tanluuuuuuu/miniconda3/envs/one_for_all/lib/python3.8/site-packages/transformers/models/auto/auto_factory.py\", line 684, in <listcomp>\n",
      "    except KeyError:\n",
      "  File \"/home/tanluuuuuuu/miniconda3/envs/one_for_all/lib/python3.8/site-packages/transformers/models/auto/auto_factory.py\", line 680, in _load_attr_from_module\n",
      "  File \"/home/tanluuuuuuu/miniconda3/envs/one_for_all/lib/python3.8/site-packages/transformers/models/auto/auto_factory.py\", line 625, in getattribute_from_module\n",
      "    except ValueError:\n",
      "  File \"/home/tanluuuuuuu/miniconda3/envs/one_for_all/lib/python3.8/site-packages/transformers/utils/import_utils.py\", line 1089, in __getattr__\n",
      "    f\"Failed to import {self.__name__}.{module_name} because of the following error (look up to see its\"\n",
      "  File \"/home/tanluuuuuuu/miniconda3/envs/one_for_all/lib/python3.8/site-packages/transformers/utils/import_utils.py\", line 1101, in _get_module\n",
      "    def direct_transformers_import(path: str, file=\"__init__.py\") -> ModuleType:\n",
      "RuntimeError: Failed to import transformers.models.bark.configuration_bark because of the following error (look up to see its traceback):\n",
      "No module named 'transformers.models.bark.configuration_bark'\n",
      "\n",
      "During handling of the above exception, another exception occurred:\n",
      "\n",
      "Traceback (most recent call last):\n",
      "  File \"/home/tanluuuuuuu/miniconda3/envs/one_for_all/lib/python3.8/site-packages/IPython/core/interactiveshell.py\", line 2102, in showtraceback\n",
      "    stb = self.InteractiveTB.structured_traceback(\n",
      "  File \"/home/tanluuuuuuu/miniconda3/envs/one_for_all/lib/python3.8/site-packages/IPython/core/ultratb.py\", line 1310, in structured_traceback\n",
      "    return FormattedTB.structured_traceback(\n",
      "  File \"/home/tanluuuuuuu/miniconda3/envs/one_for_all/lib/python3.8/site-packages/IPython/core/ultratb.py\", line 1199, in structured_traceback\n",
      "    return VerboseTB.structured_traceback(\n",
      "  File \"/home/tanluuuuuuu/miniconda3/envs/one_for_all/lib/python3.8/site-packages/IPython/core/ultratb.py\", line 1052, in structured_traceback\n",
      "    formatted_exception = self.format_exception_as_a_whole(etype, evalue, etb, number_of_lines_of_context,\n",
      "  File \"/home/tanluuuuuuu/miniconda3/envs/one_for_all/lib/python3.8/site-packages/IPython/core/ultratb.py\", line 978, in format_exception_as_a_whole\n",
      "    frames.append(self.format_record(record))\n",
      "  File \"/home/tanluuuuuuu/miniconda3/envs/one_for_all/lib/python3.8/site-packages/IPython/core/ultratb.py\", line 878, in format_record\n",
      "    frame_info.lines, Colors, self.has_colors, lvals\n",
      "  File \"/home/tanluuuuuuu/miniconda3/envs/one_for_all/lib/python3.8/site-packages/IPython/core/ultratb.py\", line 712, in lines\n",
      "    return self._sd.lines\n",
      "  File \"/home/tanluuuuuuu/miniconda3/envs/one_for_all/lib/python3.8/site-packages/stack_data/utils.py\", line 145, in cached_property_wrapper\n",
      "    value = obj.__dict__[self.func.__name__] = self.func(obj)\n",
      "  File \"/home/tanluuuuuuu/miniconda3/envs/one_for_all/lib/python3.8/site-packages/stack_data/core.py\", line 698, in lines\n",
      "    pieces = self.included_pieces\n",
      "  File \"/home/tanluuuuuuu/miniconda3/envs/one_for_all/lib/python3.8/site-packages/stack_data/utils.py\", line 145, in cached_property_wrapper\n",
      "    value = obj.__dict__[self.func.__name__] = self.func(obj)\n",
      "  File \"/home/tanluuuuuuu/miniconda3/envs/one_for_all/lib/python3.8/site-packages/stack_data/core.py\", line 649, in included_pieces\n",
      "    pos = scope_pieces.index(self.executing_piece)\n",
      "  File \"/home/tanluuuuuuu/miniconda3/envs/one_for_all/lib/python3.8/site-packages/stack_data/utils.py\", line 145, in cached_property_wrapper\n",
      "    value = obj.__dict__[self.func.__name__] = self.func(obj)\n",
      "  File \"/home/tanluuuuuuu/miniconda3/envs/one_for_all/lib/python3.8/site-packages/stack_data/core.py\", line 628, in executing_piece\n",
      "    return only(\n",
      "  File \"/home/tanluuuuuuu/miniconda3/envs/one_for_all/lib/python3.8/site-packages/executing/executing.py\", line 164, in only\n",
      "    raise NotOneValueFound('Expected one value, found 0')\n",
      "executing.executing.NotOneValueFound: Expected one value, found 0\n"
     ]
    }
   ],
   "source": [
    "from sklearn.cluster import DBSCAN\n",
    "from collections import defaultdict\n",
    "from sentence_transformers import SentenceTransformer\n",
    "\n",
    "model = SentenceTransformer('all-MiniLM-L6-v2')\n",
    "\n",
    "list_noun_phrase = [\n",
    "    'vinyl coated', 'wide, smooth handle', 'durable vinyl coated finish', 'textured handle', 'increase durability', 'stability', 'flat bottom', 'reduce noise', 'protect flooring', 'any age', 'wide range of weights', 'prevent corrosion', 'high-quality', 'comfortable & secure grip', 'upright storage',\n",
    "    'bands', 'resistance bands', 'exercise band',\n",
    "    'all-purpose color', 'easier storage', 'better grip', 'coated', 'easy recognition of the weight', 'prevent rolling',\n",
    "    'flat bottom', 'textured wide handle', 'non-slip grip',\n",
    "    'glossy finish wide', 'smooth handle', 'black paint finish', 'smooth, slightly textured handle',\n",
    "    'solid smooth', 'rubber base', 'wide, smooth handle', 'smooth, slightly textured handle',\n",
    "    'increase durability', 'functional fitness', 'versatile', 'stability', 'flat bottom', 'better grip strength', 'adjustable', 'prevent corrosion', 'glossy finish', 'comfortable & secure grip', 'upright storage',\n",
    "\n",
    "    'easier on wrist', 'precision made', 'stamped in', 'strong grip handles', 'forearm', 'easier to maintain a strong', 'durable', 'recessed logos', 'powder coating', 'smooth finish', 'gravity casting', '##y', 'close'\n",
    "]\n",
    "embeddings = model.encode(list_noun_phrase)\n",
    "\n",
    "\n",
    "cluster = DBSCAN(eps = 0.4, min_samples = 1, metric = 'cosine').fit(embeddings)\n",
    "\n",
    "\n",
    "clusters = defaultdict(list)\n",
    "\n",
    "for i, label in enumerate(cluster.labels_):\n",
    "    clusters[label].append(list_noun_phrase[i])\n",
    "display(clusters)"
   ]
  },
  {
   "cell_type": "markdown",
   "metadata": {},
   "source": [
    "## Fix format COLNN2003"
   ]
  },
  {
   "cell_type": "code",
   "execution_count": 8,
   "metadata": {},
   "outputs": [
    {
     "name": "stdout",
     "output_type": "stream",
     "text": [
      "👉 -X- _ O\n",
      "【 -X- _ O\n",
      "EASY -X- _ B-FEATURE\n"
     ]
    }
   ],
   "source": [
    "label0 = '-X- _ O'\n",
    "\n",
    "line = '👉【EASY -X- _ B-FEATURE'\n",
    "\n",
    "word = line.split(\" \")[0]\n",
    "label = line.split(\" \")[1:]\n",
    "\n",
    "idx = word.find(\"【\")\n",
    "\n",
    "line1 = word[:idx] + \" \" + label0\n",
    "\n",
    "line2 = \"【\" + \" \" + label0\n",
    "\n",
    "line3 = word[idx + 1:] + \" \" + \" \".join(label) \n",
    "\n",
    "print(line1)\n",
    "print(line2)\n",
    "print(line3)"
   ]
  },
  {
   "cell_type": "code",
   "execution_count": 12,
   "metadata": {},
   "outputs": [
    {
     "name": "stdout",
     "output_type": "stream",
     "text": [
      "['-X-', '_', 'B-FEATURE']\n",
      "【 -X- _ O\n",
      "UNFILLED -X- _ B-FEATURE\n",
      "】 -X- _ O\n"
     ]
    }
   ],
   "source": [
    "LABEL0 = '-X- _ O'\n",
    "\n",
    "line = '【UNFILLED】 -X- _ B-FEATURE'\n",
    "\n",
    "word = line.split(\" \")[0]\n",
    "label = line.split(\" \")[1:]\n",
    "print(label)\n",
    "\n",
    "idxl = word.find(\"【\")\n",
    "idxr = word.find(\"】\")\n",
    "\n",
    "line1 = word[:idxl + 1] + \" \" + LABEL0\n",
    "\n",
    "line2 = word[idxl + 1: idxr] + \" \" + \" \".join(label) \n",
    "\n",
    "line3 = word[idxr: ] + \" \" + LABEL0\n",
    "\n",
    "print(line1)\n",
    "print(line2)\n",
    "print(line3)"
   ]
  },
  {
   "cell_type": "code",
   "execution_count": 18,
   "metadata": {},
   "outputs": [
    {
     "name": "stdout",
     "output_type": "stream",
     "text": [
      "Accessories -X- _ O\n",
      "】 -X- _ O\n",
      "Includes：1 -X- _ B-PROPERTY\n"
     ]
    }
   ],
   "source": [
    "LABEL0 = '-X- _ O'\n",
    "\n",
    "line = 'Accessories】Includes：1 -X- _ B-PROPERTY'\n",
    "line = 'Waterproof】The -X- _ B-FEATURE'\n",
    "\n",
    "word = line.split(\" \")[0]\n",
    "label = line.split(\" \")[1:]\n",
    "\n",
    "idx = word.find(\"】\")\n",
    "\n",
    "if \"I-\" in \" \".join(label):\n",
    "    line1 = word[:idx] + \" \" + \" \".join(label)\n",
    "else:\n",
    "    line1 = word[:idx] + \" \" + LABEL0\n",
    "\n",
    "line2 = \"】\" + \" \" + LABEL0 \n",
    "\n",
    "if \"B-\" in \" \".join(label):\n",
    "    line3 = word[idx + 1: ] + \" \" + \" \".join(label)\n",
    "else:\n",
    "    line3 = word[idx + 1: ] + \" \" + LABEL0\n",
    "\n",
    "print(line1)\n",
    "print(line2)\n",
    "print(line3)"
   ]
  }
 ],
 "metadata": {
  "kernelspec": {
   "display_name": "Python 3 (ipykernel)",
   "language": "python",
   "name": "python3"
  },
  "language_info": {
   "codemirror_mode": {
    "name": "ipython",
    "version": 3
   },
   "file_extension": ".py",
   "mimetype": "text/x-python",
   "name": "python",
   "nbconvert_exporter": "python",
   "pygments_lexer": "ipython3",
   "version": "3.8.10"
  }
 },
 "nbformat": 4,
 "nbformat_minor": 4
}
